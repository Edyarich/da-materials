{
 "cells": [
  {
   "cell_type": "markdown",
   "metadata": {
    "id": "KRW0CnH3hZHN"
   },
   "source": [
    "# Lab 2: Deep Q-Network implementation\n",
    "\n",
    "This homework shamelessly demands you to implement a DQN - an approximate q-learning algorithm with experience replay and target networks - and see if it works any better this way.\n",
    "\n",
    "Original paper:\n",
    "https://arxiv.org/pdf/1312.5602.pdf"
   ]
  },
  {
   "cell_type": "markdown",
   "metadata": {
    "id": "pNIGobRphZHP"
   },
   "source": [
    "**This notebook is the main notebook.** Another notebook is given for debug. The tasks are similar and share most of the code. The main difference is in environments. In main notebook it can take some 2 hours for the agent to start improving so it seems reasonable to launch the algorithm on a simpler env first. Here it is CartPole and it will train in several minutes.\n",
    "\n",
    "**We suggest the following pipeline:** First implement debug notebook then implement the main one."
   ]
  },
  {
   "cell_type": "code",
   "execution_count": 1,
   "metadata": {
    "colab": {
     "base_uri": "https://localhost:8080/"
    },
    "executionInfo": {
     "elapsed": 32205,
     "status": "ok",
     "timestamp": 1653807435957,
     "user": {
      "displayName": "Эдуард Владимиров",
      "userId": "14735161405060058812"
     },
     "user_tz": -180
    },
    "id": "3bDTYFQWhZHQ",
    "outputId": "b443a14f-4d41-4263-9b83-ffe031fe3668"
   },
   "outputs": [
    {
     "name": "stdout",
     "output_type": "stream",
     "text": [
      "Selecting previously unselected package xvfb.\n",
      "(Reading database ... 155629 files and directories currently installed.)\n",
      "Preparing to unpack .../xvfb_2%3a1.19.6-1ubuntu4.10_amd64.deb ...\n",
      "Unpacking xvfb (2:1.19.6-1ubuntu4.10) ...\n",
      "Setting up xvfb (2:1.19.6-1ubuntu4.10) ...\n",
      "Processing triggers for man-db (2.8.3-2ubuntu0.1) ...\n",
      "Starting virtual X frame buffer: Xvfb.\n"
     ]
    }
   ],
   "source": [
    "import os\n",
    "import sys\n",
    "\n",
    "\n",
    "if \"google.colab\" in sys.modules and not os.path.exists(\".setup_complete\"):\n",
    "    !wget -q https://raw.githubusercontent.com/yandexdataschool/Practical_RL/master/setup_colab.sh -O- | bash\n",
    "    !wget -q https://raw.githubusercontent.com/girafe-ai/ml-mipt/develop_advanced_practice/homeworks_advanced/Lab2_RL/replay_buffer.py\n",
    "    !wget -q https://raw.githubusercontent.com/girafe-ai/ml-mipt/develop_advanced_practice/homeworks_advanced/Lab2_RL/utils.py\n",
    "    !wget -q https://raw.githubusercontent.com/girafe-ai/ml-mipt/develop_advanced_practice/homeworks_advanced/Lab2_RL/atari_wrappers.py\n",
    "    !wget -q https://raw.githubusercontent.com/girafe-ai/ml-mipt/develop_advanced_practice/homeworks_advanced/Lab2_RL/framebuffer.py\n",
    "    !touch .setup_complete\n",
    "\n",
    "# This code creates a virtual display to draw game images on.\n",
    "# It will have no effect if your machine has a monitor.\n",
    "if type(os.environ.get(\"DISPLAY\")) is not str or len(os.environ.get(\"DISPLAY\")) == 0:\n",
    "    !bash ../xvfb start\n",
    "    os.environ[\"DISPLAY\"] = \":1\""
   ]
  },
  {
   "cell_type": "markdown",
   "metadata": {
    "id": "bxoEdZ-ehZHS"
   },
   "source": [
    "## Let's play some old videogames\n",
    "![img](https://github.com/yandexdataschool/Practical_RL/raw/master/yet_another_week/_resource/nerd.png)\n",
    "\n",
    "This time we're gonna apply approximate q-learning to an atari game called Breakout. It's not the hardest thing out there, but it's definitely way more complex than anything we tried before.\n"
   ]
  },
  {
   "cell_type": "markdown",
   "metadata": {
    "id": "lRvEHGmFhZHT"
   },
   "source": [
    "## Preprocessing "
   ]
  },
  {
   "cell_type": "markdown",
   "metadata": {
    "id": "UWvswpiEhZHT"
   },
   "source": [
    "Let's see what observations look like."
   ]
  },
  {
   "cell_type": "code",
   "execution_count": 2,
   "metadata": {
    "colab": {
     "base_uri": "https://localhost:8080/",
     "height": 520
    },
    "executionInfo": {
     "elapsed": 2088,
     "status": "ok",
     "timestamp": 1653807438039,
     "user": {
      "displayName": "Эдуард Владимиров",
      "userId": "14735161405060058812"
     },
     "user_tz": -180
    },
    "id": "jhZVBTz0hZHT",
    "outputId": "bf50a57c-41da-4027-800b-ae0f64f64af7"
   },
   "outputs": [
    {
     "data": {
      "image/png": "[encoded data removed]",
      "text/plain": [
       "<Figure size 1152x648 with 10 Axes>"
      ]
     },
     "metadata": {
      "needs_background": "light"
     },
     "output_type": "display_data"
    }
   ],
   "source": [
    "import gym\n",
    "import matplotlib.pyplot as plt\n",
    "\n",
    "\n",
    "env = gym.make(\"BreakoutNoFrameskip-v4\")\n",
    "env.reset()\n",
    "\n",
    "_, axes = plt.subplots(nrows=2, ncols=5, figsize=(16, 9))\n",
    "\n",
    "for ax in axes.flatten():\n",
    "    ax.imshow(env.render('rgb_array'))\n",
    "    env.step(env.action_space.sample())\n",
    "\n",
    "plt.show()"
   ]
  },
  {
   "cell_type": "markdown",
   "metadata": {
    "id": "qlzsddHjhZHT"
   },
   "source": [
    "If you are working in a local jupyter (as opposed to colab), you actually can play the game with the following code:\n",
    "\n",
    "```\n",
    "from gym.utils.play import play\n",
    "play(env=gym.make(\"BreakoutNoFrameskip-v4\"), zoom=5, fps=30)\n",
    "```\n",
    "\n",
    "Pay attention to zoom and fps args of play function. Controls are A, D and space."
   ]
  },
  {
   "cell_type": "markdown",
   "metadata": {
    "id": "mVWBMsmrhZHU"
   },
   "source": [
    "### Processing game image \n",
    "\n",
    "Raw atari images are large, 210x160x3 by default. However, we don't need that level of detail in order to learn them.\n",
    "\n",
    "We can thus save a lot of time by preprocessing game image, including\n",
    "* Resizing to a smaller shape, 64 x 64\n",
    "* Converting to grayscale\n",
    "* Cropping irrelevant image parts (top, bottom and edges)\n",
    "\n",
    "Also please keep one dimension for channel so that final shape would be 1 x 64 x 64.\n",
    "\n",
    "Tip: You can implement your own grayscale converter and assign a huge weight to the red channel. This dirty trick is not necessary but it will speed up learning."
   ]
  },
  {
   "cell_type": "code",
   "execution_count": 3,
   "metadata": {
    "colab": {
     "base_uri": "https://localhost:8080/",
     "height": 286
    },
    "executionInfo": {
     "elapsed": 296,
     "status": "ok",
     "timestamp": 1653807438323,
     "user": {
      "displayName": "Эдуард Владимиров",
      "userId": "14735161405060058812"
     },
     "user_tz": -180
    },
    "id": "afJlUZnTOZgi",
    "outputId": "54f71657-f044-4038-92f5-44c2f3d74cd1"
   },
   "outputs": [
    {
     "data": {
      "text/plain": [
       "<matplotlib.image.AxesImage at 0x7f1a9bc49350>"
      ]
     },
     "execution_count": 3,
     "metadata": {},
     "output_type": "execute_result"
    },
    {
     "data": {
      "image/png": "[encoded data removed]",
      "text/plain": [
       "<Figure size 432x288 with 1 Axes>"
      ]
     },
     "metadata": {
      "needs_background": "light"
     },
     "output_type": "display_data"
    }
   ],
   "source": [
    "plt.imshow(env.render('rgb_array')[55:-15, 7:-7])"
   ]
  },
  {
   "cell_type": "code",
   "execution_count": 4,
   "metadata": {
    "executionInfo": {
     "elapsed": 3,
     "status": "ok",
     "timestamp": 1653807438324,
     "user": {
      "displayName": "Эдуард Владимиров",
      "userId": "14735161405060058812"
     },
     "user_tz": -180
    },
    "id": "rOH5Zm8VhZHU"
   },
   "outputs": [],
   "source": [
    "from gym.core import ObservationWrapper\n",
    "from gym.spaces import Box\n",
    "from PIL import Image\n",
    "\n",
    "\n",
    "class PreprocessAtariObs(ObservationWrapper):\n",
    "    def __init__(self, env):\n",
    "        \"\"\"A gym wrapper that crops, scales image into the desired shapes and grayscales it.\"\"\"\n",
    "        super().__init__(env)\n",
    "        self.img_size = (1, 64, 64)\n",
    "        self.observation_space = Box(0.0, 1.0, self.img_size)\n",
    "\n",
    "    def _to_gray_scale(self, rgb, channel_weights=[0.8, 0.1, 0.1]):\n",
    "        return np.sum(rgb * np.array([[channel_weights]]), axis=-1, keepdims=True)\n",
    "\n",
    "    def observation(self, img):\n",
    "        \"\"\"what happens to each observation\"\"\"\n",
    "        # Here's what you need to do:\n",
    "        #  * crop image, remove irrelevant parts\n",
    "        #  * resize image to self.img_size\n",
    "        #     (use imresize from any library you want,\n",
    "        #      e.g. opencv, skimage, PIL, keras)\n",
    "        #  * cast image to grayscale\n",
    "        #  * convert image pixels to (0,1) range, float32 type\n",
    "        height, width, _ = img.shape\n",
    "\n",
    "        pil_image = Image.fromarray(np.uint8(img)).convert('RGB')\n",
    "        pil_image = pil_image.crop((7, 55, width-7, height-15))\n",
    "        pil_image = pil_image.resize(self.img_size[1:])\n",
    "\n",
    "        np_image = self._to_gray_scale(np.array(pil_image, dtype=float))\n",
    "        np_image = np.transpose(np_image, axes=(2, 0, 1)).astype(np.float32)\n",
    "\n",
    "        return np_image / 255"
   ]
  },
  {
   "cell_type": "code",
   "execution_count": 5,
   "metadata": {
    "colab": {
     "base_uri": "https://localhost:8080/",
     "height": 488
    },
    "executionInfo": {
     "elapsed": 1293,
     "status": "ok",
     "timestamp": 1653807439614,
     "user": {
      "displayName": "Эдуард Владимиров",
      "userId": "14735161405060058812"
     },
     "user_tz": -180
    },
    "id": "dpJillghhZHU",
    "outputId": "49d9764d-ec7f-4b73-c215-6cc1a0746d3d"
   },
   "outputs": [
    {
     "name": "stdout",
     "output_type": "stream",
     "text": [
      "Formal tests seem fine. Here's an example of what you'll get.\n"
     ]
    },
    {
     "data": {
      "image/png": "[encoded data removed]",
      "text/plain": [
       "<Figure size 1152x648 with 10 Axes>"
      ]
     },
     "metadata": {
      "needs_background": "light"
     },
     "output_type": "display_data"
    }
   ],
   "source": [
    "import numpy as np\n",
    "\n",
    "\n",
    "# spawn game instance for tests\n",
    "env = gym.make(\"BreakoutNoFrameskip-v4\")\n",
    "env = PreprocessAtariObs(env)\n",
    "state_shape = env.observation_space.shape\n",
    "n_actions = env.action_space.n\n",
    "env.reset()\n",
    "obs, _, _, _ = env.step(env.action_space.sample())\n",
    "\n",
    "# test observation\n",
    "assert obs.ndim == 3, \"observation must be [channel, h, w] even if there's just one channel\"\n",
    "assert obs.shape == state_shape\n",
    "assert obs.dtype == 'float32'\n",
    "assert len(np.unique(obs)) > 2, \"your image must not be binary\"\n",
    "assert 0 <= np.min(obs) and np.max(obs) <= 1, \"convert image pixels to [0,1] range\"\n",
    "\n",
    "print(\"Formal tests seem fine. Here's an example of what you'll get.\")\n",
    "\n",
    "n_cols = 5\n",
    "n_rows = 2\n",
    "fig = plt.figure(figsize=(16, 9))\n",
    "obs = env.reset()\n",
    "for row in range(n_rows):\n",
    "    for col in range(n_cols):\n",
    "        ax = fig.add_subplot(n_rows, n_cols, row * n_cols + col + 1)\n",
    "        ax.imshow(obs[0, :, :], interpolation='none', cmap='gray')\n",
    "        obs, _, _, _ = env.step(env.action_space.sample())\n",
    "plt.show()"
   ]
  },
  {
   "cell_type": "markdown",
   "metadata": {
    "id": "rVSDpD0phZHU"
   },
   "source": [
    "### Wrapping."
   ]
  },
  {
   "cell_type": "markdown",
   "metadata": {
    "id": "OTGN0psNhZHV"
   },
   "source": [
    "**About the game:** You have 5 lives and get points for breaking the wall. Higher bricks cost more than the lower ones. There are 4 actions: start game (should be called at the beginning and after each life is lost), move left, move right and do nothing. There are some common wrappers used for Atari environments."
   ]
  },
  {
   "cell_type": "code",
   "execution_count": 6,
   "metadata": {
    "executionInfo": {
     "elapsed": 7,
     "status": "ok",
     "timestamp": 1653807439615,
     "user": {
      "displayName": "Эдуард Владимиров",
      "userId": "14735161405060058812"
     },
     "user_tz": -180
    },
    "id": "AVNSZ0LWhZHV"
   },
   "outputs": [],
   "source": [
    "import atari_wrappers\n",
    "\n",
    "\n",
    "def PrimaryAtariWrap(env, clip_rewards=True):\n",
    "    assert 'NoFrameskip' in env.spec.id\n",
    "\n",
    "    # This wrapper holds the same action for <skip> frames and outputs\n",
    "    # the maximal pixel value of 2 last frames (to handle blinking\n",
    "    # in some envs)\n",
    "    env = atari_wrappers.MaxAndSkipEnv(env, skip=4)\n",
    "\n",
    "    # This wrapper sends done=True when each life is lost\n",
    "    # (not all the 5 lives that are given by the game rules).\n",
    "    # It should make easier for the agent to understand that losing is bad.\n",
    "    env = atari_wrappers.EpisodicLifeEnv(env)\n",
    "\n",
    "    # This wrapper laucnhes the ball when an episode starts.\n",
    "    # Without it the agent has to learn this action, too.\n",
    "    # Actually it can but learning would take longer.\n",
    "    env = atari_wrappers.FireResetEnv(env)\n",
    "\n",
    "    # This wrapper transforms rewards to {-1, 0, 1} according to their sign\n",
    "    if clip_rewards:\n",
    "        env = atari_wrappers.ClipRewardEnv(env)\n",
    "\n",
    "    # This wrapper is yours :)\n",
    "    env = PreprocessAtariObs(env)\n",
    "    return env"
   ]
  },
  {
   "cell_type": "markdown",
   "metadata": {
    "id": "3fh2WR-XhZHV"
   },
   "source": [
    "### Frame buffer\n",
    "\n",
    "Our agent can only process one observation at a time, so we gotta make sure it contains enough information to find optimal actions. For instance, agent has to react to moving objects so he must be able to measure object's velocity.\n",
    "\n",
    "To do so, we introduce a buffer that stores 4 last images. This time everything is pre-implemented for you, not really by the staff of the course :)"
   ]
  },
  {
   "cell_type": "code",
   "execution_count": 7,
   "metadata": {
    "executionInfo": {
     "elapsed": 251,
     "status": "ok",
     "timestamp": 1653807439860,
     "user": {
      "displayName": "Эдуард Владимиров",
      "userId": "14735161405060058812"
     },
     "user_tz": -180
    },
    "id": "8dzs0mQ7hZHV",
    "scrolled": true
   },
   "outputs": [],
   "source": [
    "from framebuffer import FrameBuffer\n",
    "\n",
    "\n",
    "def make_env(clip_rewards=True, seed=None):\n",
    "    env = gym.make(\"BreakoutNoFrameskip-v4\")  # create raw env\n",
    "    if seed is not None:\n",
    "        env.seed(seed)\n",
    "\n",
    "    env = PrimaryAtariWrap(env, clip_rewards)\n",
    "    env = FrameBuffer(env, n_frames=4, dim_order='pytorch')\n",
    "    return env\n",
    "\n",
    "\n",
    "env = make_env()\n",
    "env.reset()\n",
    "n_actions = env.action_space.n\n",
    "state_shape = env.observation_space.shape"
   ]
  },
  {
   "cell_type": "code",
   "execution_count": 8,
   "metadata": {
    "colab": {
     "base_uri": "https://localhost:8080/",
     "height": 1000
    },
    "executionInfo": {
     "elapsed": 4324,
     "status": "ok",
     "timestamp": 1653807444177,
     "user": {
      "displayName": "Эдуард Владимиров",
      "userId": "14735161405060058812"
     },
     "user_tz": -180
    },
    "id": "yyisP1b7hZHV",
    "outputId": "d819a7f9-a1e7-4a32-c50c-fa8620b151dd"
   },
   "outputs": [
    {
     "data": {
      "image/png": "[encoded data removed]",
      "text/plain": [
       "<Figure size 864x720 with 1 Axes>"
      ]
     },
     "metadata": {
      "needs_background": "light"
     },
     "output_type": "display_data"
    },
    {
     "data": {
      "image/png": "[encoded data removed]",
      "text/plain": [
       "<Figure size 1080x1080 with 1 Axes>"
      ]
     },
     "metadata": {
      "needs_background": "light"
     },
     "output_type": "display_data"
    }
   ],
   "source": [
    "import utils\n",
    "\n",
    "\n",
    "for _ in range(12):\n",
    "    obs, _, _, _ = env.step(env.action_space.sample())\n",
    "\n",
    "plt.figure(figsize=[12, 10])\n",
    "plt.title(\"Game image\")\n",
    "plt.imshow(env.render(\"rgb_array\"))\n",
    "plt.show()\n",
    "\n",
    "plt.figure(figsize=[15, 15])\n",
    "plt.title(\"Agent observation (4 frames top to bottom)\")\n",
    "plt.imshow(utils.img_by_obs(obs, state_shape), cmap='gray')\n",
    "plt.show()"
   ]
  },
  {
   "cell_type": "markdown",
   "metadata": {
    "id": "dT3x8RFKhZHV"
   },
   "source": [
    "## DQN as it is"
   ]
  },
  {
   "cell_type": "markdown",
   "metadata": {
    "id": "Rph92xkdhZHV"
   },
   "source": [
    "### Building a network\n",
    "\n",
    "We now need to build a neural network that can map images to state q-values. This network will be called on every agent's step so it better not be resnet-152 unless you have an array of GPUs. Instead, you can use strided convolutions with a small number of features to save time and memory.\n",
    "\n",
    "You can build any architecture you want, but for reference, here's something that will more or less work:"
   ]
  },
  {
   "cell_type": "markdown",
   "metadata": {
    "id": "ST8jhXhthZHV"
   },
   "source": [
    "![img](https://github.com/yandexdataschool/Practical_RL/raw/master/yet_another_week/_resource/dqn_arch.png)"
   ]
  },
  {
   "cell_type": "code",
   "execution_count": 9,
   "metadata": {
    "executionInfo": {
     "elapsed": 427,
     "status": "ok",
     "timestamp": 1653807444597,
     "user": {
      "displayName": "Эдуард Владимиров",
      "userId": "14735161405060058812"
     },
     "user_tz": -180
    },
    "id": "rJ3uussQhZHW"
   },
   "outputs": [],
   "source": [
    "import torch\n",
    "import torch.nn as nn\n",
    "import torch.nn.functional as F\n",
    "\n",
    "\n",
    "class DQNAgent(nn.Module):\n",
    "    def __init__(self, state_shape, n_actions, epsilon=0):\n",
    "        super().__init__()\n",
    "        self.epsilon = epsilon\n",
    "        self.n_actions = n_actions\n",
    "        self.state_shape = state_shape\n",
    "\n",
    "        # Define your network body here.\n",
    "        self.model = nn.Sequential(\n",
    "            nn.Conv2d(4, 4, kernel_size=3, stride=2, padding=1), \n",
    "            nn.ReLU(), \n",
    "            nn.Conv2d(4, 8, kernel_size=3, stride=2, padding=1), \n",
    "            nn.ReLU(), \n",
    "            nn.Conv2d(8, 8, kernel_size=3, stride=2, padding=1), \n",
    "            nn.ReLU(), \n",
    "            nn.Flatten(), \n",
    "            nn.Linear(8*8*8, 256), \n",
    "            nn.ReLU(), \n",
    "            nn.Linear(256, self.n_actions)\n",
    "        )\n",
    "\n",
    "    def forward(self, state_t):\n",
    "        \"\"\"\n",
    "        takes agent's observation (tensor), returns qvalues (tensor)\n",
    "        :param state_t: a batch of 4-frame buffers, shape = [batch_size, 4, h, w]\n",
    "        \"\"\"\n",
    "        # Use your network to compute qvalues for given state\n",
    "        qvalues = self.model.forward(state_t)\n",
    "\n",
    "        assert qvalues.requires_grad, \"qvalues must be a torch tensor with grad\"\n",
    "        assert (\n",
    "            len(qvalues.shape) == 2\n",
    "            and qvalues.shape[0] == state_t.shape[0]\n",
    "            and qvalues.shape[1] == n_actions\n",
    "        )\n",
    "\n",
    "        return qvalues\n",
    "\n",
    "    def get_qvalues(self, states):\n",
    "        \"\"\"\n",
    "        like forward, but works on numpy arrays, not tensors\n",
    "        \"\"\"\n",
    "        model_device = next(self.parameters()).device\n",
    "        states = torch.tensor(states, device=model_device, dtype=torch.float)\n",
    "        qvalues = self.forward(states)\n",
    "        return qvalues.detach().cpu().numpy()\n",
    "\n",
    "    def sample_actions(self, qvalues):\n",
    "        \"\"\"pick actions given qvalues. Uses epsilon-greedy exploration strategy. \"\"\"\n",
    "        epsilon = self.epsilon\n",
    "        batch_size, n_actions = qvalues.shape\n",
    "\n",
    "        random_actions = np.random.choice(n_actions, size=batch_size)\n",
    "        best_actions = qvalues.argmax(axis=-1)\n",
    "\n",
    "        should_explore = np.random.choice([0, 1], batch_size, p=[1 - epsilon, epsilon])\n",
    "        return np.where(should_explore, random_actions, best_actions)"
   ]
  },
  {
   "cell_type": "code",
   "execution_count": 10,
   "metadata": {
    "executionInfo": {
     "elapsed": 12958,
     "status": "ok",
     "timestamp": 1653807457548,
     "user": {
      "displayName": "Эдуард Владимиров",
      "userId": "14735161405060058812"
     },
     "user_tz": -180
    },
    "id": "Ebp-jTxghZHW"
   },
   "outputs": [],
   "source": [
    "device = torch.device('cuda' if torch.cuda.is_available() else 'cpu')\n",
    "agent = DQNAgent(state_shape, n_actions, epsilon=0.5).to(device)"
   ]
  },
  {
   "cell_type": "markdown",
   "metadata": {
    "id": "Z1xNJfSyhZHW"
   },
   "source": [
    "Now let's try out our agent to see if it raises any errors."
   ]
  },
  {
   "cell_type": "code",
   "execution_count": 11,
   "metadata": {
    "executionInfo": {
     "elapsed": 20,
     "status": "ok",
     "timestamp": 1653807457549,
     "user": {
      "displayName": "Эдуард Владимиров",
      "userId": "14735161405060058812"
     },
     "user_tz": -180
    },
    "id": "zKHs_BRRhZHW"
   },
   "outputs": [],
   "source": [
    "def evaluate(env, agent, n_games=1, greedy=False, t_max=10000):\n",
    "    \"\"\" Plays n_games full games. If greedy, picks actions as argmax(qvalues). Returns mean reward. \"\"\"\n",
    "    rewards = []\n",
    "    for _ in range(n_games):\n",
    "        s = env.reset()\n",
    "        reward = 0\n",
    "        for _ in range(t_max):\n",
    "            qvalues = agent.get_qvalues([s])\n",
    "            if greedy:\n",
    "                action = qvalues.argmax(axis=-1)[0]\n",
    "            else:\n",
    "                action = agent.sample_actions(qvalues)[0]\n",
    "\n",
    "            s, r, done, _ = env.step(action)\n",
    "            reward += r\n",
    "            if done:\n",
    "                break\n",
    "\n",
    "        rewards.append(reward)\n",
    "    return np.mean(rewards)"
   ]
  },
  {
   "cell_type": "code",
   "execution_count": 12,
   "metadata": {
    "colab": {
     "base_uri": "https://localhost:8080/"
    },
    "executionInfo": {
     "elapsed": 507,
     "status": "ok",
     "timestamp": 1653807458038,
     "user": {
      "displayName": "Эдуард Владимиров",
      "userId": "14735161405060058812"
     },
     "user_tz": -180
    },
    "id": "AHnRpLhthZHW",
    "outputId": "6f39e578-2357-4468-961d-fba32f54dd03"
   },
   "outputs": [
    {
     "name": "stderr",
     "output_type": "stream",
     "text": [
      "/usr/local/lib/python3.7/dist-packages/ipykernel_launcher.py:49: UserWarning: Creating a tensor from a list of numpy.ndarrays is extremely slow. Please consider converting the list to a single numpy.ndarray with numpy.array() before converting to a tensor. (Triggered internally at  ../torch/csrc/utils/tensor_new.cpp:210.)\n"
     ]
    },
    {
     "data": {
      "text/plain": [
       "0.0"
      ]
     },
     "execution_count": 12,
     "metadata": {},
     "output_type": "execute_result"
    }
   ],
   "source": [
    "evaluate(env, agent, n_games=1)"
   ]
  },
  {
   "cell_type": "markdown",
   "metadata": {
    "id": "_E8rA9g7hZHW"
   },
   "source": [
    "### Experience replay\n",
    "For this assignment, we provide you with experience replay buffer. If you implemented experience replay buffer in previous assignment, you can copy-paste it here.\n",
    "\n",
    "![img](https://github.com/yandexdataschool/Practical_RL/raw/master/yet_another_week/_resource/exp_replay.png)"
   ]
  },
  {
   "cell_type": "markdown",
   "metadata": {
    "id": "NlWN33SFhZHW"
   },
   "source": [
    "The interface is fairly simple:\n",
    "* `exp_replay.add(obs, act, rw, next_obs, done)` - saves (s,a,r,s',done) tuple into the buffer\n",
    "* `exp_replay.sample(batch_size)` - returns observations, actions, rewards, next_observations and is_done for `batch_size` random samples.\n",
    "* `len(exp_replay)` - returns number of elements stored in replay buffer."
   ]
  },
  {
   "cell_type": "code",
   "execution_count": 13,
   "metadata": {
    "executionInfo": {
     "elapsed": 7,
     "status": "ok",
     "timestamp": 1653807458039,
     "user": {
      "displayName": "Эдуард Владимиров",
      "userId": "14735161405060058812"
     },
     "user_tz": -180
    },
    "id": "2rgimM9hhZHW"
   },
   "outputs": [],
   "source": [
    "from replay_buffer import ReplayBuffer\n",
    "\n",
    "\n",
    "exp_replay = ReplayBuffer(10)\n",
    "\n",
    "for _ in range(30):\n",
    "    exp_replay.add(env.reset(), env.action_space.sample(), 1.0, env.reset(), done=False)\n",
    "\n",
    "obs_batch, act_batch, reward_batch, next_obs_batch, is_done_batch = exp_replay.sample(5)\n",
    "\n",
    "assert (\n",
    "    len(exp_replay) == 10\n",
    "), \"experience replay size should be 10 because that's what maximum capacity is\""
   ]
  },
  {
   "cell_type": "code",
   "execution_count": 14,
   "metadata": {
    "executionInfo": {
     "elapsed": 7,
     "status": "ok",
     "timestamp": 1653807458040,
     "user": {
      "displayName": "Эдуард Владимиров",
      "userId": "14735161405060058812"
     },
     "user_tz": -180
    },
    "id": "g9SlIMR2hZHW"
   },
   "outputs": [],
   "source": [
    "def play_and_record(initial_state, agent, env, exp_replay, n_steps=1):\n",
    "    \"\"\"\n",
    "    Play the game for exactly n steps, record every (s,a,r,s', done) to replay buffer.\n",
    "    Whenever game ends, add record with done=True and reset the game.\n",
    "    It is guaranteed that env has done=False when passed to this function.\n",
    "\n",
    "    PLEASE DO NOT RESET ENV UNLESS IT IS \"DONE\"\n",
    "\n",
    "    :returns: return sum of rewards over time and the state in which the env stays\n",
    "    \"\"\"\n",
    "    s = initial_state\n",
    "    sum_rewards = 0\n",
    "\n",
    "    # Play the game for n_steps as per instructions above\n",
    "    for _ in range(n_steps):\n",
    "        qvalues = agent.get_qvalues([s])\n",
    "        action = agent.sample_actions(qvalues)[0]\n",
    "        new_state, reward, done, _ = env.step(action)\n",
    "\n",
    "        exp_replay.add(s, action, reward, new_state, done)\n",
    "\n",
    "        sum_rewards += reward\n",
    "        s = new_state\n",
    "\n",
    "        if done:\n",
    "            env.reset()\n",
    "            s = initial_state\n",
    "            \n",
    "    return sum_rewards, s"
   ]
  },
  {
   "cell_type": "code",
   "execution_count": 15,
   "metadata": {
    "colab": {
     "base_uri": "https://localhost:8080/"
    },
    "executionInfo": {
     "elapsed": 4405,
     "status": "ok",
     "timestamp": 1653807462438,
     "user": {
      "displayName": "Эдуард Владимиров",
      "userId": "14735161405060058812"
     },
     "user_tz": -180
    },
    "id": "d7TWFgkGhZHW",
    "outputId": "adc93cb4-bd7c-4db1-effa-53ac4c9eebd4"
   },
   "outputs": [
    {
     "name": "stdout",
     "output_type": "stream",
     "text": [
      "Well done!\n"
     ]
    }
   ],
   "source": [
    "# testing your code.\n",
    "exp_replay = ReplayBuffer(2000)\n",
    "\n",
    "state = env.reset()\n",
    "play_and_record(state, agent, env, exp_replay, n_steps=1000)\n",
    "\n",
    "# if you're using your own experience replay buffer, some of those tests may need correction.\n",
    "# just make sure you know what your code does\n",
    "assert (\n",
    "    len(exp_replay) == 1000\n",
    "), \"play_and_record should have added exactly 1000 steps, \" \"but instead added %i\" % len(exp_replay)\n",
    "is_dones = list(zip(*exp_replay._storage))[-1]\n",
    "\n",
    "assert 0 < np.mean(is_dones) < 0.1, (\n",
    "    f\"Please make sure you restart the game whenever it is 'done' and record the is_done correctly into the buffer.\"\n",
    "    f\"Got {np.mean(is_dones)} is_done rate over {len(exp_replay)} steps. [If you think it's your tough luck, just re-run the test]\"\n",
    ")\n",
    "\n",
    "for _ in range(100):\n",
    "    obs_batch, act_batch, reward_batch, next_obs_batch, is_done_batch = exp_replay.sample(10)\n",
    "    assert obs_batch.shape == next_obs_batch.shape == (10,) + state_shape\n",
    "    assert act_batch.shape == (\n",
    "        10,\n",
    "    ), \"actions batch should have shape (10,) but is instead %s\" % str(act_batch.shape)\n",
    "    assert reward_batch.shape == (\n",
    "        10,\n",
    "    ), \"rewards batch should have shape (10,) but is instead %s\" % str(reward_batch.shape)\n",
    "    assert is_done_batch.shape == (\n",
    "        10,\n",
    "    ), \"is_done batch should have shape (10,) but is instead %s\" % str(is_done_batch.shape)\n",
    "    assert [int(i) in (0, 1) for i in is_dones], \"is_done should be strictly True or False\"\n",
    "    assert [0 <= a < n_actions for a in act_batch], \"actions should be within [0, n_actions]\"\n",
    "\n",
    "print(\"Well done!\")"
   ]
  },
  {
   "cell_type": "markdown",
   "metadata": {
    "id": "n-pQvtrwhZHX"
   },
   "source": [
    "### Target networks\n",
    "\n",
    "We also employ the so called \"target network\" - a copy of neural network weights to be used for reference Q-values:\n",
    "\n",
    "The network itself is an exact copy of agent network, but it's parameters are not trained. Instead, they are moved here from agent's actual network every so often.\n",
    "\n",
    "$$ Q_{reference}(s,a) = r + \\gamma \\cdot \\max _{a'} Q_{target}(s',a') $$\n",
    "\n",
    "![img](https://github.com/yandexdataschool/Practical_RL/raw/master/yet_another_week/_resource/target_net.png)"
   ]
  },
  {
   "cell_type": "code",
   "execution_count": 16,
   "metadata": {
    "colab": {
     "base_uri": "https://localhost:8080/"
    },
    "executionInfo": {
     "elapsed": 10,
     "status": "ok",
     "timestamp": 1653807462439,
     "user": {
      "displayName": "Эдуард Владимиров",
      "userId": "14735161405060058812"
     },
     "user_tz": -180
    },
    "id": "MIn80voQhZHX",
    "outputId": "260e4e27-c670-4681-97bb-65fb8b5cff02"
   },
   "outputs": [
    {
     "data": {
      "text/plain": [
       "<All keys matched successfully>"
      ]
     },
     "execution_count": 16,
     "metadata": {},
     "output_type": "execute_result"
    }
   ],
   "source": [
    "target_network = DQNAgent(agent.state_shape, agent.n_actions, epsilon=0.5).to(device)\n",
    "# This is how you can load weights from agent into target network\n",
    "target_network.load_state_dict(agent.state_dict())"
   ]
  },
  {
   "cell_type": "markdown",
   "metadata": {
    "id": "5NigolcGhZHX"
   },
   "source": [
    "### Learning with... Q-learning\n",
    "Here we write a function similar to `agent.update` from tabular q-learning."
   ]
  },
  {
   "cell_type": "markdown",
   "metadata": {
    "id": "9hS2DA5ihZHX"
   },
   "source": [
    "Compute Q-learning TD error:\n",
    "\n",
    "$$ L = { 1 \\over N} \\sum_i [ Q_{\\theta}(s,a) - Q_{reference}(s,a) ] ^2 $$\n",
    "\n",
    "With Q-reference defined as\n",
    "\n",
    "$$ Q_{reference}(s,a) = r(s,a) + \\gamma \\cdot max_{a'} Q_{target}(s', a') $$\n",
    "\n",
    "Where\n",
    "* $Q_{target}(s',a')$ denotes q-value of next state and next action predicted by __target_network__\n",
    "* $s, a, r, s'$ are current state, action, reward and next state respectively\n",
    "* $\\gamma$ is a discount factor defined two cells above.\n",
    "\n",
    "\n",
    "__Note 1:__ there's an example input below. Feel free to experiment with it before you write the function.\n",
    "\n",
    "__Note 2:__ compute_td_loss is a source of 99% of bugs in this homework. If reward doesn't improve, it often helps to go through it line by line [with a rubber duck](https://rubberduckdebugging.com/)."
   ]
  },
  {
   "cell_type": "code",
   "execution_count": 17,
   "metadata": {
    "executionInfo": {
     "elapsed": 5,
     "status": "ok",
     "timestamp": 1653807462440,
     "user": {
      "displayName": "Эдуард Владимиров",
      "userId": "14735161405060058812"
     },
     "user_tz": -180
    },
    "id": "f7s2jghbhZHX"
   },
   "outputs": [],
   "source": [
    "def compute_td_loss(\n",
    "    states,\n",
    "    actions,\n",
    "    rewards,\n",
    "    next_states,\n",
    "    done,\n",
    "    agent,\n",
    "    target_network,\n",
    "    gamma=0.99,\n",
    "    check_shapes=False,\n",
    "):\n",
    "    \"\"\"Compute td loss using torch operations only. Use the formula above.\"\"\"\n",
    "    states = torch.tensor(\n",
    "        states, device=device, dtype=torch.float32\n",
    "    )  # shape: [batch_size, state_size]\n",
    "    actions = torch.tensor(actions, device=device, dtype=torch.long)  # shape: [batch_size]\n",
    "    rewards = torch.tensor(rewards, device=device, dtype=torch.float32)  # shape: [batch_size]\n",
    "    next_states = torch.tensor(\n",
    "        next_states, device=device, dtype=torch.float32\n",
    "    )  # shape: [batch_size, state_size]\n",
    "    done = torch.tensor(done, device=device, dtype=torch.bool)  # shape: [batch_size]\n",
    "\n",
    "    # get q-values for all actions in current states\n",
    "    predicted_qvalues = agent(states)\n",
    "\n",
    "    # select q-values for chosen actions\n",
    "    predicted_qvalues_for_actions = predicted_qvalues[range(states.shape[0]), actions]\n",
    "\n",
    "    # compute q-values for all actions in next states\n",
    "    predicted_next_qvalues = target_network(next_states)\n",
    "\n",
    "    # compute V*(next_states) using predicted next q-values\n",
    "    next_state_values = predicted_next_qvalues.max(dim=-1).values\n",
    "\n",
    "    assert next_state_values.dtype == torch.float32\n",
    "\n",
    "    # compute \"target q-values\" for loss - it's what's inside square parentheses in the above formula.\n",
    "    # at the last state we shall use simplified formula: Q(s,a) = r(s,a) since s' doesn't exist\n",
    "    target_qvalues_for_actions = rewards + gamma * next_state_values * ~done\n",
    "\n",
    "    # mean squared error loss to minimize\n",
    "    loss = F.mse_loss(predicted_qvalues_for_actions, target_qvalues_for_actions.detach())\n",
    "\n",
    "    if check_shapes:\n",
    "        assert (\n",
    "            predicted_next_qvalues.data.dim() == 2\n",
    "        ), \"make sure you predicted q-values for all actions in next state\"\n",
    "        assert (\n",
    "            next_state_values.data.dim() == 1\n",
    "        ), \"make sure you computed V(s') as maximum over just the actions axis and not all axes\"\n",
    "        assert (\n",
    "            target_qvalues_for_actions.data.dim() == 1\n",
    "        ), \"there's something wrong with target q-values, they must be a vector\"\n",
    "\n",
    "    return loss"
   ]
  },
  {
   "cell_type": "markdown",
   "metadata": {
    "id": "FeIPIPNAhZHX"
   },
   "source": [
    "Sanity checks"
   ]
  },
  {
   "cell_type": "code",
   "execution_count": 18,
   "metadata": {
    "executionInfo": {
     "elapsed": 506,
     "status": "ok",
     "timestamp": 1653807462942,
     "user": {
      "displayName": "Эдуард Владимиров",
      "userId": "14735161405060058812"
     },
     "user_tz": -180
    },
    "id": "8dL-VPmAhZHX"
   },
   "outputs": [],
   "source": [
    "obs_batch, act_batch, reward_batch, next_obs_batch, is_done_batch = exp_replay.sample(10)\n",
    "\n",
    "loss = compute_td_loss(\n",
    "    obs_batch,\n",
    "    act_batch,\n",
    "    reward_batch,\n",
    "    next_obs_batch,\n",
    "    is_done_batch,\n",
    "    agent,\n",
    "    target_network,\n",
    "    gamma=0.99,\n",
    "    check_shapes=True,\n",
    ")\n",
    "loss.backward()\n",
    "\n",
    "assert (\n",
    "    loss.requires_grad and tuple(loss.data.size()) == ()\n",
    "), \"you must return scalar loss - mean over batch\"\n",
    "assert np.any(\n",
    "    next(agent.parameters()).grad.data.cpu().numpy() != 0\n",
    "), \"loss must be differentiable w.r.t. network weights\"\n",
    "assert np.all(\n",
    "    next(target_network.parameters()).grad is None\n",
    "), \"target network should not have grads\""
   ]
  },
  {
   "cell_type": "markdown",
   "metadata": {
    "id": "HmvLmcx9hZHX"
   },
   "source": [
    "## Main loop\n",
    "\n",
    "**If deadline is tonight and it has not converged:** It is ok. Send the notebook today and when it converges send it again.\n",
    "\n",
    "It's time to put everything together and see if it learns anything."
   ]
  },
  {
   "cell_type": "code",
   "execution_count": 19,
   "metadata": {
    "colab": {
     "base_uri": "https://localhost:8080/"
    },
    "executionInfo": {
     "elapsed": 10,
     "status": "ok",
     "timestamp": 1653807462943,
     "user": {
      "displayName": "Эдуард Владимиров",
      "userId": "14735161405060058812"
     },
     "user_tz": -180
    },
    "id": "tcMTNyk5hZHX",
    "outputId": "3b2b4856-a0fa-45a3-cd23-1fb51875cd0d"
   },
   "outputs": [
    {
     "data": {
      "text/plain": [
       "<All keys matched successfully>"
      ]
     },
     "execution_count": 19,
     "metadata": {},
     "output_type": "execute_result"
    }
   ],
   "source": [
    "# Choose your favourite seed.\n",
    "seed = 0xDEADBEAF\n",
    "\n",
    "env = make_env(seed)\n",
    "state_shape = env.observation_space.shape\n",
    "n_actions = env.action_space.n\n",
    "state = env.reset()\n",
    "\n",
    "agent = DQNAgent(state_shape, n_actions, epsilon=1).to(device)\n",
    "target_network = DQNAgent(state_shape, n_actions, epsilon=1).to(device)\n",
    "target_network.load_state_dict(agent.state_dict())"
   ]
  },
  {
   "cell_type": "markdown",
   "metadata": {
    "id": "b3llRLjShZHX"
   },
   "source": [
    "Buffer of size $10^4$ fits into 5 Gb RAM.\n",
    "\n",
    "Larger sizes ($10^5$ and $10^6$ are common) can be used. It can improve the learning, but $10^4$ is quiet enough. $10^2$ will probably fail learning."
   ]
  },
  {
   "cell_type": "code",
   "execution_count": 20,
   "metadata": {
    "colab": {
     "base_uri": "https://localhost:8080/"
    },
    "executionInfo": {
     "elapsed": 41900,
     "status": "ok",
     "timestamp": 1653807504838,
     "user": {
      "displayName": "Эдуард Владимиров",
      "userId": "14735161405060058812"
     },
     "user_tz": -180
    },
    "id": "IETsnmkshZHX",
    "outputId": "2d9eba7c-bf38-4867-90a7-db9841472297"
   },
   "outputs": [
    {
     "name": "stdout",
     "output_type": "stream",
     "text": [
      "10000\n"
     ]
    }
   ],
   "source": [
    "exp_replay = ReplayBuffer(10_000)\n",
    "for i in range(100):\n",
    "    if not utils.is_enough_ram(min_available_gb=0.1):\n",
    "        print(\n",
    "            \"\"\"\n",
    "            Less than 100 Mb RAM available. \n",
    "            Make sure the buffer size in not too huge.\n",
    "            Also check, maybe other processes consume RAM heavily.\n",
    "            \"\"\"\n",
    "        )\n",
    "        break\n",
    "\n",
    "    play_and_record(state, agent, env, exp_replay, n_steps=100)\n",
    "\n",
    "print(len(exp_replay))"
   ]
  },
  {
   "cell_type": "code",
   "execution_count": 21,
   "metadata": {
    "executionInfo": {
     "elapsed": 403,
     "status": "ok",
     "timestamp": 1653807539498,
     "user": {
      "displayName": "Эдуард Владимиров",
      "userId": "14735161405060058812"
     },
     "user_tz": -180
    },
    "id": "ei5Pl-ZOhZHX"
   },
   "outputs": [],
   "source": [
    "timesteps_per_epoch = 1\n",
    "batch_size = 16\n",
    "total_steps = 3_000_000\n",
    "decay_steps = 1_000_000\n",
    "\n",
    "opt = torch.optim.Adam(agent.parameters(), lr=1e-3)\n",
    "\n",
    "init_epsilon = 1\n",
    "final_epsilon = 0.1\n",
    "\n",
    "loss_freq = 50\n",
    "refresh_target_network_freq = 5000\n",
    "eval_freq = 5000\n",
    "saving_freq = 1000\n",
    "\n",
    "max_grad_norm = 50\n",
    "\n",
    "n_lives = 5"
   ]
  },
  {
   "cell_type": "code",
   "execution_count": 22,
   "metadata": {
    "executionInfo": {
     "elapsed": 282,
     "status": "ok",
     "timestamp": 1653807541679,
     "user": {
      "displayName": "Эдуард Владимиров",
      "userId": "14735161405060058812"
     },
     "user_tz": -180
    },
    "id": "Pux3ocdfhZHX"
   },
   "outputs": [],
   "source": [
    "mean_rw_history = []\n",
    "td_loss_history = []\n",
    "grad_norm_history = []\n",
    "initial_state_v_history = []"
   ]
  },
  {
   "cell_type": "code",
   "execution_count": 23,
   "metadata": {
    "colab": {
     "base_uri": "https://localhost:8080/"
    },
    "executionInfo": {
     "elapsed": 18647,
     "status": "ok",
     "timestamp": 1653807565130,
     "user": {
      "displayName": "Эдуард Владимиров",
      "userId": "14735161405060058812"
     },
     "user_tz": -180
    },
    "id": "71axAyYRam1J",
    "outputId": "64019577-b7a7-41e7-f610-a2b01fb50f6f"
   },
   "outputs": [
    {
     "name": "stdout",
     "output_type": "stream",
     "text": [
      "Mounted at /content/drive\n"
     ]
    }
   ],
   "source": [
    "from google.colab import drive\n",
    "\n",
    "\n",
    "drive.mount('/content/drive')\n",
    "\n",
    "DATA_DIR = \"/content/drive/MyDrive/training_models/\"\n",
    "AGENT_FILENAME = \"agent.pt\"\n",
    "TARGET_NN_FILENAME = \"target_nn.pt\"\n",
    "OPTIM_FILENAME = \"optim.pt\""
   ]
  },
  {
   "cell_type": "code",
   "execution_count": null,
   "metadata": {
    "colab": {
     "background_save": true,
     "base_uri": "https://localhost:8080/",
     "height": 570
    },
    "id": "Lefb4CEZhZHX",
    "outputId": "3f259f48-a595-463e-d8b5-813b92bde4ba",
    "scrolled": false
   },
   "outputs": [
    {
     "data": {
      "image/png": "[encoded data removed]",
      "text/plain": [
       "<Figure size 1152x648 with 4 Axes>"
      ]
     },
     "metadata": {},
     "output_type": "display_data"
    }
   ],
   "source": [
    "from IPython.display import clear_output\n",
    "\n",
    "\n",
    "state = env.reset()\n",
    "for step in range(total_steps + 1):\n",
    "    if not utils.is_enough_ram(min_available_gb=0.1):\n",
    "        print('less that 100 Mb RAM available, freezing')\n",
    "        print('make sure everything is ok and make KeyboardInterrupt to continue')\n",
    "        try:\n",
    "            while True:\n",
    "                pass\n",
    "        except KeyboardInterrupt:\n",
    "            pass\n",
    "\n",
    "    agent.epsilon = utils.linear_decay(init_epsilon, final_epsilon, step, decay_steps)\n",
    "\n",
    "    # play\n",
    "    _, state = play_and_record(state, agent, env, exp_replay, timesteps_per_epoch)\n",
    "\n",
    "    # train\n",
    "    # Sample batch_size of data from experience replay and compute td loss.\n",
    "    obs_batch, act_batch, reward_batch, next_obs_batch, is_done_batch = exp_replay.sample(batch_size)\n",
    "    loss = compute_td_loss(obs_batch,\n",
    "                           act_batch,\n",
    "                           reward_batch,\n",
    "                           next_obs_batch,\n",
    "                           is_done_batch,\n",
    "                           agent,\n",
    "                           target_network,\n",
    "                           gamma=0.99,\n",
    "                           check_shapes=True)\n",
    "\n",
    "    opt.zero_grad()\n",
    "    loss.backward()\n",
    "    grad_norm = nn.utils.clip_grad_norm_(agent.parameters(), max_grad_norm)\n",
    "    opt.step()\n",
    "\n",
    "    if step % loss_freq == 0:\n",
    "        td_loss_history.append(loss.item())\n",
    "        grad_norm_history.append(grad_norm.item())\n",
    "\n",
    "    if step % refresh_target_network_freq == 0:\n",
    "        # Load agent weights into target_network\n",
    "        target_network.load_state_dict(agent.state_dict())\n",
    "\n",
    "    if step % saving_freq == 0:\n",
    "        torch.save(agent.state_dict(), DATA_DIR + AGENT_FILENAME)\n",
    "        torch.save(target_network.state_dict(), DATA_DIR + TARGET_NN_FILENAME)\n",
    "        torch.save(opt.state_dict(), DATA_DIR + OPTIM_FILENAME)\n",
    "\n",
    "    if step % eval_freq == 0:\n",
    "        # eval the agent\n",
    "        mean_rw_history.append(\n",
    "            evaluate(make_env(seed=step), agent, n_games=3, greedy=True, t_max=1000)\n",
    "        )\n",
    "        initial_state_q_values = agent.get_qvalues([make_env(seed=step).reset()])\n",
    "        initial_state_v_history.append(np.max(initial_state_q_values))\n",
    "\n",
    "        clear_output(True)\n",
    "        print(\"buffer size = %i, epsilon = %.5f\" % (len(exp_replay), agent.epsilon))\n",
    "\n",
    "        plt.figure(figsize=[16, 9])\n",
    "        plt.subplot(2, 2, 1)\n",
    "        plt.title(\"Mean reward per episode\")\n",
    "        plt.plot(mean_rw_history)\n",
    "        plt.grid()\n",
    "\n",
    "        assert not np.isnan(td_loss_history[-1])\n",
    "        plt.subplot(2, 2, 2)\n",
    "        plt.title(\"TD loss history (smoothened)\")\n",
    "        plt.plot(utils.smoothen(td_loss_history))\n",
    "        plt.grid()\n",
    "\n",
    "        plt.subplot(2, 2, 3)\n",
    "        plt.title(\"Initial state V\")\n",
    "        plt.plot(initial_state_v_history)\n",
    "        plt.grid()\n",
    "\n",
    "        plt.subplot(2, 2, 4)\n",
    "        plt.title(\"Grad norm history (smoothened)\")\n",
    "        plt.plot(utils.smoothen(grad_norm_history))\n",
    "        plt.grid()\n",
    "\n",
    "        plt.show()"
   ]
  },
  {
   "cell_type": "code",
   "execution_count": 30,
   "metadata": {
    "executionInfo": {
     "elapsed": 580,
     "status": "ok",
     "timestamp": 1653823608467,
     "user": {
      "displayName": "Эдуард Владимиров",
      "userId": "14735161405060058812"
     },
     "user_tz": -180
    },
    "id": "Qu0K1qZcnXSP"
   },
   "outputs": [],
   "source": [
    "init_epsilon = 0.1 # 0.75\n",
    "total_steps = 500_000 # 2.5kk\n",
    "decay_steps = 1 # 500k\n",
    "\n",
    "agent.load_state_dict(torch.load(DATA_DIR + AGENT_FILENAME))\n",
    "target_network.load_state_dict(torch.load(DATA_DIR + TARGET_NN_FILENAME))\n",
    "opt.load_state_dict(torch.load(DATA_DIR + OPTIM_FILENAME))"
   ]
  },
  {
   "cell_type": "code",
   "execution_count": 31,
   "metadata": {
    "colab": {
     "base_uri": "https://localhost:8080/",
     "height": 934
    },
    "executionInfo": {
     "elapsed": 1717341,
     "status": "error",
     "timestamp": 1653825334326,
     "user": {
      "displayName": "Эдуард Владимиров",
      "userId": "14735161405060058812"
     },
     "user_tz": -180
    },
    "id": "C8j5NAZloy8R",
    "outputId": "84177501-46a9-4e80-90b5-c3b9ffbf052f"
   },
   "outputs": [
    {
     "name": "stdout",
     "output_type": "stream",
     "text": [
      "buffer size = 10000, epsilon = 0.10000\n"
     ]
    },
    {
     "data": {
      "image/png": "[encoded data removed]",
      "text/plain": [
       "<Figure size 1152x648 with 4 Axes>"
      ]
     },
     "metadata": {
      "needs_background": "light"
     },
     "output_type": "display_data"
    },
    {
     "ename": "KeyboardInterrupt",
     "evalue": "ignored",
     "output_type": "error",
     "traceback": [
      "\u001b[0;31m---------------------------------------------------------------------------\u001b[0m",
      "\u001b[0;31mKeyboardInterrupt\u001b[0m                         Traceback (most recent call last)",
      "\u001b[0;32m<ipython-input-31-c2a16beec3dc>\u001b[0m in \u001b[0;36m<module>\u001b[0;34m()\u001b[0m\n\u001b[1;32m     29\u001b[0m                            \u001b[0mtarget_network\u001b[0m\u001b[0;34m,\u001b[0m\u001b[0;34m\u001b[0m\u001b[0;34m\u001b[0m\u001b[0m\n\u001b[1;32m     30\u001b[0m                            \u001b[0mgamma\u001b[0m\u001b[0;34m=\u001b[0m\u001b[0;36m0.99\u001b[0m\u001b[0;34m,\u001b[0m\u001b[0;34m\u001b[0m\u001b[0;34m\u001b[0m\u001b[0m\n\u001b[0;32m---> 31\u001b[0;31m                            check_shapes=True)\n\u001b[0m\u001b[1;32m     32\u001b[0m \u001b[0;34m\u001b[0m\u001b[0m\n\u001b[1;32m     33\u001b[0m     \u001b[0mopt\u001b[0m\u001b[0;34m.\u001b[0m\u001b[0mzero_grad\u001b[0m\u001b[0;34m(\u001b[0m\u001b[0;34m)\u001b[0m\u001b[0;34m\u001b[0m\u001b[0;34m\u001b[0m\u001b[0m\n",
      "\u001b[0;32m<ipython-input-17-902b97cafeb7>\u001b[0m in \u001b[0;36mcompute_td_loss\u001b[0;34m(states, actions, rewards, next_states, done, agent, target_network, gamma, check_shapes)\u001b[0m\n\u001b[1;32m     22\u001b[0m \u001b[0;34m\u001b[0m\u001b[0m\n\u001b[1;32m     23\u001b[0m     \u001b[0;31m# get q-values for all actions in current states\u001b[0m\u001b[0;34m\u001b[0m\u001b[0;34m\u001b[0m\u001b[0;34m\u001b[0m\u001b[0m\n\u001b[0;32m---> 24\u001b[0;31m     \u001b[0mpredicted_qvalues\u001b[0m \u001b[0;34m=\u001b[0m \u001b[0magent\u001b[0m\u001b[0;34m(\u001b[0m\u001b[0mstates\u001b[0m\u001b[0;34m)\u001b[0m\u001b[0;34m\u001b[0m\u001b[0;34m\u001b[0m\u001b[0m\n\u001b[0m\u001b[1;32m     25\u001b[0m \u001b[0;34m\u001b[0m\u001b[0m\n\u001b[1;32m     26\u001b[0m     \u001b[0;31m# select q-values for chosen actions\u001b[0m\u001b[0;34m\u001b[0m\u001b[0;34m\u001b[0m\u001b[0;34m\u001b[0m\u001b[0m\n",
      "\u001b[0;32m/usr/local/lib/python3.7/dist-packages/torch/nn/modules/module.py\u001b[0m in \u001b[0;36m_call_impl\u001b[0;34m(self, *input, **kwargs)\u001b[0m\n\u001b[1;32m   1108\u001b[0m         if not (self._backward_hooks or self._forward_hooks or self._forward_pre_hooks or _global_backward_hooks\n\u001b[1;32m   1109\u001b[0m                 or _global_forward_hooks or _global_forward_pre_hooks):\n\u001b[0;32m-> 1110\u001b[0;31m             \u001b[0;32mreturn\u001b[0m \u001b[0mforward_call\u001b[0m\u001b[0;34m(\u001b[0m\u001b[0;34m*\u001b[0m\u001b[0minput\u001b[0m\u001b[0;34m,\u001b[0m \u001b[0;34m**\u001b[0m\u001b[0mkwargs\u001b[0m\u001b[0;34m)\u001b[0m\u001b[0;34m\u001b[0m\u001b[0;34m\u001b[0m\u001b[0m\n\u001b[0m\u001b[1;32m   1111\u001b[0m         \u001b[0;31m# Do not call functions when jit is used\u001b[0m\u001b[0;34m\u001b[0m\u001b[0;34m\u001b[0m\u001b[0;34m\u001b[0m\u001b[0m\n\u001b[1;32m   1112\u001b[0m         \u001b[0mfull_backward_hooks\u001b[0m\u001b[0;34m,\u001b[0m \u001b[0mnon_full_backward_hooks\u001b[0m \u001b[0;34m=\u001b[0m \u001b[0;34m[\u001b[0m\u001b[0;34m]\u001b[0m\u001b[0;34m,\u001b[0m \u001b[0;34m[\u001b[0m\u001b[0;34m]\u001b[0m\u001b[0;34m\u001b[0m\u001b[0;34m\u001b[0m\u001b[0m\n",
      "\u001b[0;32m<ipython-input-9-d839a6d64997>\u001b[0m in \u001b[0;36mforward\u001b[0;34m(self, state_t)\u001b[0m\n\u001b[1;32m     31\u001b[0m         \"\"\"\n\u001b[1;32m     32\u001b[0m         \u001b[0;31m# Use your network to compute qvalues for given state\u001b[0m\u001b[0;34m\u001b[0m\u001b[0;34m\u001b[0m\u001b[0;34m\u001b[0m\u001b[0m\n\u001b[0;32m---> 33\u001b[0;31m         \u001b[0mqvalues\u001b[0m \u001b[0;34m=\u001b[0m \u001b[0mself\u001b[0m\u001b[0;34m.\u001b[0m\u001b[0mmodel\u001b[0m\u001b[0;34m.\u001b[0m\u001b[0mforward\u001b[0m\u001b[0;34m(\u001b[0m\u001b[0mstate_t\u001b[0m\u001b[0;34m)\u001b[0m\u001b[0;34m\u001b[0m\u001b[0;34m\u001b[0m\u001b[0m\n\u001b[0m\u001b[1;32m     34\u001b[0m \u001b[0;34m\u001b[0m\u001b[0m\n\u001b[1;32m     35\u001b[0m         \u001b[0;32massert\u001b[0m \u001b[0mqvalues\u001b[0m\u001b[0;34m.\u001b[0m\u001b[0mrequires_grad\u001b[0m\u001b[0;34m,\u001b[0m \u001b[0;34m\"qvalues must be a torch tensor with grad\"\u001b[0m\u001b[0;34m\u001b[0m\u001b[0;34m\u001b[0m\u001b[0m\n",
      "\u001b[0;32m/usr/local/lib/python3.7/dist-packages/torch/nn/modules/container.py\u001b[0m in \u001b[0;36mforward\u001b[0;34m(self, input)\u001b[0m\n\u001b[1;32m    139\u001b[0m     \u001b[0;32mdef\u001b[0m \u001b[0mforward\u001b[0m\u001b[0;34m(\u001b[0m\u001b[0mself\u001b[0m\u001b[0;34m,\u001b[0m \u001b[0minput\u001b[0m\u001b[0;34m)\u001b[0m\u001b[0;34m:\u001b[0m\u001b[0;34m\u001b[0m\u001b[0;34m\u001b[0m\u001b[0m\n\u001b[1;32m    140\u001b[0m         \u001b[0;32mfor\u001b[0m \u001b[0mmodule\u001b[0m \u001b[0;32min\u001b[0m \u001b[0mself\u001b[0m\u001b[0;34m:\u001b[0m\u001b[0;34m\u001b[0m\u001b[0;34m\u001b[0m\u001b[0m\n\u001b[0;32m--> 141\u001b[0;31m             \u001b[0minput\u001b[0m \u001b[0;34m=\u001b[0m \u001b[0mmodule\u001b[0m\u001b[0;34m(\u001b[0m\u001b[0minput\u001b[0m\u001b[0;34m)\u001b[0m\u001b[0;34m\u001b[0m\u001b[0;34m\u001b[0m\u001b[0m\n\u001b[0m\u001b[1;32m    142\u001b[0m         \u001b[0;32mreturn\u001b[0m \u001b[0minput\u001b[0m\u001b[0;34m\u001b[0m\u001b[0;34m\u001b[0m\u001b[0m\n\u001b[1;32m    143\u001b[0m \u001b[0;34m\u001b[0m\u001b[0m\n",
      "\u001b[0;32m/usr/local/lib/python3.7/dist-packages/torch/nn/modules/module.py\u001b[0m in \u001b[0;36m_call_impl\u001b[0;34m(self, *input, **kwargs)\u001b[0m\n\u001b[1;32m   1108\u001b[0m         if not (self._backward_hooks or self._forward_hooks or self._forward_pre_hooks or _global_backward_hooks\n\u001b[1;32m   1109\u001b[0m                 or _global_forward_hooks or _global_forward_pre_hooks):\n\u001b[0;32m-> 1110\u001b[0;31m             \u001b[0;32mreturn\u001b[0m \u001b[0mforward_call\u001b[0m\u001b[0;34m(\u001b[0m\u001b[0;34m*\u001b[0m\u001b[0minput\u001b[0m\u001b[0;34m,\u001b[0m \u001b[0;34m**\u001b[0m\u001b[0mkwargs\u001b[0m\u001b[0;34m)\u001b[0m\u001b[0;34m\u001b[0m\u001b[0;34m\u001b[0m\u001b[0m\n\u001b[0m\u001b[1;32m   1111\u001b[0m         \u001b[0;31m# Do not call functions when jit is used\u001b[0m\u001b[0;34m\u001b[0m\u001b[0;34m\u001b[0m\u001b[0;34m\u001b[0m\u001b[0m\n\u001b[1;32m   1112\u001b[0m         \u001b[0mfull_backward_hooks\u001b[0m\u001b[0;34m,\u001b[0m \u001b[0mnon_full_backward_hooks\u001b[0m \u001b[0;34m=\u001b[0m \u001b[0;34m[\u001b[0m\u001b[0;34m]\u001b[0m\u001b[0;34m,\u001b[0m \u001b[0;34m[\u001b[0m\u001b[0;34m]\u001b[0m\u001b[0;34m\u001b[0m\u001b[0;34m\u001b[0m\u001b[0m\n",
      "\u001b[0;32m/usr/local/lib/python3.7/dist-packages/torch/nn/modules/linear.py\u001b[0m in \u001b[0;36mforward\u001b[0;34m(self, input)\u001b[0m\n\u001b[1;32m    101\u001b[0m \u001b[0;34m\u001b[0m\u001b[0m\n\u001b[1;32m    102\u001b[0m     \u001b[0;32mdef\u001b[0m \u001b[0mforward\u001b[0m\u001b[0;34m(\u001b[0m\u001b[0mself\u001b[0m\u001b[0;34m,\u001b[0m \u001b[0minput\u001b[0m\u001b[0;34m:\u001b[0m \u001b[0mTensor\u001b[0m\u001b[0;34m)\u001b[0m \u001b[0;34m->\u001b[0m \u001b[0mTensor\u001b[0m\u001b[0;34m:\u001b[0m\u001b[0;34m\u001b[0m\u001b[0;34m\u001b[0m\u001b[0m\n\u001b[0;32m--> 103\u001b[0;31m         \u001b[0;32mreturn\u001b[0m \u001b[0mF\u001b[0m\u001b[0;34m.\u001b[0m\u001b[0mlinear\u001b[0m\u001b[0;34m(\u001b[0m\u001b[0minput\u001b[0m\u001b[0;34m,\u001b[0m \u001b[0mself\u001b[0m\u001b[0;34m.\u001b[0m\u001b[0mweight\u001b[0m\u001b[0;34m,\u001b[0m \u001b[0mself\u001b[0m\u001b[0;34m.\u001b[0m\u001b[0mbias\u001b[0m\u001b[0;34m)\u001b[0m\u001b[0;34m\u001b[0m\u001b[0;34m\u001b[0m\u001b[0m\n\u001b[0m\u001b[1;32m    104\u001b[0m \u001b[0;34m\u001b[0m\u001b[0m\n\u001b[1;32m    105\u001b[0m     \u001b[0;32mdef\u001b[0m \u001b[0mextra_repr\u001b[0m\u001b[0;34m(\u001b[0m\u001b[0mself\u001b[0m\u001b[0;34m)\u001b[0m \u001b[0;34m->\u001b[0m \u001b[0mstr\u001b[0m\u001b[0;34m:\u001b[0m\u001b[0;34m\u001b[0m\u001b[0;34m\u001b[0m\u001b[0m\n",
      "\u001b[0;31mKeyboardInterrupt\u001b[0m: "
     ]
    }
   ],
   "source": [
    "from IPython.display import clear_output\n",
    "\n",
    "\n",
    "state = env.reset()\n",
    "for step in range(total_steps + 1):\n",
    "    if not utils.is_enough_ram(min_available_gb=0.1):\n",
    "        print('less that 100 Mb RAM available, freezing')\n",
    "        print('make sure everything is ok and make KeyboardInterrupt to continue')\n",
    "        try:\n",
    "            while True:\n",
    "                pass\n",
    "        except KeyboardInterrupt:\n",
    "            pass\n",
    "\n",
    "    agent.epsilon = utils.linear_decay(init_epsilon, final_epsilon, step, decay_steps)\n",
    "\n",
    "    # play\n",
    "    _, state = play_and_record(state, agent, env, exp_replay, timesteps_per_epoch)\n",
    "\n",
    "    # train\n",
    "    # Sample batch_size of data from experience replay and compute td loss.\n",
    "    obs_batch, act_batch, reward_batch, next_obs_batch, is_done_batch = exp_replay.sample(batch_size)\n",
    "    loss = compute_td_loss(obs_batch,\n",
    "                           act_batch,\n",
    "                           reward_batch,\n",
    "                           next_obs_batch,\n",
    "                           is_done_batch,\n",
    "                           agent,\n",
    "                           target_network,\n",
    "                           gamma=0.99,\n",
    "                           check_shapes=True)\n",
    "\n",
    "    opt.zero_grad()\n",
    "    loss.backward()\n",
    "    grad_norm = nn.utils.clip_grad_norm_(agent.parameters(), max_grad_norm)\n",
    "    opt.step()\n",
    "\n",
    "    if step % loss_freq == 0:\n",
    "        td_loss_history.append(loss.item())\n",
    "        grad_norm_history.append(grad_norm.item())\n",
    "\n",
    "    if step % refresh_target_network_freq == 0:\n",
    "        # Load agent weights into target_network\n",
    "        target_network.load_state_dict(agent.state_dict())\n",
    "\n",
    "    if step % saving_freq == 0:\n",
    "        torch.save(agent.state_dict(), DATA_DIR + AGENT_FILENAME)\n",
    "        torch.save(target_network.state_dict(), DATA_DIR + TARGET_NN_FILENAME)\n",
    "        torch.save(opt.state_dict(), DATA_DIR + OPTIM_FILENAME)\n",
    "\n",
    "    if step % eval_freq == 0:\n",
    "        # eval the agent\n",
    "        mean_rw_history.append(\n",
    "            evaluate(make_env(seed=step), agent, n_games=3, greedy=True, t_max=1000)\n",
    "        )\n",
    "        initial_state_q_values = agent.get_qvalues([make_env(seed=step).reset()])\n",
    "        initial_state_v_history.append(np.max(initial_state_q_values))\n",
    "\n",
    "        clear_output(True)\n",
    "        print(\"buffer size = %i, epsilon = %.5f\" % (len(exp_replay), agent.epsilon))\n",
    "\n",
    "        plt.figure(figsize=[16, 9])\n",
    "        plt.subplot(2, 2, 1)\n",
    "        plt.title(\"Mean reward per episode\")\n",
    "        plt.plot(mean_rw_history)\n",
    "        plt.grid()\n",
    "\n",
    "        assert not np.isnan(td_loss_history[-1])\n",
    "        plt.subplot(2, 2, 2)\n",
    "        plt.title(\"TD loss history (smoothened)\")\n",
    "        plt.plot(utils.smoothen(td_loss_history))\n",
    "        plt.grid()\n",
    "\n",
    "        plt.subplot(2, 2, 3)\n",
    "        plt.title(\"Initial state V\")\n",
    "        plt.plot(initial_state_v_history)\n",
    "        plt.grid()\n",
    "\n",
    "        plt.subplot(2, 2, 4)\n",
    "        plt.title(\"Grad norm history (smoothened)\")\n",
    "        plt.plot(utils.smoothen(grad_norm_history))\n",
    "        plt.grid()\n",
    "\n",
    "        plt.show()"
   ]
  },
  {
   "cell_type": "markdown",
   "metadata": {
    "id": "UF0yo9echZHY"
   },
   "source": [
    "Agent is evaluated for 1 life, not for a whole episode of 5 lives. Rewards in evaluation are also truncated. Cuz this is what environment the agent is learning in and in this way mean rewards per life can be compared with initial state value\n",
    "\n",
    "The goal is to get 10 points in the real env. So 2 or better 3 points in the preprocessed one will probably be enough. You can interrupt learning then."
   ]
  },
  {
   "cell_type": "markdown",
   "metadata": {
    "id": "rvI0F_NkhZHY"
   },
   "source": [
    "Final scoring is done on a whole episode with all 5 lives."
   ]
  },
  {
   "cell_type": "code",
   "execution_count": 32,
   "metadata": {
    "colab": {
     "base_uri": "https://localhost:8080/"
    },
    "executionInfo": {
     "elapsed": 11801,
     "status": "ok",
     "timestamp": 1653825350293,
     "user": {
      "displayName": "Эдуард Владимиров",
      "userId": "14735161405060058812"
     },
     "user_tz": -180
    },
    "id": "X20BC5RshZHY",
    "outputId": "7ba6a78b-f8fb-4b6b-e009-cda427f8a14d"
   },
   "outputs": [
    {
     "name": "stdout",
     "output_type": "stream",
     "text": [
      "final score: 17.0\n",
      "Cool!\n"
     ]
    }
   ],
   "source": [
    "final_score = (\n",
    "    evaluate(make_env(clip_rewards=False, seed=9), agent, n_games=30, greedy=True, t_max=10_000)\n",
    "    * n_lives\n",
    ")\n",
    "print('final score:', final_score)\n",
    "assert final_score > 10, 'not as cool as DQN can'\n",
    "print('Cool!')"
   ]
  },
  {
   "cell_type": "markdown",
   "metadata": {
    "id": "kCFeQM_EhZHY"
   },
   "source": [
    "## How to interpret plots:\n",
    "\n",
    "This aint no supervised learning so don't expect anything to improve monotonously. \n",
    "* **TD loss** is the MSE between agent's current Q-values and target Q-values. It may slowly increase or decrease, it's ok. The \"not ok\" behavior includes going NaN or stayng at exactly zero before agent has perfect performance.\n",
    "* **grad norm** just shows the intensivity of training. Not ok is growing to values of about 100 (or maybe even 50) though it depends on network architecture.\n",
    "* **mean reward** is the expected sum of r(s,a) agent gets over the full game session. It will oscillate, but on average it should get higher over time (after a few thousand iterations...). \n",
    " * In basic q-learning implementation it takes about 40k steps to \"warm up\" agent before it starts to get better.\n",
    "* **Initial state V** is the expected discounted reward for episode in the oppinion of the agent. It should behave more smoothly than **mean reward**. It should get higher over time but sometimes can experience drawdowns because of the agaent's overestimates.\n",
    "* **buffer size** - this one is simple. It should go up and cap at max size.\n",
    "* **epsilon** - agent's willingness to explore. If you see that agent's already at 0.01 epsilon before it's average reward is above 0 - it means you need to increase epsilon. Set it back to some 0.2 - 0.5 and decrease the pace at which it goes down.\n",
    "* Smoothing of plots is done with a gaussian kernel\n",
    "\n",
    "At first your agent will lose quickly. Then it will learn to suck less and at least hit the ball a few times before it loses. Finally it will learn to actually score points.\n",
    "\n",
    "**Training will take time.** A lot of it actually. Probably you will not see any improvment during first **150k** time steps (note that by default in this notebook agent is evaluated every 5000 time steps).\n",
    "\n",
    "But hey, long training time isn't _that_ bad:\n",
    "![img](https://github.com/yandexdataschool/Practical_RL/raw/master/yet_another_week/_resource/training.png)"
   ]
  },
  {
   "cell_type": "markdown",
   "metadata": {
    "id": "UwXIhyyghZHY"
   },
   "source": [
    "## About hyperparameters:\n",
    "\n",
    "The task has something in common with supervised learning: loss is optimized through the buffer (instead of Train dataset). But the distribution of states and actions in the buffer **is not stationary** and depends on the policy that generated it. It can even happen that the mean TD error across the buffer is very low but the performance is extremely poor (imagine the agent collecting data to the buffer always manages to avoid the ball).\n",
    "\n",
    "* Total timesteps and training time: It seems to be so huge, but actually it is normal for RL.\n",
    "\n",
    "* $\\epsilon$ decay shedule was taken from the original paper and is like traditional for epsilon-greedy policies. At the beginning of the training the agent's greedy policy is poor so many random actions should be taken.\n",
    "\n",
    "* Optimizer: In the original paper RMSProp was used (they did not have Adam in 2013) and it can work not worse than Adam. For us Adam was default and it worked.\n",
    "\n",
    "* lr: $10^{-3}$ would probably be too huge\n",
    "\n",
    "* batch size: This one can be very important: if it is too small the agent can fail to learn. Huge batch takes more time to process. If batch of size 8 can not be processed on the hardware you use take 2 (or even 4) batches of size 4, divide the loss on them by 2 (or 4) and make optimization step after both backward() calls in torch.\n",
    "\n",
    "* target network update frequency: has something in common with learning rate. Too frequent updates can lead to divergence. Too rare can lead to slow leraning. For millions of total timesteps thousands of inner steps seem ok. One iteration of target network updating is an iteration of the (this time approximate) $\\gamma$-compression that stands behind Q-learning. The more inner steps it makes the more accurate is the compression.\n",
    "* max_grad_norm - just huge enough. In torch clip_grad_norm also evaluates the norm before clipping and it can be convenient for logging."
   ]
  },
  {
   "cell_type": "markdown",
   "metadata": {
    "id": "XeRJxPPChZHY"
   },
   "source": [
    "### Video"
   ]
  },
  {
   "cell_type": "code",
   "execution_count": 33,
   "metadata": {
    "executionInfo": {
     "elapsed": 20668,
     "status": "ok",
     "timestamp": 1653825383905,
     "user": {
      "displayName": "Эдуард Владимиров",
      "userId": "14735161405060058812"
     },
     "user_tz": -180
    },
    "id": "f2Vebwv7hZHY",
    "scrolled": false
   },
   "outputs": [],
   "source": [
    "import gym.wrappers\n",
    "\n",
    "\n",
    "with gym.wrappers.Monitor(make_env(), directory=\"videos\", force=True) as env_monitor:\n",
    "    sessions = [evaluate(env_monitor, agent, n_games=n_lives, greedy=True) for _ in range(10)]"
   ]
  },
  {
   "cell_type": "code",
   "execution_count": 35,
   "metadata": {
    "colab": {
     "base_uri": "https://localhost:8080/"
    },
    "executionInfo": {
     "elapsed": 273,
     "status": "ok",
     "timestamp": 1653825403159,
     "user": {
      "displayName": "Эдуард Владимиров",
      "userId": "14735161405060058812"
     },
     "user_tz": -180
    },
    "id": "Lyy_7aB2rPBi",
    "outputId": "c83e4bb1-0d73-4627-ce5c-0e97bcce1d30"
   },
   "outputs": [
    {
     "data": {
      "text/plain": [
       "[PosixPath('videos/openaigym.video.1.81.video000000.mp4'),\n",
       " PosixPath('videos/openaigym.video.1.81.video000001.mp4'),\n",
       " PosixPath('videos/openaigym.video.1.81.video000008.mp4'),\n",
       " PosixPath('videos/openaigym.video.1.81.video000027.mp4')]"
      ]
     },
     "execution_count": 35,
     "metadata": {},
     "output_type": "execute_result"
    }
   ],
   "source": [
    "video_paths"
   ]
  },
  {
   "cell_type": "code",
   "execution_count": 34,
   "metadata": {
    "colab": {
     "base_uri": "https://localhost:8080/",
     "height": 501
    },
    "executionInfo": {
     "elapsed": 28,
     "status": "ok",
     "timestamp": 1653825383906,
     "user": {
      "displayName": "Эдуард Владимиров",
      "userId": "14735161405060058812"
     },
     "user_tz": -180
    },
    "id": "ktqKY-vthZHY",
    "outputId": "097b37cf-fa29-4fbb-eed3-262e712a5ce2"
   },
   "outputs": [
    {
     "data": {
      "text/html": [
       "\n",
       "<video width=\"640\" height=\"480\" controls>\n",
       "  <source src=\"data:video/mp4;base64,AAAAIGZ0eXBpc29tAAACAGlzb21pc28yYXZjMW1wNDEAAAAIZnJlZQAAHShtZGF0AAACrgYF//+q3EXpvebZSLeWLNgg2SPu73gyNjQgLSBjb3JlIDE1MiByMjg1NCBlOWE1OTAzIC0gSC4yNjQvTVBFRy00IEFWQyBjb2RlYyAtIENvcHlsZWZ0IDIwMDMtMjAxNyAtIGh0dHA6Ly93d3cudmlkZW9sYW4ub3JnL3gyNjQuaHRtbCAtIG9wdGlvbnM6IGNhYmFjPTEgcmVmPTMgZGVibG9jaz0xOjA6MCBhbmFseXNlPTB4MzoweDExMyBtZT1oZXggc3VibWU9NyBwc3k9MSBwc3lfcmQ9MS4wMDowLjAwIG1peGVkX3JlZj0xIG1lX3JhbmdlPTE2IGNocm9tYV9tZT0xIHRyZWxsaXM9MSA4eDhkY3Q9MSBjcW09MCBkZWFkem9uZT0yMSwxMSBmYXN0X3Bza2lwPTEgY2hyb21hX3FwX29mZnNldD0tMiB0aHJlYWRzPTMgbG9va2FoZWFkX3RocmVhZHM9MSBzbGljZWRfdGhyZWFkcz0wIG5yPTAgZGVjaW1hdGU9MSBpbnRlcmxhY2VkPTAgYmx1cmF5X2NvbXBhdD0wIGNvbnN0cmFpbmVkX2ludHJhPTAgYmZyYW1lcz0zIGJfcHlyYW1pZD0yIGJfYWRhcHQ9MSBiX2JpYXM9MCBkaXJlY3Q9MSB3ZWlnaHRiPTEgb3Blbl9nb3A9MCB3ZWlnaHRwPTIga2V5aW50PTI1MCBrZXlpbnRfbWluPTI1IHNjZW5lY3V0PTQwIGludHJhX3JlZnJlc2g9MCByY19sb29rYWhlYWQ9NDAgcmM9Y3JmIG1idHJlZT0xIGNyZj0yMy4wIHFjb21wPTAuNjAgcXBtaW49MCBxcG1heD02OSBxcHN0ZXA9NCBpcF9yYXRpbz0xLjQwIGFxPTE6MS4wMACAAAAC3WWIhAA3//728P4FNlYEUGa7Q91nCgDAQZ/NTMClgclA4pYaytdZh+dVJuV432kRnWAs5rNIwVgDq82rBm7oYytwVrbMx0s0deIjDqA1k01uG4ANrMfOxhzIKwR7iuJmFyn5ZSEak5T0cRe9T56AYmght2Sr7UME2DyEKMQSblRQKqYnYYhXHkqgzor27L2mAQ1Ri8A0c6qYUBcPNx0qaISGf9hlINrGh2ZWsoQTFC1XDySVqrG6qBmXTbCYJFNmgmHK4GDNyBe2jKdaTOvM6z0OPs6bfylG12IheR8L1wAZ1jXMId9Z80jhVwESW6gSrEQTdpaiv8xeOtjVTkRUs7DLO3AAByOAZ+/8hfk6C5qvMISqV2KlMJsL+wqk7h/Jn8GoiNm7lYWLGjMg8vy9GUMwm9lfWfSgOKPVrbv9DEiaFPA87OJMa9kgnz1c/PY8ieO5+jv7K1gR+Y2g7bx1dFoWc6gVEDycVKwv+hE2sfb2idyusYdN8uQRVIrDmLXAavrqtH6YhuQ/9kuY/3qWVjWcejc9Sb8V0UwEfF1ZlAQbmoT+c0V9UMyWYj+nc7p8PXjXGwKL9KggwTdpeAZJ/z62vJpTycD0wovSRP7z9ChOKDDtYUfF+f6LjXQw/Abe4t6rcPRV8QfapHHBGEcDWjbEm+4MmFUJ93fqiyyo4WU77IsT5z3Edzuv4Ds+1xJZ97CzQXe7Xwbx39YqJvPWJ4v8F2AOXBi7gAMjzd4bxsP4Bsj+y9aAvrxu2s82w2rFqopwBaST0lXg/8cwQ2lrOp5+kD0xjpIGHTdcn5x5O3E44OkM8gnfYrA+Og3RcjRvyyD4gJZP67+T6w4LnpSxCuCZau3uidPyzJchgdJ+pQSb60c1938st7TB76mWAky8wuovqVeNPn22AGWk8hbp00uZQ+2RGG97DIJHqrJga3ImAA8Adg+sPtDLWQCuKJ1vykBd6dJJEfvmMvksz0cAAABmQZohbEN//qeEAxdTdIBabod563XnQ29LRo5BhBV+IQDHUl8katoya7AYixYXHuSmxXKFBv8VSPVlhqYApoyK115BYxCm92sIJ2r0kDgp3SqiOlpm+Itiz0zQlzQCIDY9oI+k0n/AAAAAIEGaRTwhkymEN//+p4QC7dha42+UxcpVavePNCxeGRQxAAAAGEGeY2pTwr8BpyKT1qyKdL9A1Y4cwjLfgAAAABYBnoJ0Qn8CGNZE0jRzOUNnipcp1iERAAAAEAGehGpCfwFhuGIcpahw4fMAAAA2QZqJSahBaJlMCG///qeEALF7wpyGV9T9mfwgBOtazXpOsxdX0K0aWHoeD9ofjhoTzIcz6egnAAAANEGep0URLCv/AQ8M4cE/1ADXlrZ75yfp8SXFkiuggrf/yPWg8LSomgreZyhcrJBtgBAK+MMAAAATAZ7GdEJ/AWFGsVWoQ8QuscFT1QAAABMBnshqQn8BYbhW5aRY6DbD1hwSAAAAXkGay0moQWyZTBRMN//+p4QAkvFbTAAnUlKPgq5CiQGcpJ1mLq+hWjSw9D/kBoIlI0vUN64Yln73pN6K/1TLMJQ4ZH6WW3NJna8JaMSjsOm+e1YnDOr/4t7y20sq82EAAAAaAZ7qakJ/AWHzoR1reonEd7Q1xXTzFAmyoWsAAABIQZrvSeEKUmUwIb/+p4QAjqg/EdIMeIgARB7zOL8EqYVIjJiX6Cmc9eM07xzEOzu4UtFk1g8fxR0Vekv6X1lQOurBbAsgo6r0AAAAMkGfDUU0TCv/AQ71nQWmtdzgvLik2AAD91Q8K76GSgPj0EhpacKcKh0VgIrNyTYajhATAAAALgGfLHRCfwFhRqo9pwU9D1bCAC4vjhd4NBOx+t4pkWyHj1PcM6C3D6/kijdF6tkAAAAlAZ8uakJ/AWG4TB4A1wAQ3TzLcRA4YKg12gJpTbaJJzgFhOYEYwAAAERBmzNJqEFomUwIb//+p4QAvfSG0ABU47UJXKakv7QLXruC6auUKe6R65u2aCMeYzvj+GNlxXHxJiT2tPUEVsQHFHjS0AAAACJBn1FFESwr/wEPDOIqjNRPEMEYAHP2FRtY1c4JVApcaabAAAAAJAGfcHRCfwFhRqr7wa4AIfmw6mLLKRh7+EMmcbL8k0BjAVpNlwAAACoBn3JqQn8BYbhYq/Hh+XWwQABCpCgTjE7GNWcpc31leOH+8A/3yTTGeuAAAABFQZt3SahBbJlMCG///qeEAO1r34U6H+AE1e8zlJOsxdYRdUmHHFjsCgAlCkSHi4VB59Mif4Xfju4XD5BwEFT5tt28065AAAAAN0GflUUVLCv/AQ8M5Yn0SQGFRiGX1Qm1UADg6o7ExVUVkXHSYzWfG5kYMAvTQOJuN46wdvIWt0kAAAA1AZ+0dEJ/AWFGw2jrL4zxMXiAcTAESFb9YmB4oxnExmPWlYWKGM+Z75LNI+vjMVSazbqKZGAAAAAvAZ+2akJ/AWG4ZSf+psADXlIcYnYx7giJ03368V0CumgjL82a51Fi1S1/rdugtYEAAAA9QZu5SahBbJlMFEw3//6nhAEt5B8n1teOAEzImcpJ1mLq+xVZkjh7qlOiITlaEOfW89JUTLt7O6WLVvkbQQAAADoBn9hqQn8BYfPFjMtQBZyLn6wRYVg3khyfmKSiUTotJ8O1CgBfbD7UtuFXBFIOMPRlu0q6IXzDtFuUAAAAQEGb20nhClJlMFLDf/6nhAGdtLUALeuS7p6fblMhI+v7YKl/aBdrqAbgbKOIYXdxJMH63y/4VgKS8ZEG2AZ6vgcAAAATAZ/6akJ/AZp4Cm+pY0ceQ8Y0lQAAACtBm/9J4Q6JlMCGf/6eEAmHmzsAhHrwHSmbVE/ETYeAD2MmK7Xmy633AEbJAAAAMUGeHUUVPCv/AZOw6LL0bL6oTBmAForkrOiqorIuOkxms+NzIwYBemgb4Hu8dE3XtNUAAAAwAZ48dEJ/AZnwsUTF4gHTAA4xO/WJgeKMZxMZj1pWFihjPme+SzSPEddEi8CHSznSAAAAHgGePmpCfwH0gDqgA9WolOonpXzHr7eEHdt32lt6gAAAAKhBmiBJqEFomUwIb//9++G388frm0ANv/h//IYHQj3pWm8BGZldudyxGpVSJrZGKLc4gH0AgJIW6E4IplSJ6QpdZ9DYS5Em8tSJVI1ntv10oVLKDoajRky8MPzB3LpTdhBcG3KDNcwV4osR/SYsTFtSkkrGQA8nyavJals6WPt8mTKQNWrlgpf54x/O50dMrvEr8Faa32EUJn1hNcTH8IpgHjpQz+C2VSEAAAAuQZpESeEKUmUwIZ/+nhAEMLg6YAEyod7gqtZngMBLNf3BHows5iaUc+SXZOfbFAAAAClBnmJFNEwr/wErS2oADPVPIQDQATwn1S2MApSZNQRItnz8H/ZPrQGluQAAAC0BnoF0Qn8B76TPACau3nsEVUowCVeRHiJQGqFFgDIhBwB17F4+5mZoXjtuloAAAAAxAZ6DakJ/Ae8JiomgCrU7Cb2DGxzRDn/sLwi1Mn3W44KrEK9c8FdWbqh8AJgLchRtgQAAADJBmoVJqEFomUwIb//+p4QBFFL7kAG1Wm+0RhG5P+h/2Vf5NmempW0FnrRrPmLVEgcnuwAAADVBmqlJ4QpSZTAhv/6nhAEUW05sOIAABO3oHtEYMNp/0P+ysFE2bq/PGLIzqqEChtsUWkKDNwAAADVBnsdFNEwr/wEm9ZPVeC+AEVZKGmOjT0EKX2/hdLzN6rfGsw8PaDL1zypnUJUmVOG8nKMYwQAAABEBnuZ0Qn8BfEYR5Hd8kgteTAAAACABnuhqQn8BfLgjLZc+U14AQ073lwVVAuAwEsgD4HctgAAAAHNBmuxJqEFomUwIb//+p4QA0vsqQx4LSgPfBeSCACEKI+gBWpWokQvl6d0qvelc4xQmJQscckzbY0Sl1/VNm5a72RdFHaQv5ASG8mqWBMxyYGqsFVLhP7Mh8LmBNieJmnyb0z5D69CcWJDrOoCSLhHdSyMhAAAAKEGfCkURLCv/AScM4mNEoyAAC1tencFVqN8w2ZA5GEbT2Dx5IoxdP7QAAAA8AZ8rakJ/AXy4UiBCaAKtTsJvYMbHNEOf+wvCLUyfcV9kv+IV654K6s3VD4ATAVLx+ONO+Eyrzg6NSdTAAAAAbkGbLkmoQWyZTBRMN//+p4QAefXvwNC+ACH2xH0AK1K1EiE6wCvj86ROLPO+bKhMGg/RQE5LIbdENJoRSBy1qOZ+/dV4ac198scjAPD8XyX3MoGF2IqO++KflE8paDfosFueIupJXQlf58RtSl+7AAAAbQGfTWpCfwF886EztfUijcAIyM8CEl+1qDZTrEpJegXzDGKHvB+jdWbYY3DqgKmJcO+CZDliHAFzHo2aNI/TmA0cNeLRfNR1AvbMzx5vLhhlpmpx3DnQgxr3Pp1qys+ptryvgEpDl/lgDlOHJmEAAAA3QZtSSeEKUmUwIZ/+nhAB3Pg8f2scBL71gVSACceDKHb4v29/uQoMJQ8pqng/Ry0oHsFSsBGrRQAAACVBn3BFNEwr/wEm9ZwJpB/jrUYQtAAEjLFsQVVG6Ss4aZO6xrjhAAAALQGfj3RCfwF8RqTQbSZebWFACOhF99ykusMjwx2OA65AXsW4prezOli/IlqwwAAAACIBn5FqQn8BfLhLnS2127vIALcJ8Bxz5I3GTd3JsSJpwZ+RAAAAN0Gbk0moQWiZTAhv//6nhABzyOOgAKnIFQ/mpyV6/7aEvuvyYmXUidfKRVLUnnrmR2Gf/hK7roAAAACZQZu1SeEKUmUwURLDf/6nhAB2mC9cAG1XAu3RmV7c3NrC5a4MtMVAGvY7hHxx4Gk2qX5v8uA74pV5FkTd/pgmSaEIECqR7ELoKjMyITR/+Ajqo0m4ry1OIymUSyvPdcatSfE7dM4THGEZQG/yzg0KkciQvNkrFDgS2UePc7O+JBfmy7t3TrXu7SG3Vl+GpGWtYa5kX6BZrgiAAAAAKAGf1GpCfwB+//rbyIgAhvHgE6NKaw4/FU2t16q84b+8QQ96zGa9ohsAAAA+QZvZSeEOiZTAhv/+p4QAnpx+XABtVwLt0Zle3NzawuWuDLL4m9Pr1ZdNzo3pnUMJW4uUXsZf7vDsjPYc7iQAAAAzQZ/3RRU8K/8AfdRx1cAAsE6vsGrTDehUPw0pOczMc2VpnUjWXy+fAbtfY+9tYkb3aO8jAAAALAGeFnRCfwCoItDyP+3iAEOvsQxyLZnZiYXuPyo6w/eYkQ0QMUXRD+8iMvphAAAAKgGeGGpCfwCoXnnABwYdYZeq2YKT534z6mwSpWmW4XOxt/0w4m82G5dZ0AAAAERBmhtJqEFomUwU8N/+p4QC39S0EPBGdJZSxVe/muKzqqq62DxYffjzZc+go2Dr9vkS+KneggecyhKLoZ5fqwmLeJHUNQAAAC0BnjpqQn8A3Tx+nm43gCEX2IY5FszsxML3H5UdVnLKuz4t9lyoH9Sh/4v6+SQAAABVQZo/SeEKUmUwIb/+p4QC7Qt+lOWuuB3v/tgOaH7FJPNIRSZF7DQkEjJcQaqGtrnSt7482XPnlB57u6iZcNdfV44gp7bJriCkdRgxK87yeNueVpY48QAAAC5Bnl1FNEwr/wGndP0m9RLClaADjeVFQpsl3jC07UL/WkvZ58W6Jwdhy+awBhWLAAAAKwGefHRCfwDiy7hbOADgw6wy9VswUnzvxn1NhA2sK0oOdyaunGpmX6VShcAAAAAnAZ5+akJ/Ahm4reHv1CyoeAIRfYhjkWzOzEwvcflR1h+8xIhofzxQAAAASUGaY0moQWiZTAhv//6nhALtC34RePAlicP6lD/lwT7Bo+fHx8duUpCaDYSCSkuINU/93rf58482XPnlXioy3ywH73pXsPG/riEAAAAtQZ6BRREsK/8BpyIOaRrmaOHeQGAG68qKhTZLvGFp2oX+tJb1t/VTvOdLlIeAAAAAKAGeoHRCfwIY1YGtE9p+ADgw6wy9VswUnzvxn1NglStMtwux1anPrTkAAAAnAZ6iakJ/AZB51U4YPNDwAQ6+xDHItmdmJhe4/Kjqs5ZV2fFv4W2AAAAAPUGap0moQWyZTAhv//6nhAKz++KAOWfRmDAAHeIJB0QOGbX4OH92x6LEB/8zzRMVUdcDP4zc1k3oi0OafiEAAAArQZ7FRRUsK/8BnXUUoyFnwAcbyoqFNku8YWnahf60l7PPi3LiuDpT9BXN3QAAACcBnuR0Qn8BmpdwtnABwYdYZeq2YKT534z6mwgbWFaUHO6H6nldVGEAAAAoAZ7makJ/Agm3DEU2RVDwBCL7EMci2Z2YmF7j8qOsP3mJENEEHMUNuQAAAHtBmulJqEFsmUwUTDf//gU3XAHMiXf+rBb1s41/zKzajUSXSWEaPiEhSexexdZWaXYwgJDNMebULGfs1Xheb/IYcgb7PRqurrwP4wc8LU6Hgn9IuPcqE1v+nQJ3zg4+5LU1Vq7V8yyu4E1mK5w9D+SmvpDVaCnpXepm5NAAAAAkAZ8IakJ/XxfD8EODACavHwGvexeTWIh/ko12IWRudZdUaVm4AAAAO0GbDUnhClJlMCG//qeEAa6hnB9mfABq40bKmNpq4jr9b8pxTZc8LU6abfIxUN9gKdsUhpGBA4/OeUWRAAAAK0GfK0U0TCv/AVLxroANVlNsYBKO+3DEZuu4qwJChggQE+ruRTHRezEMIFgAAAAoAZ9KdEJ/Aa6w/UqwACJCexDHItmdmJhe4/Kl023xIcOc6FTOAupUkgAAABMBn0xqQn8BrPi+pO3Hl+MMP21BAAAANkGbUUmoQWiZTAhv//6nhAHBxbWvg0PeCDR429bWEYAQNLCypjaauI6/W/KcU2dvvTBwKaCXmwAAAC1Bn29FESwr/wE3DQO3NYs5ADbVCubzYQGqpMppj6mwStiZ24XzIfV/7YnjC2EAAAAlAZ+OdEJ/AXxG/IaiNAETHJdQ8Yv15t9J4D/Wkt60sygtoQZooAAAACsBn5BqQn8BfLiWK6buAOUUqrBb1PFLoDsOeXPiMDW2VpnUjQFcK/AbolCgAAAAL0GblUmoQWyZTAhv//6nhADn+ypIvC9vwAgaWFlTG01cR1+t+U4psueFqdNNvfONAAAALUGfs0UVLCv/ATcNA7ci7VnYaADg5oo3mwgNVSZTTH1NhA5yDtwvmSPBCHUXOAAAACQBn9J0Qn8BfEa61bAABExyXUPGL9ebfSeA/1pL2eNzNDoEYIAAAAArAZ/UakJ/AXy4XV8KABfiVVYHNJ8dB5HPikmhHc2VpnVwA6XczBMrpoAAgQAAAFlBm9dJqEFsmUwUTDf//qeEAKwCmCABDh9GypjaahR1+t+U4kfUfrsYhjfpvx1uIb8Gq5mORbe59+GlbntAygCjMbt+S3bBK8uvT2KR4E2CuP/eF2dJlQ2ieAAAACsBn/ZqQn8BkL5RhrCBbT0QAjI5LqHjF+vNvpPAf60lvWlmT7lNIbPHoGOfAAAAc0Gb+0nhClJlMCG//qeEAKz7wlvB88FugYAQgfRsqY2moUdfrflOJIEaxLKIxv092O8fHKaWr6yXfEBp90XeBeQwFxyOfO8KNbWMuNuPJoPoXXUena3khHPRbDIZrYe70mScjLQCUzi3L+HFpkUbRuDK1cMAAAA4QZ4ZRTRMK/8BNvW7CaENtKxuUQ0TEAG3YVzebCBAqkymmPqgVgEzTcAak0oVSoyMuZr8PaZJwYAAAABvAZ44dEJ/AXxGrPset3AHKKVVgt6njL5JfEks+IwNbZWmdSNAVwr8Bujv5uH4JkO0j4F6ow2dfhrw464JeGWI5NHUKnhCNM6xix53PouwS3XjYwBMFtxLdMiHK4H/Awv/pB1+pDetoAkeva3rKeeBAAAALgGeOmpCfwF8uE0YU0gBGRyXUPGL9ebfSeA/1pL2eNzM9qN6vbNniOb5s7Pw0JAAAABmQZo9SahBaJlMFPDf/qeEAHy9lSm67zrhibKBQAhTP0Oh9H35VxRrBnxkoCXdhQZs4nMiEGSit1cGwm/dX1/3klG7CDxouAcJn5LPQQWEqiaql1+XknuWxvltoBh1UajePnwC/cpHAAAAZAGeXGpCfwGQvlGGruvvVycAC/EqqwOaT46ECHdYXBMki/EEXfotuAAI36cwGjhrxaL5qPHisF1pxUWV3ipiVlgm2ABBTgrwM6Zi4g/eIt7eTgKOisZKGGgB0wGNEq3zWW8U3McAAAA/QZpASeEKUmUwIZ/+nhABm5+etUprvY0oyy+AA4tH1K4RQ6Oq2SFsiX+Po6oDR3QkZ31XPoMfrNEl1EvMlTXmAAAANEGefkU0TCv/ATb1uwmhDbOmBRJft2b9jHHYQA5ACavKm2olYR32/TcBTDX4uGneAjekmZwAAABmAZ6fakJ/AXy4SVuTlW3BMjTYAEtPu+yVTBAARv05gNHDXi0XzUdSZhUY6eOy4YZaZjxZmQc/hz2eZHZNvVLikraDRb3u/QWjk2VsQS6af8BQDUJuASnlTW8+weyvA3Guqv4UHnGhAAAAWkGahEmoQWiZTAhf//6MsAG8hsGkAK+uAAZvyKj0iokr3RdaEkr452ovrEcEGpGaGZDcBm4H/dDTnKoMn79zgA0TmSagbKLxnenLy5/YVYiBeB4ZzCB52sUnngAAADFBnqJFESwr/wE3DQO3IhtnTJ7uEHvx0AF9d1hP4+1+KmGV+V75ikq28SZb7/UrSAG/AAAAVgGewXRCfwF8RqMuskUtcEyJhAAXUc4St2soyGkgr3P1uaugmqF5uIUYfQvn2bi7wqlsDGxPNVI3LmLPXoflfX2QdRB4PfK27r8WCt6q1UaWGequSk2oAAAAEAGew2pCfwF8uEqYsQaI8oEAAAAmQZrHSahBbJlMCE///dfq9ABDTDl+mmVpsJZIJFhxfj8TX0U0AXEAAAAXQZ7lRRUsK/85quCDfxq3zUNbFLSaw5MAAAANAZ8GakJ/P9Bpuy6D2wAAB9Ntb292AAAAbG12aGQAAAAAAAAAAAAAAAAAAAPoAAANiwABAAABAAAAAAAAAAAAAAAAAQAAAAAAAAAAAAAAAAAAAAEAAAAAAAAAAAAAAAAAAEAAAAAAAAAAAAAAAAAAAAAAAAAAAAAAAAAAAAAAAAACAAAG/XRyYWsAAABcdGtoZAAAAAMAAAAAAAAAAAAAAAEAAAAAAAANiwAAAAAAAAAAAAAAAAAAAAAAAQAAAAAAAAAAAAAAAAAAAAEAAAAAAAAAAAAAAAAAAEAAAAAAoAAAANIAAAAAACRlZHRzAAAAHGVsc3QAAAAAAAAAAQAADYsAAAQAAAEAAAAABnVtZGlhAAAAIG1kaGQAAAAAAAAAAAAAAAAAADwAAADQAFXEAAAAAAAtaGRscgAAAAAAAAAAdmlkZQAAAAAAAAAAAAAAAFZpZGVvSGFuZGxlcgAAAAYgbWluZgAAABR2bWhkAAAAAQAAAAAAAAAAAAAAJGRpbmYAAAAcZHJlZgAAAAAAAAABAAAADHVybCAAAAABAAAF4HN0YmwAAACYc3RzZAAAAAAAAAABAAAAiGF2YzEAAAAAAAAAAQAAAAAAAAAAAAAAAAAAAAAAoADSAEgAAABIAAAAAAAAAAEAAAAAAAAAAAAAAAAAAAAAAAAAAAAAAAAAAAAAAAAAAAAY//8AAAAyYXZjQwFkAAz/4QAZZ2QADKzZQod+IhAAAAMAEAAAAwPA8UKZYAEABmjr48siwAAAABhzdHRzAAAAAAAAAAEAAABoAAACAAAAABRzdHNzAAAAAAAAAAEAAAABAAADMGN0dHMAAAAAAAAAZAAAAAIAAAQAAAAAAQAACgAAAAABAAAEAAAAAAEAAAAAAAAAAQAAAgAAAAABAAAKAAAAAAEAAAQAAAAAAQAAAAAAAAABAAACAAAAAAEAAAYAAAAAAQAAAgAAAAABAAAKAAAAAAEAAAQAAAAAAQAAAAAAAAABAAACAAAAAAEAAAoAAAAAAQAABAAAAAABAAAAAAAAAAEAAAIAAAAAAQAACgAAAAABAAAEAAAAAAEAAAAAAAAAAQAAAgAAAAABAAAGAAAAAAEAAAIAAAAAAQAABgAAAAABAAACAAAAAAEAAAoAAAAAAQAABAAAAAABAAAAAAAAAAEAAAIAAAAAAQAABAAAAAABAAAKAAAAAAEAAAQAAAAAAQAAAAAAAAABAAACAAAAAAEAAAQAAAAAAQAACgAAAAABAAAEAAAAAAEAAAAAAAAAAQAAAgAAAAABAAAIAAAAAAIAAAIAAAAAAQAABgAAAAABAAACAAAAAAEAAAoAAAAAAQAABAAAAAABAAAAAAAAAAEAAAIAAAAAAQAABAAAAAABAAAGAAAAAAEAAAIAAAAAAQAACgAAAAABAAAEAAAAAAEAAAAAAAAAAQAAAgAAAAABAAAGAAAAAAEAAAIAAAAAAQAACgAAAAABAAAEAAAAAAEAAAAAAAAAAQAAAgAAAAABAAAKAAAAAAEAAAQAAAAAAQAAAAAAAAABAAACAAAAAAEAAAoAAAAAAQAABAAAAAABAAAAAAAAAAEAAAIAAAAAAQAABgAAAAABAAACAAAAAAEAAAoAAAAAAQAABAAAAAABAAAAAAAAAAEAAAIAAAAAAQAACgAAAAABAAAEAAAAAAEAAAAAAAAAAQAAAgAAAAABAAAKAAAAAAEAAAQAAAAAAQAAAAAAAAABAAACAAAAAAEAAAYAAAAAAQAAAgAAAAABAAAKAAAAAAEAAAQAAAAAAQAAAAAAAAABAAACAAAAAAEAAAYAAAAAAQAAAgAAAAABAAAIAAAAAAIAAAIAAAAAAQAACgAAAAABAAAEAAAAAAEAAAAAAAAAAQAAAgAAAAABAAAIAAAAAAIAAAIAAAAAHHN0c2MAAAAAAAAAAQAAAAEAAABoAAAAAQAAAbRzdHN6AAAAAAAAAAAAAABoAAAFkwAAAGoAAAAkAAAAHAAAABoAAAAUAAAAOgAAADgAAAAXAAAAFwAAAGIAAAAeAAAATAAAADYAAAAyAAAAKQAAAEgAAAAmAAAAKAAAAC4AAABJAAAAOwAAADkAAAAzAAAAQQAAAD4AAABEAAAAFwAAAC8AAAA1AAAANAAAACIAAACsAAAAMgAAAC0AAAAxAAAANQAAADYAAAA5AAAAOQAAABUAAAAkAAAAdwAAACwAAABAAAAAcgAAAHEAAAA7AAAAKQAAADEAAAAmAAAAOwAAAJ0AAAAsAAAAQgAAADcAAAAwAAAALgAAAEgAAAAxAAAAWQAAADIAAAAvAAAAKwAAAE0AAAAxAAAALAAAACsAAABBAAAALwAAACsAAAAsAAAAfwAAACgAAAA/AAAALwAAACwAAAAXAAAAOgAAADEAAAApAAAALwAAADMAAAAxAAAAKAAAAC8AAABdAAAALwAAAHcAAAA8AAAAcwAAADIAAABqAAAAaAAAAEMAAAA4AAAAagAAAF4AAAA1AAAAWgAAABQAAAAqAAAAGwAAABEAAAAUc3RjbwAAAAAAAAABAAAAMAAAAGJ1ZHRhAAAAWm1ldGEAAAAAAAAAIWhkbHIAAAAAAAAAAG1kaXJhcHBsAAAAAAAAAAAAAAAALWlsc3QAAAAlqXRvbwAAAB1kYXRhAAAAAQAAAABMYXZmNTcuODMuMTAw\" type=\"video/mp4\">\n",
       "</video>\n"
      ],
      "text/plain": [
       "<IPython.core.display.HTML object>"
      ]
     },
     "execution_count": 34,
     "metadata": {},
     "output_type": "execute_result"
    }
   ],
   "source": [
    "from base64 import b64encode\n",
    "from pathlib import Path\n",
    "\n",
    "from IPython.display import HTML\n",
    "\n",
    "\n",
    "video_paths = sorted([s for s in Path(\"videos\").iterdir() if s.suffix == \".mp4\"])\n",
    "video_path = video_paths[-1]  # You can also try other indices\n",
    "\n",
    "if \"google.colab\" in sys.modules:\n",
    "    # https://stackoverflow.com/a/57378660/1214547\n",
    "    with video_path.open('rb') as fp:\n",
    "        mp4 = fp.read()\n",
    "    data_url = \"data:video/mp4;base64,\" + b64encode(mp4).decode()\n",
    "else:\n",
    "    data_url = str(video_path)\n",
    "\n",
    "HTML(\n",
    "    \"\"\"\n",
    "<video width=\"640\" height=\"480\" controls>\n",
    "  <source src=\"{}\" type=\"video/mp4\">\n",
    "</video>\n",
    "\"\"\".format(\n",
    "        data_url\n",
    "    )\n",
    ")"
   ]
  },
  {
   "cell_type": "markdown",
   "metadata": {
    "id": "NcmnPS0HhZHY"
   },
   "source": [
    "## Let's have a closer look at this.\n",
    "\n",
    "If average episode score is below 200 using all 5 lives, then probably DQN has not converged fully. But anyway let's make a more complete record of an episode."
   ]
  },
  {
   "cell_type": "code",
   "execution_count": 36,
   "metadata": {
    "colab": {
     "base_uri": "https://localhost:8080/"
    },
    "executionInfo": {
     "elapsed": 396,
     "status": "ok",
     "timestamp": 1653825528407,
     "user": {
      "displayName": "Эдуард Владимиров",
      "userId": "14735161405060058812"
     },
     "user_tz": -180
    },
    "id": "X8KeETQXhZHY",
    "outputId": "cc89d1a6-057a-4400-de77-005b626d1272"
   },
   "outputs": [
    {
     "name": "stdout",
     "output_type": "stream",
     "text": [
      "total reward for life: 2.0\n",
      "states\n",
      "v_mc\n",
      "v_agent\n",
      "q_spreads\n",
      "td_errors\n",
      "rewards\n",
      "episode_finished\n"
     ]
    }
   ],
   "source": [
    "eval_env = make_env(clip_rewards=False)\n",
    "record = utils.play_and_log_episode(eval_env, agent)\n",
    "print('total reward for life:', np.sum(record['rewards']))\n",
    "for key in record:\n",
    "    print(key)"
   ]
  },
  {
   "cell_type": "code",
   "execution_count": 37,
   "metadata": {
    "colab": {
     "base_uri": "https://localhost:8080/",
     "height": 350
    },
    "executionInfo": {
     "elapsed": 344,
     "status": "ok",
     "timestamp": 1653825546748,
     "user": {
      "displayName": "Эдуард Владимиров",
      "userId": "14735161405060058812"
     },
     "user_tz": -180
    },
    "id": "fEZiFTvZhZHY",
    "outputId": "f5bd28a8-19f4-4849-8ded-f62166cd3cb3"
   },
   "outputs": [
    {
     "data": {
      "image/png": "[encoded data removed]",
      "text/plain": [
       "<Figure size 360x360 with 1 Axes>"
      ]
     },
     "metadata": {
      "needs_background": "light"
     },
     "output_type": "display_data"
    }
   ],
   "source": [
    "fig = plt.figure(figsize=(5, 5))\n",
    "ax = fig.add_subplot(1, 1, 1)\n",
    "\n",
    "ax.scatter(record['v_mc'], record['v_agent'])\n",
    "ax.plot(sorted(record['v_mc']), sorted(record['v_mc']), 'black', linestyle='--', label='x=y')\n",
    "\n",
    "ax.grid()\n",
    "ax.legend()\n",
    "ax.set_title('State Value Estimates')\n",
    "ax.set_xlabel('Monte-Carlo')\n",
    "ax.set_ylabel('Agent')\n",
    "\n",
    "plt.show()"
   ]
  },
  {
   "cell_type": "markdown",
   "metadata": {
    "id": "sBOV5NPRhZHY"
   },
   "source": [
    "$\\hat V_{Monte-Carlo}(s_t) = \\sum_{\\tau=0}^{episode~end} \\gamma^{\\tau-t}r_t$"
   ]
  },
  {
   "cell_type": "markdown",
   "metadata": {
    "id": "ANPrBjOShZHY"
   },
   "source": [
    "Is there a big bias? It's ok, anyway it works."
   ]
  },
  {
   "cell_type": "markdown",
   "metadata": {
    "id": "aLEh5vTshZHY"
   },
   "source": [
    "## Bonus I"
   ]
  },
  {
   "cell_type": "markdown",
   "metadata": {
    "id": "E7inUWpNhZHY"
   },
   "source": [
    "**1.** Plot several (say 3) states with high and low spreads of Q estimate by actions i.e.\n",
    "$$\\max_a \\hat Q(s,a) - \\min_a \\hat Q(s,a)\\$$\n",
    "Please take those states from different episodes to make sure that the states are really different.\n",
    "\n",
    "What should high and low spread mean at least in the world of perfect Q-fucntions?\n",
    "\n",
    "Comment the states you like most.\n",
    "\n",
    "**2.** Plot several (say 3) states with high td-error and several states with high values of\n",
    "$$| \\hat V_{Monte-Carlo}(s) - \\hat V_{agent}(s)|,$$ \n",
    "$$\\hat V_{agent}(s)=\\max_a \\hat Q(s,a).$$ Please take those states from different episodes to make sure that the states are really different. From what part (i.e. beginning, middle, end) of an episode did these states come from?\n",
    "\n",
    "Comment the states you like most."
   ]
  },
  {
   "cell_type": "code",
   "execution_count": null,
   "metadata": {
    "id": "QoDwbJiQhZHY"
   },
   "outputs": [],
   "source": [
    "from utils import img_by_obs, play_and_log_episode\n",
    "\n",
    "\n",
    "# YOUR CODE HERE"
   ]
  },
  {
   "cell_type": "markdown",
   "metadata": {
    "id": "KXhr6tYthZHZ"
   },
   "source": [
    "## Bonus II. Get High Score!\n",
    "\n",
    "One way is to train for several days and use a big GPU (why not actually).\n",
    "\n",
    "Another way is to apply modifications (see **Bonus III**)."
   ]
  },
  {
   "cell_type": "markdown",
   "metadata": {
    "id": "JEdgrSd0hZHZ"
   },
   "source": [
    "## Bonus III. Apply modifications to DQN.\n",
    "\n",
    "For inspiration see [Rainbow](https://arxiv.org/abs/1710.02298) - a version of q-learning that combines lots of them.\n",
    "\n",
    "Some modifications:\n",
    "* [Prioritized experience replay](https://arxiv.org/abs/1511.05952)\n",
    "* [double q-learning](https://arxiv.org/abs/1509.06461)\n",
    "* [dueling q-learning](https://arxiv.org/abs/1511.06581)\n",
    "* multi-step heuristics (see [Rainbow](https://arxiv.org/abs/1710.02298))\n",
    "* [distributional RL](https://arxiv.org/abs/1707.06887)(distributional and distributed stand for different things here) \n",
    "* Other modifications "
   ]
  },
  {
   "cell_type": "markdown",
   "metadata": {
    "id": "k0WkfLBGhZHZ"
   },
   "source": [
    "## Bonus IV. Distributed RL.\n",
    "\n",
    "Solve the task in a distributed way. It can strongly speed up learning. See [article](https://arxiv.org/pdf/1602.01783.pdf) or some guides."
   ]
  },
  {
   "cell_type": "code",
   "execution_count": null,
   "metadata": {
    "id": "3WyEzf_ShZHZ"
   },
   "outputs": [],
   "source": []
  }
 ],
 "metadata": {
  "accelerator": "GPU",
  "anaconda-cloud": {},
  "colab": {
   "collapsed_sections": [
    "k0WkfLBGhZHZ"
   ],
   "name": "Lab2_Atari_DQN.ipynb",
   "provenance": [
    {
     "file_id": "https://github.com/girafe-ai/ml-mipt/blob/22s_advanced/homeworks_advanced/Lab2_RL/Lab2_Atari_DQN.ipynb",
     "timestamp": 1653735689368
    }
   ]
  },
  "kernelspec": {
   "display_name": "Python 3 (ipykernel)",
   "language": "python",
   "name": "python3"
  },
  "language_info": {
   "codemirror_mode": {
    "name": "ipython",
    "version": 3
   },
   "file_extension": ".py",
   "mimetype": "text/x-python",
   "name": "python",
   "nbconvert_exporter": "python",
   "pygments_lexer": "ipython3",
   "version": "3.10.12"
  }
 },
 "nbformat": 4,
 "nbformat_minor": 1
}
