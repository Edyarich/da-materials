{
 "cells": [
  {
   "cell_type": "markdown",
   "metadata": {},
   "source": [
    "**Корректность проверена на Python 3.6:**\n",
    "+ numpy 1.15.4\n",
    "+ matplotlib 3.0.2\n",
    "+ sklearn 0.20.2"
   ]
  },
  {
   "cell_type": "markdown",
   "metadata": {},
   "source": [
    "# Sklearn"
   ]
  },
  {
   "cell_type": "markdown",
   "metadata": {},
   "source": [
    "## sklearn.linear_model"
   ]
  },
  {
   "cell_type": "code",
   "execution_count": 1,
   "metadata": {},
   "outputs": [],
   "source": [
    "from matplotlib.colors import ListedColormap\n",
    "from sklearn import model_selection, datasets, linear_model, metrics\n",
    "\n",
    "import numpy as np"
   ]
  },
  {
   "cell_type": "code",
   "execution_count": 2,
   "metadata": {},
   "outputs": [
    {
     "name": "stdout",
     "output_type": "stream",
     "text": [
      "Populating the interactive namespace from numpy and matplotlib\n"
     ]
    }
   ],
   "source": [
    "%pylab inline"
   ]
  },
  {
   "cell_type": "markdown",
   "metadata": {},
   "source": [
    "### Линейная регрессия"
   ]
  },
  {
   "cell_type": "markdown",
   "metadata": {},
   "source": [
    "#### Генерация данных"
   ]
  },
  {
   "cell_type": "code",
   "execution_count": 3,
   "metadata": {},
   "outputs": [],
   "source": [
    "data, target, coef = datasets.make_regression(n_features = 2, n_informative = 1, n_targets = 1, \n",
    "                                              noise = 5., coef = True, random_state = 2)"
   ]
  },
  {
   "cell_type": "code",
   "execution_count": 8,
   "metadata": {},
   "outputs": [
    {
     "data": {
      "text/plain": [
       "<matplotlib.collections.PathCollection at 0x7f4f7eb1b790>"
      ]
     },
     "execution_count": 8,
     "metadata": {},
     "output_type": "execute_result"
    },
    {
     "data": {
      "image/png": "[encoded data removed]",
      "text/plain": [
       "<Figure size 432x288 with 1 Axes>"
      ]
     },
     "metadata": {
      "needs_background": "light"
     },
     "output_type": "display_data"
    }
   ],
   "source": [
    "pylab.scatter(data[:,0], target, color = 'r')\n",
    "pylab.scatter(data[:,1], target, color = 'b')"
   ]
  },
  {
   "cell_type": "code",
   "execution_count": 9,
   "metadata": {},
   "outputs": [],
   "source": [
    "train_data, test_data, train_labels, test_labels = model_selection.train_test_split(data, target,  \n",
    "                                                                                     test_size = 0.3)"
   ]
  },
  {
   "cell_type": "markdown",
   "metadata": {},
   "source": [
    "#### LinearRegression"
   ]
  },
  {
   "cell_type": "code",
   "execution_count": 10,
   "metadata": {},
   "outputs": [],
   "source": [
    "linear_regressor = linear_model.LinearRegression()\n",
    "linear_regressor.fit(train_data, train_labels)\n",
    "predictions = linear_regressor.predict(test_data)"
   ]
  },
  {
   "cell_type": "code",
   "execution_count": 11,
   "metadata": {},
   "outputs": [
    {
     "name": "stdout",
     "output_type": "stream",
     "text": [
      "[  14.76930132  -80.80239408  -22.33224966   13.31981235    4.45578287\n",
      "   41.1068411    24.47584129  101.14760598   11.96165156   12.74038341\n",
      "  -12.98848753    1.72644759   18.17188553  -57.46293828   64.70214251\n",
      "  -15.01435792  -22.32195021   11.74073026  -16.65927231  -61.47026695\n",
      "   -1.42235396   12.42286854   22.2276832   -19.36956003   -4.38652971\n",
      "   34.35183007   28.15553021  -26.87743177  -36.69728864 -105.77758163]\n"
     ]
    }
   ],
   "source": [
    "print(test_labels)"
   ]
  },
  {
   "cell_type": "code",
   "execution_count": 12,
   "metadata": {},
   "outputs": [
    {
     "name": "stdout",
     "output_type": "stream",
     "text": [
      "[   7.40803472  -78.24288931  -29.2113105    13.85449488    8.55380363\n",
      "   35.89005614   22.3803455    95.42905036   13.28947931    6.71321671\n",
      "  -16.79330083   -0.64420589   17.81048141  -54.76302768   67.03778913\n",
      "  -10.26133724  -22.96259252   13.69968286  -14.97353829  -56.79292055\n",
      "   -1.14835107    6.2052277    17.91246264  -32.2674146    -5.35192491\n",
      "   38.24975904   21.99195681  -28.3334272   -27.67061761 -101.78522584]\n"
     ]
    }
   ],
   "source": [
    "print(predictions)"
   ]
  },
  {
   "cell_type": "code",
   "execution_count": 13,
   "metadata": {},
   "outputs": [
    {
     "data": {
      "text/plain": [
       "3.8771043033209365"
      ]
     },
     "execution_count": 13,
     "metadata": {},
     "output_type": "execute_result"
    }
   ],
   "source": [
    "metrics.mean_absolute_error(test_labels, predictions)"
   ]
  },
  {
   "cell_type": "code",
   "execution_count": 14,
   "metadata": {},
   "outputs": [
    {
     "name": "stdout",
     "output_type": "stream",
     "text": [
      "mean: -4.070071498779696, std: 1.07371044928902\n"
     ]
    }
   ],
   "source": [
    "linear_scoring = model_selection.cross_val_score(linear_regressor, data, target, scoring = 'neg_mean_absolute_error', \n",
    "                                                  cv = 10)\n",
    "print('mean: {}, std: {}'.format(linear_scoring.mean(), linear_scoring.std()))"
   ]
  },
  {
   "cell_type": "code",
   "execution_count": 15,
   "metadata": {},
   "outputs": [],
   "source": [
    "scorer = metrics.make_scorer(metrics.mean_absolute_error, greater_is_better = True)"
   ]
  },
  {
   "cell_type": "code",
   "execution_count": 16,
   "metadata": {},
   "outputs": [
    {
     "name": "stdout",
     "output_type": "stream",
     "text": [
      "mean: 4.070071498779696, std: 1.07371044928902\n"
     ]
    }
   ],
   "source": [
    "linear_scoring = model_selection.cross_val_score(linear_regressor, data, target, scoring=scorer, \n",
    "                                                  cv = 10)\n",
    "print('mean: {}, std: {}'.format(linear_scoring.mean(), linear_scoring.std()))"
   ]
  },
  {
   "cell_type": "code",
   "execution_count": 17,
   "metadata": {},
   "outputs": [
    {
     "data": {
      "text/plain": [
       "array([38.07925837,  0.        ])"
      ]
     },
     "execution_count": 17,
     "metadata": {},
     "output_type": "execute_result"
    }
   ],
   "source": [
    "coef"
   ]
  },
  {
   "cell_type": "code",
   "execution_count": 18,
   "metadata": {},
   "outputs": [
    {
     "data": {
      "text/plain": [
       "array([37.94697934,  0.35117406])"
      ]
     },
     "execution_count": 18,
     "metadata": {},
     "output_type": "execute_result"
    }
   ],
   "source": [
    "linear_regressor.coef_"
   ]
  },
  {
   "cell_type": "code",
   "execution_count": 19,
   "metadata": {},
   "outputs": [
    {
     "data": {
      "text/plain": [
       "-0.835036464227756"
      ]
     },
     "execution_count": 19,
     "metadata": {},
     "output_type": "execute_result"
    }
   ],
   "source": [
    "# в лекции не указано, что в уравнении обученной модели также участвует свободный член\n",
    "linear_regressor.intercept_"
   ]
  },
  {
   "cell_type": "code",
   "execution_count": 20,
   "metadata": {},
   "outputs": [
    {
     "name": "stdout",
     "output_type": "stream",
     "text": [
      "y = 38.08*x1 + 0.00*x2\n"
     ]
    }
   ],
   "source": [
    "print(\"y = {:.2f}*x1 + {:.2f}*x2\".format(coef[0], coef[1]))"
   ]
  },
  {
   "cell_type": "code",
   "execution_count": 21,
   "metadata": {},
   "outputs": [
    {
     "name": "stdout",
     "output_type": "stream",
     "text": [
      "y = 37.95*x1 + 0.35*x2 + -0.84\n"
     ]
    }
   ],
   "source": [
    "print(\"y = {:.2f}*x1 + {:.2f}*x2 + {:.2f}\".format(linear_regressor.coef_[0], \n",
    "                                                  linear_regressor.coef_[1], \n",
    "                                                  linear_regressor.intercept_))"
   ]
  },
  {
   "cell_type": "markdown",
   "metadata": {},
   "source": [
    "#### Lasso"
   ]
  },
  {
   "cell_type": "code",
   "execution_count": 22,
   "metadata": {},
   "outputs": [],
   "source": [
    "lasso_regressor = linear_model.Lasso(random_state = 3)\n",
    "lasso_regressor.fit(train_data, train_labels)\n",
    "lasso_predictions = lasso_regressor.predict(test_data)"
   ]
  },
  {
   "cell_type": "code",
   "execution_count": 23,
   "metadata": {},
   "outputs": [
    {
     "name": "stdout",
     "output_type": "stream",
     "text": [
      "mean: 4.1544782466663985, std: 1.0170354384993352\n"
     ]
    }
   ],
   "source": [
    "lasso_scoring = model_selection.cross_val_score(lasso_regressor, data, target, scoring = scorer, cv = 10)\n",
    "print('mean: {}, std: {}'.format(lasso_scoring.mean(), lasso_scoring.std()))"
   ]
  },
  {
   "cell_type": "code",
   "execution_count": 24,
   "metadata": {},
   "outputs": [
    {
     "name": "stdout",
     "output_type": "stream",
     "text": [
      "[37.20890103  0.        ]\n"
     ]
    }
   ],
   "source": [
    "print(lasso_regressor.coef_)"
   ]
  },
  {
   "cell_type": "code",
   "execution_count": 25,
   "metadata": {},
   "outputs": [
    {
     "name": "stdout",
     "output_type": "stream",
     "text": [
      "y = 38.08*x1 + 0.00*x2\n"
     ]
    }
   ],
   "source": [
    "print(\"y = {:.2f}*x1 + {:.2f}*x2\".format(coef[0], coef[1]))"
   ]
  },
  {
   "cell_type": "code",
   "execution_count": 26,
   "metadata": {},
   "outputs": [
    {
     "name": "stdout",
     "output_type": "stream",
     "text": [
      "y = 37.21*x1 + 0.00*x2\n"
     ]
    }
   ],
   "source": [
    "print(\"y = {:.2f}*x1 + {:.2f}*x2\".format(lasso_regressor.coef_[0], lasso_regressor.coef_[1]))"
   ]
  },
  {
   "cell_type": "code",
   "execution_count": null,
   "metadata": {},
   "outputs": [],
   "source": []
  }
 ],
 "metadata": {
  "kernelspec": {
   "display_name": "Python 3",
   "language": "python",
   "name": "python3"
  },
  "language_info": {
   "codemirror_mode": {
    "name": "ipython",
    "version": 3
   },
   "file_extension": ".py",
   "mimetype": "text/x-python",
   "name": "python",
   "nbconvert_exporter": "python",
   "pygments_lexer": "ipython3",
   "version": "3.8.10"
  }
 },
 "nbformat": 4,
 "nbformat_minor": 1
}
