{
 "cells": [
  {
   "cell_type": "code",
   "execution_count": 66,
   "id": "baa84e11",
   "metadata": {},
   "outputs": [],
   "source": [
    "import pandas as pd\n",
    "import numpy as np\n",
    "import matplotlib.pyplot as plt\n",
    "from sklearn import model_selection, metrics, datasets, ensemble, tree"
   ]
  },
  {
   "cell_type": "code",
   "execution_count": 2,
   "id": "235b70d8",
   "metadata": {},
   "outputs": [],
   "source": [
    "def write_answer(filename, answer):\n",
    "    file_obj = open(filename, \"w\")\n",
    "    file_obj.write(' '.join(np.array(answer, dtype=str)))\n",
    "    file_obj.close()\n",
    "    \n",
    "    "
   ]
  },
  {
   "cell_type": "code",
   "execution_count": 128,
   "id": "0076da68",
   "metadata": {},
   "outputs": [],
   "source": [
    "data, target = datasets.load_boston(return_X_y=True)\n",
    "X_train, X_test, y_train, y_test = model_selection.train_test_split(data, \n",
    "                                                                    target,\n",
    "                                                                    test_size=0.25,\n",
    "                                                                    shuffle=False)\n",
    "#X_train, X_test = np.split(data, [int(data.shape[0]*0.75)])\n",
    "#y_train, y_test = np.split(target, [int(data.shape[0]*0.75)])"
   ]
  },
  {
   "cell_type": "code",
   "execution_count": 159,
   "id": "f84e1b75",
   "metadata": {},
   "outputs": [],
   "source": [
    "# in case where L(y, z) = (y - z)^2\n",
    "def get_ans_for_learning(target, prediction):\n",
    "    return target - prediction\n",
    "\n",
    "\n",
    "def gbm_predict(X, trees, coeffs):\n",
    "    assert np.array(trees).size == np.array(coeffs).size\n",
    "    \n",
    "    return [sum([coeff * algo.predict([x])[0] for algo, coeff in \n",
    "                 zip(trees, coeffs)]) for x in X]\n",
    "\n",
    "\n",
    "def my_gbm_predict(X, trees, coeffs):\n",
    "    assert np.array(trees).size == np.array(coeffs).size\n",
    "    \n",
    "    predictions = np.array(list(map(lambda tree: tree.predict(X), trees)))\n",
    "    return (predictions.T @ coeffs[:, np.newaxis]).ravel()"
   ]
  },
  {
   "cell_type": "code",
   "execution_count": 165,
   "id": "83c1d4b9",
   "metadata": {},
   "outputs": [],
   "source": [
    "n_trees = 50\n",
    "eta = 0.9\n",
    "my_tree = tree.DecisionTreeRegressor(max_depth=5, random_state=42)\n",
    "\n",
    "def gbm_fit(X_train, trees, coeffs):\n",
    "    assert np.array(trees).size == np.array(coeffs).size\n",
    "    \n",
    "    n_trees = np.array(trees).size\n",
    "    # a_i(x) = a_i-1(x) + b_i(x)\n",
    "    current_ans = np.zeros(X_train.shape[0])\n",
    "\n",
    "    for i in range(n_trees):\n",
    "        learning_ans = get_ans_for_learning(y_train, current_ans)\n",
    "        trees[i].fit(X_train, learning_ans)\n",
    "        current_ans += coeffs[i] * trees[i].predict(X_train)\n",
    "        \n",
    "    return trees"
   ]
  },
  {
   "cell_type": "code",
   "execution_count": 184,
   "id": "20f2fbc8",
   "metadata": {},
   "outputs": [
    {
     "name": "stdout",
     "output_type": "stream",
     "text": [
      "5.455623403859612\n"
     ]
    }
   ],
   "source": [
    "my_tree = tree.DecisionTreeRegressor(max_depth=5, random_state=42)\n",
    "coeffs = np.ones(n_trees) * eta\n",
    "\n",
    "trees = []\n",
    "for i in range(50):\n",
    "    trees.append(tree.DecisionTreeRegressor(max_depth=5, random_state=42))\n",
    "\n",
    "trees = gbm_fit(X_train, trees, coeffs)\n",
    "y_pred = gbm_predict(X_test, trees, coeffs)\n",
    "rmse = metrics.mean_squared_error(y_test, y_pred) ** 0.5\n",
    "print(rmse)\n",
    "write_answer('2.txt', [rmse])"
   ]
  },
  {
   "cell_type": "code",
   "execution_count": 185,
   "id": "512b7ecf",
   "metadata": {},
   "outputs": [
    {
     "name": "stdout",
     "output_type": "stream",
     "text": [
      "4.459384603684657\n"
     ]
    }
   ],
   "source": [
    "desc_coeffs = eta / (1 + np.arange(50))\n",
    "desc_trees = gbm_fit(X_train, np.repeat([my_tree], n_trees), desc_coeffs)\n",
    "\n",
    "y_desc_pred = gbm_predict(X_test, trees, desc_coeffs)\n",
    "desc_rmse = metrics.mean_squared_error(y_test, y_desc_pred) ** 0.5\n",
    "print(desc_rmse)\n",
    "write_answer('3.txt', [desc_rmse])"
   ]
  },
  {
   "cell_type": "code",
   "execution_count": 113,
   "id": "d841307d",
   "metadata": {},
   "outputs": [
    {
     "name": "stdout",
     "output_type": "stream",
     "text": [
      "[18.204, 14.599, 15.506, 15.66, 15.671, 15.654, 15.648, 15.662, 15.667, 15.667, 15.667]\n"
     ]
    }
   ],
   "source": [
    "trees_depth = np.append(np.arange(3, 22, 2), None)\n",
    "depth_scoring = []\n",
    "\n",
    "for depth in trees_depth:\n",
    "    depth_tree = tree.DecisionTreeRegressor(max_depth=depth, random_state=42)\n",
    "    depth_trees = gbm_fit(X_train, np.repeat([depth_tree], n_trees), desc_coeffs)\n",
    "    \n",
    "    y_depth_pred = gbm_predict(X_test, depth_trees, desc_coeffs)\n",
    "    depth_rmse = metrics.mean_squared_error(y_test, y_depth_pred) ** 0.5\n",
    "    depth_scoring.append(depth_rmse)\n",
    "    \n",
    "print('test:', list(map(lambda x: round(x, 3), depth_scoring)))"
   ]
  },
  {
   "cell_type": "code",
   "execution_count": 105,
   "id": "77711466",
   "metadata": {},
   "outputs": [
    {
     "name": "stdout",
     "output_type": "stream",
     "text": [
      "[14.887, 16.251, 14.939, 15.855, 15.851, 15.889, 15.45, 15.893, 15.747]\n"
     ]
    }
   ],
   "source": [
    "n_trees = (np.arange(30, 201, 20))\n",
    "trees_cnt_scoring = []\n",
    "\n",
    "for trees_cnt in n_trees:\n",
    "    coeffs = eta / (1 + np.arange(trees_cnt))\n",
    "    trees = gbm_fit(X_train, np.repeat([my_tree], trees_cnt), coeffs)\n",
    "    \n",
    "    y_pred = gbm_predict(X_test, trees, coeffs)\n",
    "    rmse = metrics.mean_squared_error(y_test, y_pred) ** 0.5\n",
    "    trees_cnt_scoring.append(rmse)\n",
    "    \n",
    "print('test:', list(map(lambda x: round(x, 3), trees_cnt_scoring)))"
   ]
  },
  {
   "cell_type": "code",
   "execution_count": 114,
   "id": "a2231844",
   "metadata": {},
   "outputs": [],
   "source": [
    "write_answer('4.txt', [2, 3])"
   ]
  },
  {
   "cell_type": "code",
   "execution_count": 115,
   "id": "d224f448",
   "metadata": {},
   "outputs": [],
   "source": [
    "from sklearn.linear_model import LinearRegression"
   ]
  },
  {
   "cell_type": "code",
   "execution_count": 118,
   "id": "844faa46",
   "metadata": {},
   "outputs": [],
   "source": [
    "gb_regressor = ensemble.GradientBoostingRegressor()\n",
    "gb_regressor.fit(X_train, y_train)\n",
    "gb_pred = gb_regressor.predict(X_test)\n",
    "gb_rmse = metrics.mean_squared_error(y_test, gb_pred) ** 0.5"
   ]
  },
  {
   "cell_type": "code",
   "execution_count": 123,
   "id": "5690e1c3",
   "metadata": {},
   "outputs": [],
   "source": [
    "lin_regressor = LinearRegression()\n",
    "lin_regressor.fit(X_train, y_train)\n",
    "lin_pred = lin_regressor.predict(X_test)\n",
    "lin_rmse = metrics.mean_squared_error(y_test, lin_pred) ** 0.5"
   ]
  },
  {
   "cell_type": "code",
   "execution_count": 122,
   "id": "729ba425",
   "metadata": {},
   "outputs": [],
   "source": [
    "write_answer('5.txt', [lin_rmse])"
   ]
  },
  {
   "cell_type": "code",
   "execution_count": 154,
   "id": "071d9497",
   "metadata": {},
   "outputs": [
    {
     "name": "stdout",
     "output_type": "stream",
     "text": [
      "25.074406332453822 50.0 11.8\n",
      "2.5074406332453805 12.29 -5.44576923076923\n",
      "0.2507440633245382 7.594213948883663 -5.270147901175655\n",
      "0.025074406332453718 4.0188476307123295 -4.773003052038462\n",
      "0.0025074406332451517 3.6723038406349175 -4.251845824804832\n",
      "0.0002507440633245611 3.346403674619868 -4.051409807713149\n",
      "2.507440633285966e-05 2.8765511894043883 -2.6183794237498077\n",
      "2.5074406324516874e-06 2.6066456628886208 -2.5495702041753425\n",
      "2.507440638797828e-07 1.7524028681485753 -1.8999288571317123\n",
      "2.507440655577135e-08 1.7221407138708926 -1.9301910114093914\n",
      "5.455623403859612\n"
     ]
    }
   ],
   "source": [
    "base_algorithms = []\n",
    "coefficients = []\n",
    "y_train_cur = y_train \n",
    "\n",
    "for i in range(50):\n",
    "    alg = tree.DecisionTreeRegressor(max_depth=5, random_state=42) \n",
    "    alg.fit(X_train, y_train_cur)\n",
    "    coefficients.append(0.9)\n",
    "    base_algorithms.append(alg)\n",
    "    y_train_cur = y_train - gbm_predict(X_train, base_algorithms, coefficients)\n",
    "\n",
    "mse = metrics.mean_squared_error(y_test, gbm_predict(X_test, base_algorithms, coefficients)) \n",
    "print(mse ** 0.5)"
   ]
  },
  {
   "cell_type": "code",
   "execution_count": 146,
   "id": "0a9c383a",
   "metadata": {},
   "outputs": [
    {
     "data": {
      "text/plain": [
       "array([14.07851444, 15.48786565, 14.13609346, 15.70622297, 15.11445482,\n",
       "       17.078542  , 15.36294293, 15.37267209, 17.74131403, 15.41355703,\n",
       "       14.45699626, 15.77397676, 18.3122189 , 15.41390164, 21.6588864 ,\n",
       "       16.37525386, 14.99893368, 14.06318248, 15.15590961, 16.06629272,\n",
       "       17.77940234, 15.73642428, 13.87693573, 14.07380499, 15.44217311,\n",
       "       16.87034485, 16.29958999, 14.10248166, 21.48993512, 14.90161664,\n",
       "       13.88148319, 21.86606246, 13.11590633, 14.90354601, 14.94967086,\n",
       "       14.87408912, 13.14713407, 13.76279542, 17.15169761, 15.06958081,\n",
       "       16.25777534, 19.3346192 , 19.77314098, 22.14869987, 15.83400893,\n",
       "       19.76974598, 15.09879127, 23.50417031, 22.91850711, 16.84440225,\n",
       "       13.0452222 , 16.11313796, 14.02891462, 25.83760453, 16.60420662,\n",
       "       20.95645446, 13.88937221, 13.58687476, 14.80785   , 16.17790777,\n",
       "       17.26127072, 16.13939501, 15.54619476, 15.18358496, 15.68702452,\n",
       "       15.44501466, 13.13905932, 15.34435838, 16.68813196, 15.83769352,\n",
       "       15.45186709, 15.44653195, 16.38875401, 16.36276025, 31.23746283,\n",
       "       14.19845146, 16.47641583, 17.20324021, 18.56978283, 16.67425794,\n",
       "       22.03932012, 15.7503411 , 22.00848606, 22.12244012, 23.19008243,\n",
       "       24.5769029 , 22.80696953, 16.9376184 , 15.19238643, 19.74151378,\n",
       "       23.84549048, 16.76063222, 23.64254182, 23.13793117, 36.17009219,\n",
       "       15.83935913, 15.2385671 , 15.32021273, 15.72832087, 17.06136268,\n",
       "       24.30417645, 24.50352863, 29.81272363, 33.98544837, 22.95996682,\n",
       "       23.73991114, 22.75461563, 24.62127132, 23.44274786, 18.51097547,\n",
       "       15.34026417, 14.90128564, 16.20173133, 17.40828988, 19.56794968,\n",
       "       17.74981196, 18.72739148, 20.99121862, 20.24735436, 19.74885352,\n",
       "       20.49984781, 20.01124506, 29.21884258, 17.76760504, 30.11165649,\n",
       "       29.58372878, 17.20758804])"
      ]
     },
     "execution_count": 146,
     "metadata": {},
     "output_type": "execute_result"
    }
   ],
   "source": [
    "oth_y_pred = np.array(gbm_predict(X_test, base_algorithms, coefficients))\n",
    "oth_y_pred"
   ]
  }
 ],
 "metadata": {
  "kernelspec": {
   "display_name": "Python 3 (ipykernel)",
   "language": "python",
   "name": "python3"
  },
  "language_info": {
   "codemirror_mode": {
    "name": "ipython",
    "version": 3
   },
   "file_extension": ".py",
   "mimetype": "text/x-python",
   "name": "python",
   "nbconvert_exporter": "python",
   "pygments_lexer": "ipython3",
   "version": "3.9.6"
  }
 },
 "nbformat": 4,
 "nbformat_minor": 5
}
