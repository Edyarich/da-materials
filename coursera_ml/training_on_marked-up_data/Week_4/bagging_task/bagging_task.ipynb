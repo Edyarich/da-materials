{
 "cells": [
  {
   "cell_type": "code",
   "execution_count": 17,
   "id": "c9811e84",
   "metadata": {},
   "outputs": [],
   "source": [
    "import pandas as pd\n",
    "import numpy as np\n",
    "import matplotlib.pyplot as plt\n",
    "from sklearn import model_selection, metrics, datasets, ensemble, tree"
   ]
  },
  {
   "cell_type": "code",
   "execution_count": 19,
   "id": "25000b09",
   "metadata": {},
   "outputs": [],
   "source": [
    "def write_answer(filename, answer):\n",
    "    file_obj = open(filename, \"w\")\n",
    "    file_obj.write(' '.join(np.array(answer, dtype=str)))\n",
    "    file_obj.close()\n",
    "    \n",
    "    \n",
    "cv = 10"
   ]
  },
  {
   "cell_type": "code",
   "execution_count": 15,
   "id": "7f9b4e70",
   "metadata": {},
   "outputs": [],
   "source": [
    "data, target = datasets.load_digits(return_X_y=True)"
   ]
  },
  {
   "cell_type": "code",
   "execution_count": 20,
   "id": "60f28abc",
   "metadata": {},
   "outputs": [],
   "source": [
    "tree_classifier = tree.DecisionTreeClassifier()\n",
    "tree_scores = model_selection.cross_val_score(tree_classifier, data, target, cv=cv)"
   ]
  },
  {
   "cell_type": "code",
   "execution_count": 31,
   "id": "4484476a",
   "metadata": {},
   "outputs": [],
   "source": [
    "bag_classifier = ensemble.BaggingClassifier(n_estimators=100)\n",
    "bag_scores = model_selection.cross_val_score(bag_classifier, data, target, cv=cv)"
   ]
  },
  {
   "cell_type": "code",
   "execution_count": 50,
   "id": "d29e2b51",
   "metadata": {},
   "outputs": [],
   "source": [
    "bag_limit_feat_class = ensemble.BaggingClassifier(n_estimators=100, \n",
    "                                                    max_features=int(np.sqrt(data.shape[1])))\n",
    "bag_limit_feat_score = model_selection.cross_val_score(bag_limit_feat_class, data, target, cv=cv)"
   ]
  },
  {
   "cell_type": "code",
   "execution_count": 83,
   "id": "2139ec97",
   "metadata": {},
   "outputs": [],
   "source": [
    "forest_tree = tree.DecisionTreeClassifier(max_features='sqrt')\n",
    "rand_forest_classifier = ensemble.BaggingClassifier(base_estimator=forest_tree, \n",
    "                                                    n_estimators=100)\n",
    "rand_forest_score = model_selection.cross_val_score(bag_limit_feat_class, data, target, cv=cv)"
   ]
  },
  {
   "cell_type": "code",
   "execution_count": 84,
   "id": "d14ab123",
   "metadata": {},
   "outputs": [],
   "source": [
    "write_answer('4.txt', [rand_forest_score.mean()])"
   ]
  },
  {
   "cell_type": "code",
   "execution_count": 97,
   "id": "f6e19a07",
   "metadata": {},
   "outputs": [],
   "source": [
    "param_grid3 = {'max_depth': np.array([1, 3, 5, 7, 9, None])}\n",
    "random_forest = ensemble.RandomForestClassifier()\n",
    "forest_optimizer3 = model_selection.GridSearchCV(random_forest, param_grid3, cv=5)"
   ]
  },
  {
   "cell_type": "code",
   "execution_count": 98,
   "id": "98a7a0b6",
   "metadata": {},
   "outputs": [
    {
     "data": {
      "text/plain": [
       "GridSearchCV(cv=5, estimator=RandomForestClassifier(),\n",
       "             param_grid=({'max_depth': array([1, 3, 5, 7, 9, None], dtype=object)},))"
      ]
     },
     "execution_count": 98,
     "metadata": {},
     "output_type": "execute_result"
    }
   ],
   "source": [
    "forest_optimizer3.fit(data, target)"
   ]
  },
  {
   "cell_type": "code",
   "execution_count": 105,
   "id": "fd5007f6",
   "metadata": {},
   "outputs": [
    {
     "data": {
      "text/plain": [
       "GridSearchCV(cv=5, estimator=RandomForestClassifier(),\n",
       "             param_grid={'max_features': array([ 1,  6, 11, 16, 21, 26, 31, 36, 41, 46, 51, 56, 61])})"
      ]
     },
     "execution_count": 105,
     "metadata": {},
     "output_type": "execute_result"
    }
   ],
   "source": [
    "param_grid2 = {'max_features': np.arange(1, data.shape[1], 5)}\n",
    "forest_optimizer2 = model_selection.GridSearchCV(random_forest, param_grid2, cv=5)\n",
    "forest_optimizer2.fit(data, target)"
   ]
  },
  {
   "cell_type": "code",
   "execution_count": 107,
   "id": "af93ac35",
   "metadata": {},
   "outputs": [
    {
     "data": {
      "text/plain": [
       "GridSearchCV(cv=5, estimator=RandomForestClassifier(),\n",
       "             param_grid={'n_estimators': array([ 5, 15, 25, 35, 45, 55, 65, 75, 85, 95])})"
      ]
     },
     "execution_count": 107,
     "metadata": {},
     "output_type": "execute_result"
    }
   ],
   "source": [
    "param_grid1 = {'n_estimators': np.arange(5, 105, 10)}\n",
    "forest_optimizer1 = model_selection.GridSearchCV(random_forest, param_grid1, cv=5)\n",
    "forest_optimizer1.fit(data, target)"
   ]
  },
  {
   "cell_type": "code",
   "execution_count": 109,
   "id": "cfbdf454",
   "metadata": {},
   "outputs": [],
   "source": [
    "write_answer('5.txt', [2, 3, 4, 7])"
   ]
  }
 ],
 "metadata": {
  "kernelspec": {
   "display_name": "Python 3 (ipykernel)",
   "language": "python",
   "name": "python3"
  },
  "language_info": {
   "codemirror_mode": {
    "name": "ipython",
    "version": 3
   },
   "file_extension": ".py",
   "mimetype": "text/x-python",
   "name": "python",
   "nbconvert_exporter": "python",
   "pygments_lexer": "ipython3",
   "version": "3.9.6"
  }
 },
 "nbformat": 4,
 "nbformat_minor": 5
}
