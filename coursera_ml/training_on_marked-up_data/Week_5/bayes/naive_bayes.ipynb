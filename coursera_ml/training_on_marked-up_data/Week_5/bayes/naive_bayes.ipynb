{
 "cells": [
  {
   "cell_type": "code",
   "execution_count": 13,
   "id": "bea96326",
   "metadata": {},
   "outputs": [],
   "source": [
    "import numpy as np\n",
    "import matplotlib.pyplot as plt\n",
    "import sklearn\n",
    "from sklearn import datasets, model_selection, naive_bayes"
   ]
  },
  {
   "cell_type": "code",
   "execution_count": 11,
   "id": "102ac48a",
   "metadata": {},
   "outputs": [],
   "source": [
    "digits_data, digits_target = datasets.load_digits(return_X_y=True)\n",
    "cancer_data, cancer_target = datasets.load_breast_cancer(return_X_y=True)"
   ]
  },
  {
   "cell_type": "code",
   "execution_count": 22,
   "id": "444be414",
   "metadata": {},
   "outputs": [
    {
     "name": "stdout",
     "output_type": "stream",
     "text": [
      "0.824\n",
      "0.627\n",
      "0.87\n",
      "0.896\n",
      "0.807\n",
      "0.939\n"
     ]
    }
   ],
   "source": [
    "classifiers = [naive_bayes.BernoulliNB(), \n",
    "                naive_bayes.MultinomialNB(), \n",
    "                naive_bayes.GaussianNB()]\n",
    "\n",
    "for classifier in classifiers:\n",
    "    for data, target in zip([digits_data, cancer_data], [digits_target, cancer_target]):\n",
    "        res = model_selection.cross_val_score(classifier, data, target)\n",
    "        print(round(res.mean(), 3))"
   ]
  },
  {
   "cell_type": "code",
   "execution_count": 23,
   "id": "6a2bba8b",
   "metadata": {},
   "outputs": [],
   "source": [
    "def write_answer(filename, ans):\n",
    "    file_obj = open(filename, \"w\")\n",
    "    file_obj.write(' '.join(list(map(str, ans))))\n",
    "    file_obj.close()"
   ]
  },
  {
   "cell_type": "code",
   "execution_count": 33,
   "id": "00dc1764",
   "metadata": {},
   "outputs": [],
   "source": [
    "write_answer('1.txt', [0.939])\n",
    "write_answer('2.txt', [0.87])\n",
    "write_answer('3.txt', [3, 4])"
   ]
  }
 ],
 "metadata": {
  "kernelspec": {
   "display_name": "Python 3 (ipykernel)",
   "language": "python",
   "name": "python3"
  },
  "language_info": {
   "codemirror_mode": {
    "name": "ipython",
    "version": 3
   },
   "file_extension": ".py",
   "mimetype": "text/x-python",
   "name": "python",
   "nbconvert_exporter": "python",
   "pygments_lexer": "ipython3",
   "version": "3.9.6"
  }
 },
 "nbformat": 4,
 "nbformat_minor": 5
}
