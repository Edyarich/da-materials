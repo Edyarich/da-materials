{
 "cells": [
  {
   "cell_type": "code",
   "execution_count": 46,
   "metadata": {},
   "outputs": [],
   "source": [
    "import numpy as np\n",
    "import sklearn\n",
    "import matplotlib.pyplot as plt\n",
    "from sklearn import datasets, model_selection, neighbors, metrics, ensemble"
   ]
  },
  {
   "cell_type": "code",
   "execution_count": 43,
   "metadata": {},
   "outputs": [],
   "source": [
    "def write_answer(filename, ans):\n",
    "    file_obj = open(filename, \"w\")\n",
    "    file_obj.write(' '.join(list(map(str, ans))))\n",
    "    file_obj.close()"
   ]
  },
  {
   "cell_type": "code",
   "execution_count": 4,
   "metadata": {},
   "outputs": [],
   "source": [
    "digits_data, digits_target = datasets.load_digits(return_X_y=True)\n",
    "X_train, X_test, y_train, y_test = model_selection.train_test_split(digits_data, \n",
    "                                                                    digits_target, \n",
    "                                                                    test_size=0.25, \n",
    "                                                                    shuffle=False)"
   ]
  },
  {
   "cell_type": "code",
   "execution_count": 35,
   "metadata": {},
   "outputs": [],
   "source": [
    "def knn_classifier(train_data, test_data, target):\n",
    "    assert train_data.shape[0] == target.size\n",
    "    \n",
    "    train_rows = train_data.shape[0]\n",
    "    test_rows = test_data.shape[0]\n",
    "    \n",
    "    repeated_train_data = np.tile(train_data, [test_rows, 1])\n",
    "    repeated_test_data_rows = np.repeat(test_data, train_rows, axis=0)\n",
    "    \n",
    "    dists = np.sum((np.square(repeated_train_data - repeated_test_data_rows)), axis=1)\n",
    "    dists = dists.reshape((test_rows, train_rows))\n",
    "    \n",
    "    # print(dists.argmin(axis=1))\n",
    "    return target[dists.argmin(axis=1)]"
   ]
  },
  {
   "cell_type": "code",
   "execution_count": 41,
   "metadata": {},
   "outputs": [],
   "source": [
    "y_pred = knn_classifier(X_train, X_test, y_train)\n",
    "knn_score = metrics.accuracy_score(y_test, y_pred)\n",
    "write_answer('1.txt', [1 - knn_score])"
   ]
  },
  {
   "cell_type": "code",
   "execution_count": 48,
   "metadata": {},
   "outputs": [],
   "source": [
    "rand_forest = ensemble.RandomForestClassifier(n_estimators=1000)\n",
    "\n",
    "rand_forest.fit(X_train, y_train)\n",
    "y_pred = rand_forest.predict(X_test)\n",
    "\n",
    "rf_score = metrics.accuracy_score(y_test, y_pred)\n",
    "write_answer('2.txt', [1 - rf_score])"
   ]
  }
 ],
 "metadata": {
  "kernelspec": {
   "display_name": "Python 3",
   "language": "python",
   "name": "python3"
  },
  "language_info": {
   "codemirror_mode": {
    "name": "ipython",
    "version": 3
   },
   "file_extension": ".py",
   "mimetype": "text/x-python",
   "name": "python",
   "nbconvert_exporter": "python",
   "pygments_lexer": "ipython3",
   "version": "3.8.10"
  }
 },
 "nbformat": 4,
 "nbformat_minor": 5
}
