{
 "cells": [
  {
   "cell_type": "code",
   "execution_count": 236,
   "id": "2deac9a5",
   "metadata": {},
   "outputs": [],
   "source": [
    "import numpy as np\n",
    "import re\n",
    "import itertools\n",
    "import scipy.spatial as spatial"
   ]
  },
  {
   "cell_type": "code",
   "execution_count": 110,
   "id": "decb875f",
   "metadata": {},
   "outputs": [],
   "source": [
    "lower_func = lambda string: string.lower()\n",
    "token_func = lambda string: re.split('[^a-z]', string)\n",
    "\n",
    "file_obj = open('sentences.txt', mode='r')\n",
    "strings = file_obj.read().split('\\n')\n",
    "file_obj.close()\n",
    "\n",
    "data = np.array(list(map(lower_func, strings)))"
   ]
  },
  {
   "cell_type": "code",
   "execution_count": 139,
   "id": "7d52b057",
   "metadata": {},
   "outputs": [],
   "source": [
    "tokens = list(map(token_func, data.tolist()))\n",
    "tokens = set().union(*tokens)\n",
    "tokens.remove('')"
   ]
  },
  {
   "cell_type": "code",
   "execution_count": 220,
   "id": "b0df6fb7",
   "metadata": {},
   "outputs": [],
   "source": [
    "tokens_cnt = len(tokens)\n",
    "sentences_cnt = len(strings)\n",
    "\n",
    "tokens_dict = dict(zip(range(tokens_cnt), tokens))\n",
    "strs_dict = dict(zip(range(sentences_cnt), strings))"
   ]
  },
  {
   "cell_type": "code",
   "execution_count": 230,
   "id": "840ebe93",
   "metadata": {},
   "outputs": [],
   "source": [
    "row_inds, col_inds = np.indices((sentences_cnt, tokens_cnt)).tolist()\n",
    "row_inds = (itertools.chain(*row_inds))\n",
    "col_inds = (itertools.chain(*col_inds))\n",
    "\n",
    "pattern_cnter_func = lambda i, j: strs_dict[i].count(tokens_dict[j])\n",
    "\n",
    "words_in_txt = list(map(pattern_cnter_func, row_inds, col_inds))\n",
    "words_in_txt = np.array(words_in_txt).reshape(sentences_cnt, tokens_cnt)"
   ]
  },
  {
   "cell_type": "code",
   "execution_count": 272,
   "id": "f01630f4",
   "metadata": {},
   "outputs": [],
   "source": [
    "cos_dist_func = lambda vec: spatial.distance.cosine(words_in_txt[0], vec)\n",
    "cos_dist = list(map(cos_dist_func, words_in_txt.tolist()))"
   ]
  },
  {
   "cell_type": "code",
   "execution_count": 310,
   "id": "31a261a2",
   "metadata": {},
   "outputs": [],
   "source": [
    "cleared_cos_dist = np.array(list(enumerate(cos_dist)))[1:-1]\n",
    "\n",
    "min_elem_ind = cleared_cos_dist.argmin(axis=0)[1]\n",
    "nearest_str_ind = int(cleared_cos_dist[min_elem_ind][0])\n",
    "\n",
    "cleared_cos_dist = np.delete(cleared_cos_dist, min_elem_ind, axis=0)\n",
    "\n",
    "snd_min_elem_ind = cleared_cos_dist.argmin(axis=0)[1]\n",
    "snd_nearest_str_ind = int(cleared_cos_dist[snd_min_elem_ind][0])"
   ]
  },
  {
   "cell_type": "code",
   "execution_count": 311,
   "id": "2d7cc85d",
   "metadata": {},
   "outputs": [],
   "source": [
    "file_obj = open('submission-1.txt', \"w\")\n",
    "file_obj.write('{} {}'.format(nearest_str_ind, snd_nearest_str_ind))\n",
    "file_obj.close()"
   ]
  }
 ],
 "metadata": {
  "kernelspec": {
   "display_name": "Python 3 (ipykernel)",
   "language": "python",
   "name": "python3"
  },
  "language_info": {
   "codemirror_mode": {
    "name": "ipython",
    "version": 3
   },
   "file_extension": ".py",
   "mimetype": "text/x-python",
   "name": "python",
   "nbconvert_exporter": "python",
   "pygments_lexer": "ipython3",
   "version": "3.9.6"
  }
 },
 "nbformat": 4,
 "nbformat_minor": 5
}
