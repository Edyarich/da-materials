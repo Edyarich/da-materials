{
 "cells": [
  {
   "cell_type": "code",
   "execution_count": 1,
   "id": "d375f0b1",
   "metadata": {},
   "outputs": [],
   "source": [
    "import numpy as np\n",
    "import matplotlib.pyplot as plt\n",
    "import scipy.optimize as opt"
   ]
  },
  {
   "cell_type": "code",
   "execution_count": 3,
   "id": "1f71906b",
   "metadata": {},
   "outputs": [],
   "source": [
    "def f(x):\n",
    "    return np.sin(x/5) * np.exp(x/10) + 5 * np.exp(-x/2)\n",
    "\n",
    "def_range = np.array([1, 30], dtype=int)"
   ]
  },
  {
   "cell_type": "code",
   "execution_count": 105,
   "id": "f326c3b0",
   "metadata": {},
   "outputs": [],
   "source": [
    "def h(x):\n",
    "    return np.int64(f(x))"
   ]
  },
  {
   "cell_type": "code",
   "execution_count": 18,
   "id": "97d0b683",
   "metadata": {},
   "outputs": [
    {
     "data": {
      "text/plain": [
       "1.745268290331984"
      ]
     },
     "execution_count": 18,
     "metadata": {},
     "output_type": "execute_result"
    }
   ],
   "source": [
    "opt.minimize(f, x0=5).fun"
   ]
  },
  {
   "cell_type": "code",
   "execution_count": 17,
   "id": "16e20215",
   "metadata": {},
   "outputs": [
    {
     "data": {
      "text/plain": [
       "-11.89889466596626"
      ]
     },
     "execution_count": 17,
     "metadata": {},
     "output_type": "execute_result"
    }
   ],
   "source": [
    "opt.minimize(f, x0=25).fun"
   ]
  },
  {
   "cell_type": "code",
   "execution_count": 25,
   "id": "331aa1ce",
   "metadata": {},
   "outputs": [],
   "source": [
    "ans1 = np.round(opt.minimize(f, x0=2, method='BFGS').fun, decimals=2)\n",
    "ans2 = np.round(opt.minimize(f, x0=30, method='BFGS').fun, decimals=2)"
   ]
  },
  {
   "cell_type": "code",
   "execution_count": 114,
   "id": "762ee4c2",
   "metadata": {},
   "outputs": [],
   "source": [
    "file_obj = open('submission-1.txt', mode='w')\n",
    "file_obj.write('{} {}'.format(ans1, ans2))\n",
    "file_obj.close()"
   ]
  },
  {
   "cell_type": "code",
   "execution_count": 74,
   "id": "0163333a",
   "metadata": {},
   "outputs": [],
   "source": [
    "ans3 = opt.differential_evolution(func=f, bounds=[tuple(def_range)]).fun.sum()"
   ]
  },
  {
   "cell_type": "code",
   "execution_count": 75,
   "id": "172d6684",
   "metadata": {},
   "outputs": [],
   "source": [
    "file_obj = open('submission-2.txt', mode='w')\n",
    "file_obj.write('{}'.format(np.round(ans3, 2)))\n",
    "file_obj.close()"
   ]
  },
  {
   "cell_type": "code",
   "execution_count": 79,
   "id": "02284c60",
   "metadata": {},
   "outputs": [
    {
     "data": {
      "text/plain": [
       "      fun: -11.89889466596626\n",
       " hess_inv: array([[1.67418754]])\n",
       "      jac: array([-4.29153442e-06])\n",
       "  message: 'Optimization terminated successfully.'\n",
       "     nfev: 10\n",
       "      nit: 4\n",
       "     njev: 5\n",
       "   status: 0\n",
       "  success: True\n",
       "        x: array([25.88018592])"
      ]
     },
     "execution_count": 79,
     "metadata": {},
     "output_type": "execute_result"
    }
   ],
   "source": [
    "opt.minimize(f, x0=25, method='BFGS')"
   ]
  },
  {
   "cell_type": "code",
   "execution_count": 76,
   "id": "a1259283",
   "metadata": {},
   "outputs": [
    {
     "data": {
      "text/plain": [
       "     fun: array([-11.89889467])\n",
       "     jac: array([0.])\n",
       " message: 'Optimization terminated successfully.'\n",
       "    nfev: 83\n",
       "     nit: 4\n",
       " success: True\n",
       "       x: array([25.88019311])"
      ]
     },
     "execution_count": 76,
     "metadata": {},
     "output_type": "execute_result"
    }
   ],
   "source": [
    "opt.differential_evolution(func=f, bounds=[tuple(def_range)])"
   ]
  },
  {
   "cell_type": "code",
   "execution_count": 112,
   "id": "5cf9809f",
   "metadata": {},
   "outputs": [],
   "source": [
    "ans4 = opt.minimize(h, x0=30, method='BFGS').fun\n",
    "ans5 = opt.differential_evolution(func=h, bounds=[tuple(def_range)]).fun"
   ]
  },
  {
   "cell_type": "code",
   "execution_count": 115,
   "id": "a5f326d8",
   "metadata": {},
   "outputs": [],
   "source": [
    "file_obj = open('submission-3.txt', mode='w')\n",
    "file_obj.write('{} {}'.format(ans4, ans5))\n",
    "file_obj.close()"
   ]
  }
 ],
 "metadata": {
  "kernelspec": {
   "display_name": "Python 3 (ipykernel)",
   "language": "python",
   "name": "python3"
  },
  "language_info": {
   "codemirror_mode": {
    "name": "ipython",
    "version": 3
   },
   "file_extension": ".py",
   "mimetype": "text/x-python",
   "name": "python",
   "nbconvert_exporter": "python",
   "pygments_lexer": "ipython3",
   "version": "3.9.6"
  }
 },
 "nbformat": 4,
 "nbformat_minor": 5
}
