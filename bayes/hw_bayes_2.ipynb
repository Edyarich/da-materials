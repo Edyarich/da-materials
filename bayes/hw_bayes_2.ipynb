{
 "cells": [
  {
   "cell_type": "code",
   "execution_count": 1,
   "id": "de3d1fba",
   "metadata": {},
   "outputs": [],
   "source": [
    "import scipy.stats as sps\n",
    "import numpy as np\n",
    "from matplotlib import pyplot as plt\n",
    "from sklearn.decomposition import PCA, TruncatedSVD\n",
    "\n",
    "\n",
    "%matplotlib inline"
   ]
  },
  {
   "cell_type": "code",
   "execution_count": 2,
   "id": "ef2d9656",
   "metadata": {},
   "outputs": [],
   "source": [
    "plt.rcParams['figure.figsize'] = 14, 8\n",
    "plt.rcParams['font.family'] = 'DejaVu Serif'\n",
    "plt.rcParams['lines.linewidth'] = 2\n",
    "plt.rcParams['lines.markersize'] = 8\n",
    "plt.rcParams['xtick.labelsize'] = 12\n",
    "plt.rcParams['ytick.labelsize'] = 12\n",
    "plt.rcParams['legend.fontsize'] = 14\n",
    "plt.rcParams['axes.titlesize'] = 24\n",
    "plt.rcParams['axes.labelsize'] = 16\n",
    "\n",
    "SEED = 42\n",
    "np.random.seed(seed=SEED)"
   ]
  },
  {
   "cell_type": "markdown",
   "id": "059ae989",
   "metadata": {},
   "source": [
    "## Задача 2"
   ]
  },
  {
   "cell_type": "markdown",
   "id": "8f0d4715",
   "metadata": {},
   "source": [
    "**Класс для семплирования X, w, y из совместного распределения**"
   ]
  },
  {
   "cell_type": "code",
   "execution_count": 48,
   "id": "729f89ec",
   "metadata": {},
   "outputs": [],
   "source": [
    "class JointDistribution(sps.rv_continuous):\n",
    "    def __init__(self, alpha, sigma, n, \n",
    "                 x_seed=None, w_seed=None, y_seed=None):\n",
    "        super().__init__(self)\n",
    "        \n",
    "        self.x_distr = sps.multivariate_normal(\n",
    "            mean=np.zeros(n),\n",
    "            cov=np.eye(n)*sigma,\n",
    "            seed=x_seed\n",
    "        )\n",
    "        self.w_distr = sps.multivariate_normal(\n",
    "            mean=np.zeros(n),\n",
    "            cov=np.eye(n)/alpha,\n",
    "            seed=w_seed\n",
    "        )\n",
    "        self.unif_distr = sps.uniform()\n",
    "        self.unif_seed = y_seed\n",
    "        self.n = n\n",
    "    \n",
    "    def _calc_y_proba(self, objects, weights):\n",
    "        assert objects.ndim <= 2 and weights.ndim == 1\n",
    "        \n",
    "        if objects.ndim == 1:\n",
    "            objects = objects.reshape(1, -1)\n",
    "        \n",
    "        return 1 / (1 + np.exp(-np.einsum(\"ij, j -> i\", objects, weights)))\n",
    "        \n",
    "    def rvs(self, size):\n",
    "        if not isinstance(size, int):\n",
    "            raise ValueError(f\"Expect type(size) == int, got {type(size)}\")\n",
    "        \n",
    "        # objects.shape = (size, self.n)\n",
    "        # weights.shape = (self.n)\n",
    "        objects = self.x_distr.rvs(size)\n",
    "        weights = self.w_distr.rvs(1)\n",
    "        \n",
    "        y_probas = self._calc_y_proba(objects, weights)\n",
    "        bool_targets = self.unif_distr.rvs(size, self.unif_seed) >= 1 - y_probas\n",
    "        targets = 2 * bool_targets - 1\n",
    "        \n",
    "        return objects, weights, targets\n",
    "    \n",
    "    def _pdf(self, obj, weight, trg):\n",
    "        x_proba = self.x_distr.pdf(obj)\n",
    "        w_proba = self.w_distr.pdf(weight)\n",
    "        \n",
    "        y_proba = self._calc_y_proba(obj, weight)\n",
    "        y_proba = np.where(trg == 1, y_probas, 1 - y_probas)\n",
    "        \n",
    "        return x_proba * w_proba * y_proba"
   ]
  },
  {
   "cell_type": "markdown",
   "id": "d7f6d42d",
   "metadata": {},
   "source": [
    "**Задаём константы**"
   ]
  },
  {
   "cell_type": "code",
   "execution_count": 68,
   "id": "3bf832e1",
   "metadata": {},
   "outputs": [],
   "source": [
    "n = 10\n",
    "sigma = 8**2\n",
    "alpha = 2**2\n",
    "max_test_size = 10000\n",
    "x_seed = SEED\n",
    "w_seed = SEED+1\n",
    "y_seed = SEED+2\n",
    "\n",
    "distr = JointDistribution(alpha, sigma, n, x_seed, w_seed, y_seed)\n",
    "x_test, w_true, y_test = distr.rvs(max_test_size)"
   ]
  },
  {
   "cell_type": "markdown",
   "id": "96276c22",
   "metadata": {},
   "source": [
    "**Вычисление AUC**"
   ]
  },
  {
   "cell_type": "code",
   "execution_count": 70,
   "id": "0207de8c",
   "metadata": {},
   "outputs": [
    {
     "name": "stdout",
     "output_type": "stream",
     "text": [
      "Finish to work with test_size = 50\n",
      "Finish to work with test_size = 500\n",
      "Finish to work with test_size = 2000\n",
      "Finish to work with test_size = 5000\n",
      "Finish to work with test_size = 10000\n"
     ]
    }
   ],
   "source": [
    "auc_arr = []\n",
    "\n",
    "for test_size in (50, 500, 2000, 5000, max_test_size):\n",
    "    x_data = x_test[:test_size]\n",
    "    y_data = y_test[:test_size]\n",
    "    \n",
    "    pos_indices = np.flatnonzero(y_data == 1)\n",
    "    pos_objects = x_data[pos_indices]\n",
    "    neg_indices = np.flatnonzero(y_data == -1)\n",
    "    neg_objects = x_data[neg_indices]\n",
    "    \n",
    "    k_total_pairs = pos_indices.size * neg_indices.size\n",
    "    k_great_pairs = 0\n",
    "    \n",
    "    for pos_elem in pos_objects:\n",
    "        for neg_elem in neg_objects:\n",
    "            if np.dot(w_true, pos_elem - neg_elem) > 0:\n",
    "                k_great_pairs += 1\n",
    "                \n",
    "    auc_arr.append(k_great_pairs / k_total_pairs)\n",
    "    print(f\"Finish to work with test_size = {test_size}\")"
   ]
  },
  {
   "cell_type": "code",
   "execution_count": 74,
   "id": "2b1fe193",
   "metadata": {},
   "outputs": [
    {
     "name": "stdout",
     "output_type": "stream",
     "text": [
      "[0.9808, 0.9913, 0.9937, 0.9929, 0.9924]\n"
     ]
    }
   ],
   "source": [
    "print([round(auc, 4) for auc in auc_arr])"
   ]
  },
  {
   "cell_type": "markdown",
   "id": "3e21a166",
   "metadata": {},
   "source": [
    "## Задача 4"
   ]
  },
  {
   "cell_type": "markdown",
   "id": "8b5bb1d5",
   "metadata": {},
   "source": [
    "**Определение функций для эксперимента**  ($j^* = 0$)"
   ]
  },
  {
   "cell_type": "code",
   "execution_count": 46,
   "id": "39995292",
   "metadata": {},
   "outputs": [],
   "source": [
    "def print_table_of_errors(true_conf_lvl, false_conf_lvl, \n",
    "                          true_hyp_p_values, false_hyp_p_values):\n",
    "    TP = np.sum(true_hyp_p_values >= true_conf_lvl)\n",
    "    TN = np.sum(false_hyp_p_values < false_conf_lvl)\n",
    "    FN = np.sum(true_hyp_p_values < true_conf_lvl)\n",
    "    FP = np.sum(false_hyp_p_values >= false_conf_lvl)\n",
    "    \n",
    "    format_str = '{:<16} | {:<12} | {:<12} | {:<8}'\n",
    "    print(format_str.format(' ', 'H0 - верна', 'H0 - ложна', 'Всего'))\n",
    "    print('-' * 57)\n",
    "    print(format_str.format('# принятых H0', TP, FP, TP+FP))\n",
    "    print('-' * 57)\n",
    "    print(format_str.format('# отвергнутых H0', FN, TN, FN+TN))\n",
    "    print('-' * 57)\n",
    "    print(format_str.format('Всего', TP+FN, FP+TN, TP+FP+FN+TN))\n",
    "    \n",
    "    \n",
    "def build_samples(m1, m2, n=100):\n",
    "    stand_norm_distr = sps.multivariate_normal(\n",
    "        mean=np.zeros(n),\n",
    "        cov=np.eye(n),\n",
    "        seed=SEED\n",
    "    )\n",
    "\n",
    "    sample = stand_norm_distr.rvs(m1+m2)\n",
    "    sigma = np.sqrt(np.arange(1, 1+n)).reshape(1, -1)\n",
    "    \n",
    "    j_star = 0\n",
    "    sample *= sigma\n",
    "    sample[:m1, j_star] += 1\n",
    "    \n",
    "    return sample[:m1, :], sample[m1:, :]\n",
    "\n",
    "\n",
    "def calc_t_stat(first_sample, second_sample):\n",
    "    total_var = first_sample.var() * len(first_sample)\n",
    "    total_var += second_sample.var() * len(second_sample)\n",
    "    total_var /= (len(first_sample) + len(second_sample) - 2)\n",
    "    \n",
    "    coef = (1 / len(first_sample) + 1 / len(second_sample))**0.5\n",
    "    mean_diff = first_sample.mean() - second_sample.mean()\n",
    "    \n",
    "    return mean_diff / coef / total_var**0.5"
   ]
  },
  {
   "cell_type": "markdown",
   "id": "1e9bf4a6",
   "metadata": {},
   "source": [
    "**Проверка гипотезы о равенстве средних**"
   ]
  },
  {
   "cell_type": "code",
   "execution_count": 56,
   "id": "28291ee5",
   "metadata": {},
   "outputs": [
    {
     "name": "stdout",
     "output_type": "stream",
     "text": [
      "                 | H0 - верна   | H0 - ложна   | Всего   \n",
      "---------------------------------------------------------\n",
      "# принятых H0    | 93           | 0            | 93      \n",
      "---------------------------------------------------------\n",
      "# отвергнутых H0 | 6            | 1            | 7       \n",
      "---------------------------------------------------------\n",
      "Всего            | 99           | 1            | 100     \n"
     ]
    }
   ],
   "source": [
    "alpha = 0.05\n",
    "n = 100\n",
    "m1 = 500\n",
    "m2 = 500\n",
    "t_stat_values = []\n",
    "first_sample, second_sample = build_samples(m1, m2, n)\n",
    "\n",
    "for i in range(n):\n",
    "    x_sample, y_sample = first_sample[:, i], second_sample[:, i]\n",
    "    t_stat_values.append(calc_t_stat(x_sample, y_sample))\n",
    "    \n",
    "t_stat_values = np.array(t_stat_values)\n",
    "distr = sps.t(m1+m2-2)\n",
    "first_pval = distr.cdf(t_stat_values)\n",
    "second_pval = distr.cdf(-t_stat_values)\n",
    "p_values = np.array([min(x, y) for x, y in zip(first_pval, second_pval)])\n",
    "\n",
    "print_table_of_errors(alpha/2, alpha/2, p_values[1:], p_values[:1])"
   ]
  },
  {
   "cell_type": "markdown",
   "id": "f4e59401",
   "metadata": {},
   "source": [
    "**Поправка Бенджамини-Хохберга**"
   ]
  },
  {
   "cell_type": "code",
   "execution_count": 57,
   "id": "5ed1919d",
   "metadata": {},
   "outputs": [
    {
     "name": "stdout",
     "output_type": "stream",
     "text": [
      "Adjusted threshold = 0.0005\n",
      "\n",
      "                 | H0 - верна   | H0 - ложна   | Всего   \n",
      "---------------------------------------------------------\n",
      "# принятых H0    | 99           | 0            | 99      \n",
      "---------------------------------------------------------\n",
      "# отвергнутых H0 | 0            | 1            | 1       \n",
      "---------------------------------------------------------\n",
      "Всего            | 99           | 1            | 100     \n"
     ]
    }
   ],
   "source": [
    "def thr_line_equation(alpha, hyp_count):\n",
    "    return np.linspace(alpha/hyp_count, alpha, hyp_count)\n",
    "\n",
    "\n",
    "def get_adjusted_thr(p_values, alpha, hyp_count):\n",
    "    sorted_p_values = np.sort(p_values)\n",
    "\n",
    "    ticks = np.arange(hyp_count)\n",
    "    thr_line = thr_line_equation(alpha, hyp_count)\n",
    "\n",
    "    max_thr_ind = -1 if np.all(sorted_p_values >= thr_line) \\\n",
    "                    else np.flatnonzero(sorted_p_values < thr_line).max()\n",
    "\n",
    "    adjusted_thr = 0 if max_thr_ind == -1 \\\n",
    "                    else thr_line[max_thr_ind]\n",
    "\n",
    "    return adjusted_thr\n",
    "\n",
    "\n",
    "adjusted_thr = get_adjusted_thr(p_values, alpha, n)\n",
    "print(f\"Adjusted threshold =\", round(adjusted_thr, 4))\n",
    "print()\n",
    "print_table_of_errors(adjusted_thr, adjusted_thr, p_values[1:], p_values[:1])"
   ]
  },
  {
   "cell_type": "markdown",
   "id": "29c21651",
   "metadata": {},
   "source": [
    "**Изучение зав-ти TP и FP от m1 и m2**"
   ]
  },
  {
   "cell_type": "code",
   "execution_count": 60,
   "id": "e5b7f8d5",
   "metadata": {},
   "outputs": [
    {
     "name": "stdout",
     "output_type": "stream",
     "text": [
      "m1 = 10, m2 = 10\n",
      "                 | H0 - верна   | H0 - ложна   | Всего   \n",
      "---------------------------------------------------------\n",
      "# принятых H0    | 95           | 1            | 96      \n",
      "---------------------------------------------------------\n",
      "# отвергнутых H0 | 4            | 0            | 4       \n",
      "---------------------------------------------------------\n",
      "Всего            | 99           | 1            | 100     \n",
      "---------------------------------------------------------\n",
      "m1 = 10, m2 = 25\n",
      "                 | H0 - верна   | H0 - ложна   | Всего   \n",
      "---------------------------------------------------------\n",
      "# принятых H0    | 96           | 0            | 96      \n",
      "---------------------------------------------------------\n",
      "# отвергнутых H0 | 3            | 1            | 4       \n",
      "---------------------------------------------------------\n",
      "Всего            | 99           | 1            | 100     \n",
      "---------------------------------------------------------\n",
      "m1 = 50, m2 = 50\n",
      "                 | H0 - верна   | H0 - ложна   | Всего   \n",
      "---------------------------------------------------------\n",
      "# принятых H0    | 95           | 0            | 95      \n",
      "---------------------------------------------------------\n",
      "# отвергнутых H0 | 4            | 1            | 5       \n",
      "---------------------------------------------------------\n",
      "Всего            | 99           | 1            | 100     \n",
      "---------------------------------------------------------\n",
      "m1 = 50, m2 = 100\n",
      "                 | H0 - верна   | H0 - ложна   | Всего   \n",
      "---------------------------------------------------------\n",
      "# принятых H0    | 93           | 0            | 93      \n",
      "---------------------------------------------------------\n",
      "# отвергнутых H0 | 6            | 1            | 7       \n",
      "---------------------------------------------------------\n",
      "Всего            | 99           | 1            | 100     \n",
      "---------------------------------------------------------\n",
      "m1 = 100, m2 = 100\n",
      "                 | H0 - верна   | H0 - ложна   | Всего   \n",
      "---------------------------------------------------------\n",
      "# принятых H0    | 96           | 0            | 96      \n",
      "---------------------------------------------------------\n",
      "# отвергнутых H0 | 3            | 1            | 4       \n",
      "---------------------------------------------------------\n",
      "Всего            | 99           | 1            | 100     \n",
      "---------------------------------------------------------\n",
      "m1 = 100, m2 = 250\n",
      "                 | H0 - верна   | H0 - ложна   | Всего   \n",
      "---------------------------------------------------------\n",
      "# принятых H0    | 93           | 0            | 93      \n",
      "---------------------------------------------------------\n",
      "# отвергнутых H0 | 6            | 1            | 7       \n",
      "---------------------------------------------------------\n",
      "Всего            | 99           | 1            | 100     \n",
      "---------------------------------------------------------\n",
      "m1 = 250, m2 = 250\n",
      "                 | H0 - верна   | H0 - ложна   | Всего   \n",
      "---------------------------------------------------------\n",
      "# принятых H0    | 95           | 0            | 95      \n",
      "---------------------------------------------------------\n",
      "# отвергнутых H0 | 4            | 1            | 5       \n",
      "---------------------------------------------------------\n",
      "Всего            | 99           | 1            | 100     \n",
      "---------------------------------------------------------\n",
      "m1 = 250, m2 = 500\n",
      "                 | H0 - верна   | H0 - ложна   | Всего   \n",
      "---------------------------------------------------------\n",
      "# принятых H0    | 94           | 0            | 94      \n",
      "---------------------------------------------------------\n",
      "# отвергнутых H0 | 5            | 1            | 6       \n",
      "---------------------------------------------------------\n",
      "Всего            | 99           | 1            | 100     \n",
      "---------------------------------------------------------\n"
     ]
    }
   ],
   "source": [
    "m1_arr = [10, 10, 50, 50, 100, 100, 250, 250]\n",
    "m2_arr = [10, 25, 50, 100, 100, 250, 250, 500]\n",
    "alpha = 0.05\n",
    "\n",
    "for m1, m2 in zip(m1_arr, m2_arr):\n",
    "    t_stat_values = []\n",
    "    first_sample, second_sample = build_samples(m1, m2, n)\n",
    "\n",
    "    for i in range(n):\n",
    "        x_sample, y_sample = first_sample[:, i], second_sample[:, i]\n",
    "        t_stat_values.append(calc_t_stat(x_sample, y_sample))\n",
    "\n",
    "    p_values = 1 - sps.t(m1+m2-2).cdf(t_stat_values)\n",
    "    print(f\"m1 = {m1}, m2 = {m2}\")\n",
    "    print_table_of_errors(alpha, alpha, p_values[1:], p_values[:1])\n",
    "    print(\"---------------------------------------------------------\")"
   ]
  },
  {
   "cell_type": "markdown",
   "id": "01ba0807",
   "metadata": {},
   "source": [
    "**Вывод:** Confusion matrix особо не меняется с ростом размера выборок"
   ]
  }
 ],
 "metadata": {
  "kernelspec": {
   "display_name": "Python 3",
   "language": "python",
   "name": "python3"
  }
 },
 "nbformat": 4,
 "nbformat_minor": 5
}
