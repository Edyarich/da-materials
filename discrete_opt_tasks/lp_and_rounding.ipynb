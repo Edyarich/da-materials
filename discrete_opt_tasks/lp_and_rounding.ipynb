{
 "cells": [
  {
   "cell_type": "code",
   "execution_count": 56,
   "id": "5ff74144",
   "metadata": {},
   "outputs": [],
   "source": [
    "import numpy as np\n",
    "from scipy.optimize import linprog"
   ]
  },
  {
   "cell_type": "markdown",
   "id": "7ca9dfda",
   "metadata": {},
   "source": [
    "Input:\n",
    "\n",
    "12 9  \n",
    "1 1 2 6 9  \n",
    "1 0 2 7 10  \n",
    "1 0 1 8 11  \n",
    "1 0 4 5 9  \n",
    "1 1 3 5 10  \n",
    "1 2 3 4 11  \n",
    "1 3 7 8 9  \n",
    "1 4 6 8 10  \n",
    "1 5 6 7 11  "
   ]
  },
  {
   "cell_type": "code",
   "execution_count": 36,
   "id": "ed832e72",
   "metadata": {},
   "outputs": [
    {
     "name": "stdout",
     "output_type": "stream",
     "text": [
      "Enter number of columns and rows: 12 9\n",
      "1 1 2 6 9\n",
      "1 0 2 7 10\n",
      "1 0 1 8 11\n",
      "1 0 4 5 9\n",
      "1 1 3 5 10\n",
      "1 2 3 4 11\n",
      "1 3 7 8 9\n",
      "1 4 6 8 10\n",
      "1 5 6 7 11\n"
     ]
    },
    {
     "data": {
      "text/plain": [
       "array([[False,  True,  True, False, False, False,  True, False, False,\n",
       "         True, False, False],\n",
       "       [ True, False,  True, False, False, False, False,  True, False,\n",
       "        False,  True, False],\n",
       "       [ True,  True, False, False, False, False, False, False,  True,\n",
       "        False, False,  True],\n",
       "       [ True, False, False, False,  True,  True, False, False, False,\n",
       "         True, False, False],\n",
       "       [False,  True, False,  True, False,  True, False, False, False,\n",
       "        False,  True, False],\n",
       "       [False, False,  True,  True,  True, False, False, False, False,\n",
       "        False, False,  True],\n",
       "       [False, False, False,  True, False, False, False,  True,  True,\n",
       "         True, False, False],\n",
       "       [False, False, False, False,  True, False,  True, False,  True,\n",
       "        False,  True, False],\n",
       "       [False, False, False, False, False,  True,  True,  True, False,\n",
       "        False, False,  True]])"
      ]
     },
     "execution_count": 36,
     "metadata": {},
     "output_type": "execute_result"
    }
   ],
   "source": [
    "n_cols, n_rows = input(\"Enter number of columns and rows: \").split()\n",
    "n_cols = int(n_cols)\n",
    "n_rows = int(n_rows)\n",
    "\n",
    "cover_mat = np.zeros((n_rows, n_cols), dtype=np.int8)\n",
    "row_weights = np.zeros(n_rows, dtype=int)\n",
    "\n",
    "for i in range(n_rows):\n",
    "    covered_columns = list(map(int, input().split()))\n",
    "    row_weight = covered_columns[0]\n",
    "    \n",
    "    row_weights[i] = row_weight\n",
    "    cover_mat[i, covered_columns[1:]] = True"
   ]
  },
  {
   "cell_type": "code",
   "execution_count": 123,
   "id": "930d19a5",
   "metadata": {},
   "outputs": [],
   "source": [
    "result = linprog(row_weights, \n",
    "                 A_ub=-cover_mat.T, \n",
    "                 b_ub=np.full(n_cols, -1),\n",
    "                 bounds=(0, 1))"
   ]
  },
  {
   "cell_type": "code",
   "execution_count": 149,
   "id": "a7a94032",
   "metadata": {},
   "outputs": [
    {
     "name": "stdout",
     "output_type": "stream",
     "text": [
      "15\n",
      "2 3 4 7 8 9\n"
     ]
    }
   ],
   "source": [
    "def is_cover(decision_vars, cover_mat):\n",
    "    return np.all(cover_mat.T @ decision_vars >= 1)\n",
    "\n",
    "best_score = float('inf')\n",
    "best_solution = np.ones(n_rows, dtype=bool)\n",
    "\n",
    "for _ in range(10):\n",
    "    iter_vars = np.zeros(n_rows, dtype=bool)\n",
    "\n",
    "    while not is_cover(iter_vars, cover_mat):\n",
    "        for i in range(n_rows):\n",
    "            if np.random.rand() <= result.x[i]:\n",
    "                iter_vars[i] = 1\n",
    "                \n",
    "                if iter_vars.sum() >= np.ceil(np.sum(result.x)):\n",
    "                    if is_cover(iter_vars, cover_mat):\n",
    "                        break\n",
    "    \n",
    "    iter_score = np.dot(iter_vars, row_weights)\n",
    "    \n",
    "    if iter_score < best_score:\n",
    "        best_score = iter_score\n",
    "        best_solution = iter_vars\n",
    "        \n",
    "print(best_score)\n",
    "print(*np.nonzero(best_solution)[0]+1)"
   ]
  }
 ],
 "metadata": {
  "kernelspec": {
   "display_name": "Python 3 (ipykernel)",
   "language": "python",
   "name": "python3"
  },
  "language_info": {
   "codemirror_mode": {
    "name": "ipython",
    "version": 3
   },
   "file_extension": ".py",
   "mimetype": "text/x-python",
   "name": "python",
   "nbconvert_exporter": "python",
   "pygments_lexer": "ipython3",
   "version": "3.9.7"
  }
 },
 "nbformat": 4,
 "nbformat_minor": 5
}
