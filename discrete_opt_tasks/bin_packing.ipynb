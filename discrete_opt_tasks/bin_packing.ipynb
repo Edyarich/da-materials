{
 "cells": [
  {
   "cell_type": "code",
   "execution_count": 3,
   "id": "9b49105e",
   "metadata": {},
   "outputs": [
    {
     "name": "stdout",
     "output_type": "stream",
     "text": [
      "6\n",
      "1440\n",
      "360\n",
      "850\n",
      "630\n",
      "70\n",
      "700\n",
      "210\n"
     ]
    }
   ],
   "source": [
    "import numpy as np\n",
    "\n",
    "\n",
    "items_cnt = int(input())\n",
    "container_size = int(input())\n",
    "\n",
    "items = []\n",
    "\n",
    "for i in range(items_cnt):\n",
    "    item = int(input())\n",
    "    \n",
    "    if item > container_size:\n",
    "        print(\"Item weight is greater than container's capacity\")\n",
    "        continue\n",
    "        \n",
    "    items.append(item)\n",
    "    \n",
    "items = np.array(items)"
   ]
  },
  {
   "cell_type": "code",
   "execution_count": 34,
   "id": "1aefc2c3",
   "metadata": {},
   "outputs": [
    {
     "data": {
      "text/plain": [
       "(2, array([0, 0, 1, 1, 1, 0]))"
      ]
     },
     "execution_count": 34,
     "metadata": {},
     "output_type": "execute_result"
    }
   ],
   "source": [
    "def first_fit_decr(items, container_size, is_sorted=False):\n",
    "    if not is_sorted:\n",
    "        sorted_inds = np.argsort(items)[::-1]\n",
    "    else:\n",
    "        sorted_inds = np.arange(len(items))\n",
    "    \n",
    "    items_location = np.zeros_like(items)\n",
    "    containers_residual_size = []\n",
    "    \n",
    "    for item_ind in sorted_inds:\n",
    "        item = items[item_ind]\n",
    "        \n",
    "        for cont_ind, cont_size in enumerate(containers_residual_size):\n",
    "            if item < cont_size:\n",
    "                items_location[item_ind] = cont_ind\n",
    "                containers_residual_size[cont_ind] -= item\n",
    "                break\n",
    "        else:\n",
    "            items_location[item_ind] = len(containers_residual_size)\n",
    "            containers_residual_size.append(container_size-item)\n",
    "            \n",
    "    return len(containers_residual_size), items_location\n",
    "\n",
    "first_fit_decr(items, container_size)"
   ]
  },
  {
   "cell_type": "code",
   "execution_count": 35,
   "id": "41116256",
   "metadata": {},
   "outputs": [],
   "source": [
    "def bp_evaluation(curr_ind: int, \n",
    "                  items: np.ndarray,\n",
    "                  items_inds: np.ndarray,\n",
    "                  items_loc: np.ndarray, \n",
    "                  cont_sizes: np.ndarray) -> (bool, np.ndarray):\n",
    "    if curr_ind == items.size:\n",
    "        return True, items_loc\n",
    "    \n",
    "    item = items[items_inds[curr_ind]]\n",
    "    \n",
    "    for cont_ind, cont_size in enumerate(cont_sizes):\n",
    "        if cont_size >= item:\n",
    "            items_loc[items_inds[curr_ind]] = cont_ind\n",
    "            cont_sizes[cont_ind] -= item\n",
    "            \n",
    "            is_solved, solution = bp_evaluation(curr_ind+1, items, items_inds, items_loc, cont_sizes)\n",
    "            \n",
    "            if is_solved:\n",
    "                return is_solved, solution\n",
    "            else:\n",
    "                items_loc[items_inds[curr_ind]] = -1\n",
    "                cont_sizes[cont_ind] += item\n",
    "                \n",
    "        elif curr_ind == cont_ind:\n",
    "            break\n",
    "            \n",
    "    return False, np.array([])\n",
    "\n",
    "def solve_bin_packing(items: np.ndarray, cap: int) -> (int, np.ndarray):\n",
    "    items_loc = np.full_like(items, -1)\n",
    "    sorted_inds = np.argsort(items)[::-1]\n",
    "    \n",
    "    lower_bound = int(np.ceil(items.sum() / cap)) - 1\n",
    "    upper_bound, solution = first_fit_decr(items, cap)\n",
    "    \n",
    "    while upper_bound - lower_bound > 1:\n",
    "        mid = (upper_bound + lower_bound) // 2\n",
    "        \n",
    "        is_solved, mid_solution = bp_evaluation(0, items, sorted_inds, items_loc, np.full(mid, cap))\n",
    "        \n",
    "        if is_solved:\n",
    "            solution = mid_solution\n",
    "            upper_bound = mid\n",
    "        else:\n",
    "            lower_bound = mid\n",
    "            \n",
    "    return upper_bound, solution"
   ]
  },
  {
   "cell_type": "code",
   "execution_count": 36,
   "id": "ef78652a",
   "metadata": {},
   "outputs": [
    {
     "name": "stdout",
     "output_type": "stream",
     "text": [
      "1 1 2 2 2 1\n",
      "CPU times: user 1.33 ms, sys: 0 ns, total: 1.33 ms\n",
      "Wall time: 875 µs\n"
     ]
    }
   ],
   "source": [
    "%%time\n",
    "_, bp_solution = solve_bin_packing(items, container_size)\n",
    "print(*bp_solution+1)"
   ]
  },
  {
   "cell_type": "code",
   "execution_count": 37,
   "id": "07cb7309",
   "metadata": {},
   "outputs": [
    {
     "data": {
      "text/plain": [
       "(3, array([0, 0, 1, 1, 2, 2]))"
      ]
     },
     "execution_count": 37,
     "metadata": {},
     "output_type": "execute_result"
    }
   ],
   "source": [
    "solve_bin_packing(np.array([10, 2, 8, 4, 7, 5]), 12)"
   ]
  },
  {
   "cell_type": "code",
   "execution_count": 117,
   "id": "a1d011ac",
   "metadata": {},
   "outputs": [
    {
     "name": "stdout",
     "output_type": "stream",
     "text": [
      "8 4 7 5 10 9 4 4 9 8 10 7 3 6 8 6 3 2 9 8 1 5 9 9 2 7\n",
      "CPU times: user 32.9 s, sys: 0 ns, total: 32.9 s\n",
      "Wall time: 32.9 s\n"
     ]
    }
   ],
   "source": [
    "%%time\n",
    "oth_items = np.array([10, 15, 12, 21, 7, 9, 23, 1, 8, 4, 6, 12, 15, 20, 12, 18, 24, 31, 9, 12, 40, 18, 8, 4, 8, 12])\n",
    "_, bp_solution = solve_bin_packing(oth_items, 40)\n",
    "print(*bp_solution+1)"
   ]
  },
  {
   "cell_type": "code",
   "execution_count": 127,
   "id": "01429807",
   "metadata": {},
   "outputs": [
    {
     "ename": "KeyboardInterrupt",
     "evalue": "Interrupted by user",
     "output_type": "error",
     "traceback": [
      "\u001b[0;31m---------------------------------------------------------------------------\u001b[0m",
      "\u001b[0;31mKeyboardInterrupt\u001b[0m                         Traceback (most recent call last)",
      "\u001b[0;32m/tmp/ipykernel_210241/4130726982.py\u001b[0m in \u001b[0;36m<module>\u001b[0;34m\u001b[0m\n\u001b[1;32m      2\u001b[0m \u001b[0;34m\u001b[0m\u001b[0m\n\u001b[1;32m      3\u001b[0m \u001b[0;34m\u001b[0m\u001b[0m\n\u001b[0;32m----> 4\u001b[0;31m \u001b[0mitems_cnt\u001b[0m \u001b[0;34m=\u001b[0m \u001b[0mint\u001b[0m\u001b[0;34m(\u001b[0m\u001b[0minput\u001b[0m\u001b[0;34m(\u001b[0m\u001b[0;34m)\u001b[0m\u001b[0;34m)\u001b[0m\u001b[0;34m\u001b[0m\u001b[0;34m\u001b[0m\u001b[0m\n\u001b[0m\u001b[1;32m      5\u001b[0m \u001b[0mcontainer_size\u001b[0m \u001b[0;34m=\u001b[0m \u001b[0mint\u001b[0m\u001b[0;34m(\u001b[0m\u001b[0minput\u001b[0m\u001b[0;34m(\u001b[0m\u001b[0;34m)\u001b[0m\u001b[0;34m)\u001b[0m\u001b[0;34m\u001b[0m\u001b[0;34m\u001b[0m\u001b[0m\n\u001b[1;32m      6\u001b[0m \u001b[0;34m\u001b[0m\u001b[0m\n",
      "\u001b[0;32m~/anaconda3/envs/python/lib/python3.9/site-packages/ipykernel/kernelbase.py\u001b[0m in \u001b[0;36mraw_input\u001b[0;34m(self, prompt)\u001b[0m\n\u001b[1;32m   1004\u001b[0m                 \u001b[0;34m\"raw_input was called, but this frontend does not support input requests.\"\u001b[0m\u001b[0;34m\u001b[0m\u001b[0;34m\u001b[0m\u001b[0m\n\u001b[1;32m   1005\u001b[0m             )\n\u001b[0;32m-> 1006\u001b[0;31m         return self._input_request(\n\u001b[0m\u001b[1;32m   1007\u001b[0m             \u001b[0mstr\u001b[0m\u001b[0;34m(\u001b[0m\u001b[0mprompt\u001b[0m\u001b[0;34m)\u001b[0m\u001b[0;34m,\u001b[0m\u001b[0;34m\u001b[0m\u001b[0;34m\u001b[0m\u001b[0m\n\u001b[1;32m   1008\u001b[0m             \u001b[0mself\u001b[0m\u001b[0;34m.\u001b[0m\u001b[0m_parent_ident\u001b[0m\u001b[0;34m[\u001b[0m\u001b[0;34m\"shell\"\u001b[0m\u001b[0;34m]\u001b[0m\u001b[0;34m,\u001b[0m\u001b[0;34m\u001b[0m\u001b[0;34m\u001b[0m\u001b[0m\n",
      "\u001b[0;32m~/anaconda3/envs/python/lib/python3.9/site-packages/ipykernel/kernelbase.py\u001b[0m in \u001b[0;36m_input_request\u001b[0;34m(self, prompt, ident, parent, password)\u001b[0m\n\u001b[1;32m   1049\u001b[0m             \u001b[0;32mexcept\u001b[0m \u001b[0mKeyboardInterrupt\u001b[0m\u001b[0;34m:\u001b[0m\u001b[0;34m\u001b[0m\u001b[0;34m\u001b[0m\u001b[0m\n\u001b[1;32m   1050\u001b[0m                 \u001b[0;31m# re-raise KeyboardInterrupt, to truncate traceback\u001b[0m\u001b[0;34m\u001b[0m\u001b[0;34m\u001b[0m\u001b[0m\n\u001b[0;32m-> 1051\u001b[0;31m                 \u001b[0;32mraise\u001b[0m \u001b[0mKeyboardInterrupt\u001b[0m\u001b[0;34m(\u001b[0m\u001b[0;34m\"Interrupted by user\"\u001b[0m\u001b[0;34m)\u001b[0m \u001b[0;32mfrom\u001b[0m \u001b[0;32mNone\u001b[0m\u001b[0;34m\u001b[0m\u001b[0;34m\u001b[0m\u001b[0m\n\u001b[0m\u001b[1;32m   1052\u001b[0m             \u001b[0;32mexcept\u001b[0m \u001b[0mException\u001b[0m\u001b[0;34m:\u001b[0m\u001b[0;34m\u001b[0m\u001b[0;34m\u001b[0m\u001b[0m\n\u001b[1;32m   1053\u001b[0m                 \u001b[0mself\u001b[0m\u001b[0;34m.\u001b[0m\u001b[0mlog\u001b[0m\u001b[0;34m.\u001b[0m\u001b[0mwarning\u001b[0m\u001b[0;34m(\u001b[0m\u001b[0;34m\"Invalid Message:\"\u001b[0m\u001b[0;34m,\u001b[0m \u001b[0mexc_info\u001b[0m\u001b[0;34m=\u001b[0m\u001b[0;32mTrue\u001b[0m\u001b[0;34m)\u001b[0m\u001b[0;34m\u001b[0m\u001b[0;34m\u001b[0m\u001b[0m\n",
      "\u001b[0;31mKeyboardInterrupt\u001b[0m: Interrupted by user"
     ]
    }
   ],
   "source": [
    "import numpy as np\n",
    "\n",
    "\n",
    "items_cnt = int(input())\n",
    "container_size = int(input())\n",
    "\n",
    "items = []\n",
    "\n",
    "for i in range(items_cnt):\n",
    "    item = int(input())\n",
    "    \n",
    "    if item > container_size:\n",
    "        print(\"Item weight is greater than container's capacity\")\n",
    "        continue\n",
    "        \n",
    "    items.append(item)\n",
    "    \n",
    "items = np.array(items)\n",
    "\n",
    "def first_fit_decr(items, container_size, is_sorted=False):\n",
    "    if not is_sorted:\n",
    "        sorted_inds = np.argsort(items)[::-1]\n",
    "    else:\n",
    "        sorted_inds = np.arange(len(items))\n",
    "    \n",
    "    items_location = np.zeros_like(items)\n",
    "    containers_residual_size = []\n",
    "    \n",
    "    for item_ind in sorted_inds:\n",
    "        item = items[item_ind]\n",
    "        \n",
    "        for cont_ind, cont_size in enumerate(containers_residual_size):\n",
    "            if item < cont_size:\n",
    "                items_location[item_ind] = cont_ind\n",
    "                containers_residual_size[cont_ind] -= item\n",
    "                break\n",
    "        else:\n",
    "            items_location[item_ind] = len(containers_residual_size)\n",
    "            containers_residual_size.append(container_size-item)\n",
    "            \n",
    "    return len(containers_residual_size), items_location\n",
    "\n",
    "def bp_evaluation(curr_ind: int, \n",
    "                  items: np.ndarray,\n",
    "                  items_inds: np.ndarray,\n",
    "                  items_loc: np.ndarray, \n",
    "                  cont_sizes: np.ndarray) -> (bool, np.ndarray):\n",
    "    if curr_ind == items.size:\n",
    "        return True, items_loc\n",
    "    \n",
    "    item = items[items_inds[curr_ind]]\n",
    "    \n",
    "    for cont_ind, cont_size in enumerate(cont_sizes):\n",
    "        if cont_size >= item:\n",
    "            items_loc[curr_ind] = cont_ind\n",
    "            cont_sizes[cont_ind] -= item\n",
    "            \n",
    "            is_solved, solution = bp_evaluation(curr_ind+1, items, items_inds, items_loc, cont_sizes)\n",
    "            \n",
    "            if is_solved:\n",
    "                return is_solved, solution\n",
    "            else:\n",
    "                items_loc[curr_ind] = -1\n",
    "                cont_sizes[cont_ind] += item\n",
    "                \n",
    "        elif curr_ind == cont_ind:\n",
    "            break\n",
    "            \n",
    "    return False, np.array([])\n",
    "\n",
    "def solve_bin_packing(items: np.ndarray, cap: int) -> (int, np.ndarray):\n",
    "    items_loc = np.full_like(items, -1)\n",
    "    sorted_inds = np.argsort(items)[::-1]\n",
    "    \n",
    "    lower_bound = int(np.ceil(items.sum() / cap)) - 1\n",
    "    upper_bound, solution = first_fit_decr(items, cap)\n",
    "    \n",
    "    while upper_bound - lower_bound > 1:\n",
    "        mid = (upper_bound + lower_bound) // 2\n",
    "        \n",
    "        is_solved, mid_solution = bp_evaluation(0, items, sorted_inds, items_loc, np.full(mid, cap))\n",
    "        \n",
    "        if is_solved:\n",
    "            solution = mid_solution\n",
    "            upper_bound = mid\n",
    "        else:\n",
    "            lower_bound = mid\n",
    "            \n",
    "    return upper_bound, solution\n",
    "\n",
    "_, bp_solution = solve_bin_packing(items, container_size)\n",
    "\n",
    "dct = dict()\n",
    "\n",
    "for x in bp_solution:\n",
    "    if dct.get(x) is None:\n",
    "        dct[x] = len(dct) + 1\n",
    "        \n",
    "    print(dct.get(x), end=' ')\n"
   ]
  }
 ],
 "metadata": {
  "kernelspec": {
   "display_name": "Python 3 (ipykernel)",
   "language": "python",
   "name": "python3"
  },
  "language_info": {
   "codemirror_mode": {
    "name": "ipython",
    "version": 3
   },
   "file_extension": ".py",
   "mimetype": "text/x-python",
   "name": "python",
   "nbconvert_exporter": "python",
   "pygments_lexer": "ipython3",
   "version": "3.9.7"
  }
 },
 "nbformat": 4,
 "nbformat_minor": 5
}
