{
 "cells": [
  {
   "cell_type": "code",
   "execution_count": 116,
   "id": "7bf863fc",
   "metadata": {},
   "outputs": [],
   "source": [
    "import numpy as np\n",
    "import sys\n",
    "from scipy.optimize import linprog\n",
    "\n",
    "sys.setrecursionlimit(10000)"
   ]
  },
  {
   "cell_type": "markdown",
   "id": "03cf58f9",
   "metadata": {},
   "source": [
    "31181  \n",
    "19  \n",
    "4990 1945  \n",
    "1142 321  \n",
    "7390 2945  \n",
    "10372 4136  \n",
    "3114 1107  \n",
    "2744 1022  \n",
    "3102 1101  \n",
    "7280 2890  \n",
    "2624 962  \n",
    "3020 1060  \n",
    "2310 805  \n",
    "2078 689  \n",
    "3926 1513  \n",
    "9656 3878  \n",
    "32708 13504  \n",
    "4830 1865  \n",
    "2034 667  \n",
    "4766 1833  \n",
    "40006 16553  \n",
    "\n",
    "Output: 12248"
   ]
  },
  {
   "cell_type": "code",
   "execution_count": 92,
   "id": "bafb80af",
   "metadata": {},
   "outputs": [
    {
     "name": "stdout",
     "output_type": "stream",
     "text": [
      "31181\n",
      "19\n",
      "4990 1945 \n",
      "1142 321  \n",
      "7390 2945\n",
      "10372 4136\n",
      "3114 1107 \n",
      "2744 1022 \n",
      "3102 1101 \n",
      "7280 2890  \n",
      "2624 962  \n",
      "3020 1060 \n",
      "2310 805  \n",
      "2078 689\n",
      "3926 1513 \n",
      "9656 3878\n",
      "32708 13504 \n",
      "4830 1865\n",
      "2034 667\n",
      "4766 1833\n",
      "40006 16553\n"
     ]
    }
   ],
   "source": [
    "max_volume = int(input())\n",
    "k_items = int(input())\n",
    "\n",
    "volumes = []\n",
    "values = []\n",
    "wrong_items = 0\n",
    "\n",
    "for i in range(k_items):\n",
    "    volume, value = list(map(int, input().split()))\n",
    "    \n",
    "    if volume <= max_volume:\n",
    "        volumes.append(volume)\n",
    "        values.append(value)\n",
    "    else:\n",
    "        wrong_items += 1\n",
    "        \n",
    "k_items -= wrong_items\n",
    "volumes = np.array(volumes)\n",
    "values = np.array(values)"
   ]
  },
  {
   "cell_type": "code",
   "execution_count": 249,
   "id": "c2088160",
   "metadata": {},
   "outputs": [],
   "source": [
    "def knapsack_linprog(volumes, values, max_volume):\n",
    "    lp_res = linprog(-values, \n",
    "                     A_ub=volumes[None, :], \n",
    "                     b_ub=np.array(max_volume),\n",
    "                     bounds=(0, 1))\n",
    "\n",
    "    return np.floor(-lp_res.fun)\n",
    "\n",
    "# Жадность по удельной стоимости объектов\n",
    "def knapsack_greedy_1(volumes, values, max_volume, is_float=False, is_sorted=False):\n",
    "    if is_sorted:\n",
    "        sorted_unit_cost_inds = np.arange(values.size)\n",
    "    else:\n",
    "        sorted_unit_cost_inds = np.argsort(values / volumes)[::-1]\n",
    "    \n",
    "    residual_volume = max_volume\n",
    "    greedy_value = 0\n",
    "    \n",
    "    for i in sorted_unit_cost_inds:\n",
    "        if residual_volume > volumes[i]:\n",
    "            greedy_value += values[i]\n",
    "            residual_volume -= volumes[i]\n",
    "        else:\n",
    "            if is_float:\n",
    "                greedy_value += values[i] * residual_volume / volumes[i]\n",
    "                break\n",
    "    \n",
    "    return greedy_value\n",
    "\n",
    "# Жадность по ценности объектов\n",
    "def knapsack_greedy_2(volumes, values, max_volume):\n",
    "    sorted_values_inds = np.argsort(values)[::-1]\n",
    "    \n",
    "    residual_volume = max_volume\n",
    "    greedy_value = 0\n",
    "    \n",
    "    for i in sorted_values_inds:\n",
    "        if residual_volume > volumes[i]:\n",
    "            greedy_value += values[i]\n",
    "            residual_volume -= volumes[i]\n",
    "    \n",
    "    return greedy_value\n",
    "\n",
    "def knapsack_greedy(volumes, values, max_volume):\n",
    "    first_greedy_cost = knapsack_greedy_1(volumes, values, max_volume)\n",
    "    second_greedy_cost = knapsack_greedy_2(volumes, values, max_volume)\n",
    "\n",
    "    return max(first_greedy_cost, second_greedy_cost)\n",
    "\n",
    "def knapsack_lbound(volumes, values, max_volume):\n",
    "    return knapsack_greedy(volumes, values, max_volume)\n",
    "\n",
    "def knapsack_ubound(volumes, values, max_volume):\n",
    "    return knapsack_greedy_1(volumes, values, max_volume, True, True)"
   ]
  },
  {
   "cell_type": "code",
   "execution_count": 250,
   "id": "25c45a8e",
   "metadata": {},
   "outputs": [],
   "source": [
    "def complete_bust(ind, volumes, values, curr_sum, \n",
    "                  max_volume, lower_bound=0):\n",
    "    if max_volume < 0:\n",
    "        return 0\n",
    "    \n",
    "    if ind == volumes.size or max_volume < volumes.min():\n",
    "        return curr_sum\n",
    "    \n",
    "    left_res, right_res = 0, 0\n",
    "    \n",
    "    left_upper_bound = curr_sum\n",
    "    right_upper_bound = curr_sum + values[ind]\n",
    "    \n",
    "    if ind + 1 < values.size:\n",
    "        left_upper_bound += knapsack_ubound(volumes[ind+1:], \n",
    "                                            values[ind+1:], \n",
    "                                            max_volume)\n",
    "        right_upper_bound += knapsack_ubound(volumes[ind+1:], \n",
    "                                             values[ind+1:], \n",
    "                                             max_volume-volumes[ind])\n",
    "    \n",
    "    if left_upper_bound > lower_bound:\n",
    "        left_res = complete_bust(ind+1, volumes, values, curr_sum, max_volume, lower_bound)\n",
    "\n",
    "    if right_upper_bound > lower_bound:\n",
    "        curr_sum += values[ind]\n",
    "        max_volume -= volumes[ind]\n",
    "        \n",
    "        lower_bound = max(lower_bound, left_res)\n",
    "        \n",
    "        right_res = complete_bust(ind+1, volumes, values, curr_sum, max_volume, lower_bound)\n",
    "\n",
    "    return max(left_res, right_res, lower_bound)"
   ]
  },
  {
   "cell_type": "code",
   "execution_count": 279,
   "id": "65d02ed0",
   "metadata": {},
   "outputs": [
    {
     "ename": "RecursionError",
     "evalue": "cannot set the recursion limit to 10 at the recursion depth 28: the limit is too low",
     "output_type": "error",
     "traceback": [
      "\u001b[0;31m---------------------------------------------------------------------------\u001b[0m",
      "\u001b[0;31mRecursionError\u001b[0m                            Traceback (most recent call last)",
      "\u001b[0;32m/tmp/ipykernel_194363/2109923646.py\u001b[0m in \u001b[0;36m<module>\u001b[0;34m\u001b[0m\n\u001b[0;32m----> 1\u001b[0;31m \u001b[0msys\u001b[0m\u001b[0;34m.\u001b[0m\u001b[0msetrecursionlimit\u001b[0m\u001b[0;34m(\u001b[0m\u001b[0;36m10\u001b[0m\u001b[0;34m)\u001b[0m\u001b[0;34m\u001b[0m\u001b[0;34m\u001b[0m\u001b[0m\n\u001b[0m",
      "\u001b[0;31mRecursionError\u001b[0m: cannot set the recursion limit to 10 at the recursion depth 28: the limit is too low"
     ]
    }
   ],
   "source": [
    "sys.setrecursionlimit(1000)"
   ]
  },
  {
   "cell_type": "code",
   "execution_count": 278,
   "id": "8f613bd8",
   "metadata": {},
   "outputs": [
    {
     "name": "stdout",
     "output_type": "stream",
     "text": [
      "12248\n",
      "CPU times: user 14.9 ms, sys: 3.97 ms, total: 18.9 ms\n",
      "Wall time: 15 ms\n"
     ]
    }
   ],
   "source": [
    "%%time\n",
    "lower_bound = knapsack_lbound(volumes, values, max_volume)\n",
    "inds = np.argsort(values / volumes)[::-1]\n",
    "tmp_volumes = volumes[inds]\n",
    "tmp_values = values[inds]\n",
    "\n",
    "print(complete_bust(0, tmp_volumes, tmp_values, 0, max_volume, lower_bound))"
   ]
  }
 ],
 "metadata": {
  "kernelspec": {
   "display_name": "Python 3 (ipykernel)",
   "language": "python",
   "name": "python3"
  },
  "language_info": {
   "codemirror_mode": {
    "name": "ipython",
    "version": 3
   },
   "file_extension": ".py",
   "mimetype": "text/x-python",
   "name": "python",
   "nbconvert_exporter": "python",
   "pygments_lexer": "ipython3",
   "version": "3.9.7"
  }
 },
 "nbformat": 4,
 "nbformat_minor": 5
}
