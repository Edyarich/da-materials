{
 "cells": [
  {
   "cell_type": "markdown",
   "metadata": {},
   "source": [
    "## Домашнее задание №1 (курс \"Практикум по программированию на языке Python\")"
   ]
  },
  {
   "cell_type": "markdown",
   "metadata": {},
   "source": [
    "### Тема: Введение в язык Python.\n",
    "\n",
    "**Автор**: Мурат Апишев\n",
    "\n",
    "**Выдана**:   18 февраля 2022\n",
    "\n",
    "**Дедлайн**:  21:00 3 марта 2022\n",
    "\n",
    "**Среда выполнения**: Jupyter Notebook (Python 3.7+)\n",
    "\n",
    "#### Правила:\n",
    "\n",
    "Результат выполнения задания - Jupyter Notebook с кодом. __Максимальное число баллов за задание - 20__.\n",
    "\n",
    "Все ячейки должны быть \"выполненными\", при этом результат должен воспроизводиться при проверке (на Python 3.7). Если какой-то код не был запущен или отрабатывает с ошибками, то пункт не засчитывается. Задание, сданное после дедлайна, _не принимается_. Можно отправить недоделанное задание, выполненные пункты будут оценены.\n",
    "\n",
    "Готовое задание отправляется на почту mel-lain@yandex.ru.\n",
    "\n",
    "Задание выполняется самостоятельно. Если какие-то студенты будут уличены в списывании, все они автоматически получат за эту работу 0 баллов. Если вы нашли в Интернете какой-то специфичный код, который собираетесь заимствовать, обязательно укажите это в задании - наверняка вы не единственный, кто найдёт и использует эту информацию.\n",
    "\n",
    "__Удалять фрагменты формулировок заданий запрещается.__"
   ]
  },
  {
   "cell_type": "markdown",
   "metadata": {},
   "source": [
    "#### Постановка задачи:\n",
    "\n",
    "- В данной работе нужно решить набор задач, проверяющих владение базовыми инструментами языка.\n",
    "- Каждая задача представляет собой написание одной или более функций, а также набора тестов, проверяющих работу этой функции в общих и крайних случаях.\n",
    "- Отсутствие тестов автоматически уменьшает количество баллов за задание как минимум в два раза, некачественные тесты также будут штрафоваться.\n",
    "- Если в задании указано использовать несколько разных вариантов решения, подразумевается использование различных инструментов (циклы, списковые включения, генераторы, встроенные функции, функции модулей стандартной библотеки и т.п.), замена, например, цикла for на цикл while не является иным способом решения.\n",
    "- Даже если это не указано явно в требованиях, код должен быть по возможности неизбыточным, работать с разумной сложностью и объёмом потребялемой памяти, проверяющие могут снизить балл за задание, выполненное без учёта этого требования.\n",
    "- Результирующий код должен быть читаемым, с единой системой отступов и адеквантными названиями переменных, проверяющие могут снизить балл за задание, выполненное без учёта этого требования."
   ]
  },
  {
   "cell_type": "code",
   "execution_count": 1,
   "metadata": {},
   "outputs": [],
   "source": [
    "import math\n",
    "import os\n",
    "import re\n",
    "import shutil\n",
    "import time\n",
    "\n",
    "from collections import Counter\n",
    "from pathlib import Path"
   ]
  },
  {
   "cell_type": "markdown",
   "metadata": {},
   "source": [
    "__Задание 1 (0.5 балла):__ Дано натуральное число. Требуется определить, является ли год с данным номером високосным. Если год является високосным, то выведите YES, иначе выведите NO. Напомним, что в соответствии с григорианским календарем, год является високосным, если его номер кратен 4, но не кратен 100, а также если он кратен 400."
   ]
  },
  {
   "cell_type": "code",
   "execution_count": 2,
   "metadata": {},
   "outputs": [],
   "source": [
    "def task_01_func(year):\n",
    "    if not isinstance(year, int):\n",
    "        raise TypeError(f\"Expected int, got {type(year)}\")\n",
    "        \n",
    "    return (year % 400 == 0) or (year % 4 == 0 and year % 100 != 0)"
   ]
  },
  {
   "cell_type": "code",
   "execution_count": 3,
   "metadata": {},
   "outputs": [
    {
     "name": "stdout",
     "output_type": "stream",
     "text": [
      "True\n",
      "True\n",
      "True\n",
      "True\n",
      "OK\n"
     ]
    }
   ],
   "source": [
    "# Test 'task_01_func'\n",
    "print(task_01_func(2000) == 1)\n",
    "print(task_01_func(1900) == 0)\n",
    "print(task_01_func(2004) == 1)\n",
    "print(task_01_func(-11) == 0)\n",
    "\n",
    "try:\n",
    "    task_01_func(\"2000\")\n",
    "except TypeError:\n",
    "    print(\"OK\")"
   ]
  },
  {
   "cell_type": "markdown",
   "metadata": {},
   "source": [
    "__Задание 2 (0.5 балла):__ Дано натуральное число. Найдите число знаков в его десятичной записи. Предложите как минимум два различных решения."
   ]
  },
  {
   "cell_type": "code",
   "execution_count": 4,
   "metadata": {},
   "outputs": [],
   "source": [
    "def task_02_func_1(number):\n",
    "    if not isinstance(number, int):\n",
    "        raise TypeError(f\"Expected int, got {type(number)}\")\n",
    "        \n",
    "    if number < 0:\n",
    "        raise ValueError(\"number is less than zero\")\n",
    "        \n",
    "    return len(str(number))\n",
    "\n",
    "\n",
    "def task_02_func_2(number):\n",
    "    if not isinstance(number, int):\n",
    "        raise TypeError(f\"Expected int, got {type(number)}\")\n",
    "        \n",
    "    if number < 0:\n",
    "        raise ValueError(\"number is less than zero\")\n",
    "        \n",
    "    number_len = 0\n",
    "        \n",
    "    while True:\n",
    "        number //= 10\n",
    "        number_len += 1\n",
    "        \n",
    "        if number == 0:\n",
    "            break\n",
    "    \n",
    "    return number_len"
   ]
  },
  {
   "cell_type": "code",
   "execution_count": 5,
   "metadata": {},
   "outputs": [
    {
     "name": "stdout",
     "output_type": "stream",
     "text": [
      "True\n",
      "True\n",
      "True\n",
      "True\n",
      "True\n",
      "OK\n",
      "OK\n"
     ]
    }
   ],
   "source": [
    "# Test 'task_02_func_1'\n",
    "print(task_02_func_1(0) == 1)\n",
    "print(task_02_func_1(5) == 1)\n",
    "print(task_02_func_1(99) == 2)\n",
    "print(task_02_func_1(254) == 3)\n",
    "print(task_02_func_1(123456789012) == 12)\n",
    "\n",
    "try:\n",
    "    task_02_func_1([2000])\n",
    "except TypeError:\n",
    "    print(\"OK\")\n",
    "    \n",
    "try:\n",
    "    task_02_func_1(-100)\n",
    "except ValueError:\n",
    "    print(\"OK\")"
   ]
  },
  {
   "cell_type": "code",
   "execution_count": 6,
   "metadata": {},
   "outputs": [
    {
     "name": "stdout",
     "output_type": "stream",
     "text": [
      "True\n",
      "True\n",
      "True\n",
      "True\n",
      "True\n",
      "OK\n",
      "OK\n"
     ]
    }
   ],
   "source": [
    "# Test 'task_02_func_2'\n",
    "print(task_02_func_2(0) == 1)\n",
    "print(task_02_func_2(5) == 1)\n",
    "print(task_02_func_2(99) == 2)\n",
    "print(task_02_func_2(254) == 3)\n",
    "print(task_02_func_2(123456789012) == 12)\n",
    "\n",
    "try:\n",
    "    task_02_func_2([2000])\n",
    "except TypeError:\n",
    "    print(\"OK\")\n",
    "    \n",
    "try:\n",
    "    task_02_func_2(-100)\n",
    "except ValueError:\n",
    "    print(\"OK\")"
   ]
  },
  {
   "cell_type": "markdown",
   "metadata": {},
   "source": [
    "__Задание 3 (0.5 балла):__ По данному натуральном n вычислите сумму 1!+2!+3!+...+n!. В решении этой задачи с помощью циклов можно использовать только один цикл. Предложите как минимум два различных решения."
   ]
  },
  {
   "cell_type": "code",
   "execution_count": 7,
   "metadata": {},
   "outputs": [],
   "source": [
    "def task_03_func_1(n):\n",
    "    if not isinstance(n, int):\n",
    "        raise TypeError(f\"Expected int, got {type(n)}\")\n",
    "        \n",
    "    if n <= 0:\n",
    "        raise ValueError(\"n is not greater than zero\")\n",
    "    \n",
    "    curr_factorial = 1\n",
    "    total_sum = 0\n",
    "    \n",
    "    for k in range(1, n+1):\n",
    "        curr_factorial *= k\n",
    "        total_sum += curr_factorial\n",
    "        \n",
    "    return total_sum\n",
    "\n",
    "\n",
    "def task_03_func_2(n):\n",
    "    if not isinstance(n, int):\n",
    "        raise TypeError(f\"Expected int, got {type(n)}\")\n",
    "        \n",
    "    if n <= 0:\n",
    "        raise ValueError(\"n is not greater than zero\")\n",
    "    elif n == 1:\n",
    "        return 1\n",
    "    \n",
    "    return math.factorial(n) + task_03_func_2(n-1)"
   ]
  },
  {
   "cell_type": "code",
   "execution_count": 8,
   "metadata": {},
   "outputs": [
    {
     "name": "stdout",
     "output_type": "stream",
     "text": [
      "True\n",
      "True\n",
      "True\n",
      "True\n",
      "OK\n",
      "OK\n"
     ]
    }
   ],
   "source": [
    "# Test 'task_03_func_1'\n",
    "print(task_03_func_1(1) == 1)\n",
    "print(task_03_func_1(3) == 9)\n",
    "print(task_03_func_1(6) == 873)\n",
    "print(task_03_func_1(9) == 409113)\n",
    "\n",
    "try:\n",
    "    task_03_func_1(12.0)\n",
    "except TypeError:\n",
    "    print(\"OK\")\n",
    "    \n",
    "try:\n",
    "    task_03_func_1(0)\n",
    "except ValueError:\n",
    "    print(\"OK\")"
   ]
  },
  {
   "cell_type": "code",
   "execution_count": 9,
   "metadata": {},
   "outputs": [
    {
     "name": "stdout",
     "output_type": "stream",
     "text": [
      "True\n",
      "True\n",
      "True\n",
      "True\n",
      "OK\n",
      "OK\n"
     ]
    }
   ],
   "source": [
    "# Test 'task_03_func_2'\n",
    "print(task_03_func_2(1) == 1)\n",
    "print(task_03_func_2(3) == 9)\n",
    "print(task_03_func_2(6) == 873)\n",
    "print(task_03_func_2(9) == 409113)\n",
    "\n",
    "try:\n",
    "    task_03_func_2(12.0)\n",
    "except TypeError:\n",
    "    print(\"OK\")\n",
    "    \n",
    "try:\n",
    "    task_03_func_2(0)\n",
    "except ValueError:\n",
    "    print(\"OK\")"
   ]
  },
  {
   "cell_type": "markdown",
   "metadata": {},
   "source": [
    "__Задание 4 (0.5 балла):__ Определить, является ли введённая строка палиндромом (то есть одинаково читается с обеих сторон). Предложите как минимум три различных решения."
   ]
  },
  {
   "cell_type": "code",
   "execution_count": 10,
   "metadata": {},
   "outputs": [],
   "source": [
    "def task_04_func_1(s):\n",
    "    if not isinstance(s, str):\n",
    "        raise TypeError(f\"Expected str, got {type(n)}\")\n",
    "        \n",
    "    return s == s[::-1]\n",
    "\n",
    "\n",
    "def task_04_func_2(s):\n",
    "    if not isinstance(s, str):\n",
    "        raise TypeError(f\"Expected str, got {type(n)}\")\n",
    "        \n",
    "    for i in range(len(s) // 2):\n",
    "        if s[i] != s[len(s)-i-1]:\n",
    "            return False\n",
    "    \n",
    "    return True\n",
    "\n",
    "\n",
    "def task_04_func_3(s):\n",
    "    if not isinstance(s, str):\n",
    "        raise TypeError(f\"Expected str, got {type(n)}\")\n",
    "        \n",
    "    if len(s) < 2:\n",
    "        return True\n",
    "    elif s[0] == s[-1]:\n",
    "        return task_04_func_3(s[1:-1])\n",
    "    else:\n",
    "        return False"
   ]
  },
  {
   "cell_type": "code",
   "execution_count": 11,
   "metadata": {},
   "outputs": [
    {
     "name": "stdout",
     "output_type": "stream",
     "text": [
      "True\n",
      "True\n",
      "True\n",
      "True\n",
      "True\n",
      "True\n",
      "True\n"
     ]
    }
   ],
   "source": [
    "# Test 'task_04_func_1'\n",
    "print(task_04_func_1(\"\") == True)\n",
    "print(task_04_func_1(\"a\") == True)\n",
    "print(task_04_func_1(\"quuq\") == True)\n",
    "print(task_04_func_1(\"ab\") == False)\n",
    "print(task_04_func_1(\"abraccarba\") == True)\n",
    "print(task_04_func_1(\"abracadabra\") == False)\n",
    "print(task_04_func_1(\"tree\") == False)"
   ]
  },
  {
   "cell_type": "code",
   "execution_count": 12,
   "metadata": {},
   "outputs": [
    {
     "name": "stdout",
     "output_type": "stream",
     "text": [
      "True\n",
      "True\n",
      "True\n",
      "True\n",
      "True\n",
      "True\n",
      "True\n"
     ]
    }
   ],
   "source": [
    "# Test 'task_04_func_2'\n",
    "print(task_04_func_2(\"\") == True)\n",
    "print(task_04_func_2(\"a\") == True)\n",
    "print(task_04_func_2(\"quuq\") == True)\n",
    "print(task_04_func_2(\"ab\") == False)\n",
    "print(task_04_func_2(\"abraccarba\") == True)\n",
    "print(task_04_func_2(\"abracadabra\") == False)\n",
    "print(task_04_func_2(\"tree\") == False)"
   ]
  },
  {
   "cell_type": "code",
   "execution_count": 13,
   "metadata": {},
   "outputs": [
    {
     "name": "stdout",
     "output_type": "stream",
     "text": [
      "True\n",
      "True\n",
      "True\n",
      "True\n",
      "True\n",
      "True\n",
      "True\n"
     ]
    }
   ],
   "source": [
    "# Test 'task_04_func_3'\n",
    "print(task_04_func_3(\"\") == True)\n",
    "print(task_04_func_3(\"a\") == True)\n",
    "print(task_04_func_3(\"quuq\") == True)\n",
    "print(task_04_func_3(\"ab\") == False)\n",
    "print(task_04_func_3(\"abraccarba\") == True)\n",
    "print(task_04_func_3(\"abracadabra\") == False)\n",
    "print(task_04_func_3(\"tree\") == False)"
   ]
  },
  {
   "cell_type": "markdown",
   "metadata": {},
   "source": [
    "__Задание 5 (1 балл):__ Дан текст в виде строки. Напишите функцию, которая возвращает словарь, где ключами являются уникальные слова из этого текста, а значениями - число раз, которое данное слово встретилось в тексте. Считать, что слова разделяются пробелами. Предложите как минимум два различных решения."
   ]
  },
  {
   "cell_type": "code",
   "execution_count": 14,
   "metadata": {},
   "outputs": [],
   "source": [
    "def task_05_func_1(text):\n",
    "    if not isinstance(text, str):\n",
    "        raise TypeError(f\"Expected str, got {type(text)}\")\n",
    "        \n",
    "    words = text.split(' ')\n",
    "    \n",
    "    return dict(Counter(words))\n",
    "\n",
    "\n",
    "def task_05_func_2(text):\n",
    "    if not isinstance(text, str):\n",
    "        raise TypeError(f\"Expected str, got {type(text)}\")\n",
    "        \n",
    "    words = text.split(' ')\n",
    "    text_dict = dict()\n",
    "    \n",
    "    for word in words:\n",
    "        if word in text_dict.keys():\n",
    "            text_dict[word] += 1\n",
    "        else:\n",
    "            text_dict.setdefault(word, 1)\n",
    "            \n",
    "    return text_dict"
   ]
  },
  {
   "cell_type": "code",
   "execution_count": 15,
   "metadata": {},
   "outputs": [
    {
     "name": "stdout",
     "output_type": "stream",
     "text": [
      "True\n",
      "True\n",
      "True\n",
      "True\n"
     ]
    }
   ],
   "source": [
    "# Test 'task_05_func_1' and 'task_05_func_2'\n",
    "first_text = \"a b x b r e q a a e e o m q q w w\"\n",
    "first_dict = {'a': 3, 'b': 2, 'x': 1, 'r': 1, \n",
    "              'e': 3, 'q': 3, 'o': 1, 'm': 1, 'w': 2}\n",
    "\n",
    "snd_text = \"apple banana orange banana orange apple apple banana banana banana\"\n",
    "snd_dict = {'apple': 3, 'banana': 5, 'orange': 2}\n",
    "\n",
    "print(task_05_func_1(first_text) == first_dict)\n",
    "print(task_05_func_1(snd_text) == snd_dict)\n",
    "\n",
    "print(task_05_func_2(first_text) == first_dict)\n",
    "print(task_05_func_2(snd_text) == snd_dict)"
   ]
  },
  {
   "cell_type": "markdown",
   "metadata": {},
   "source": [
    "__Задание 6 (1 балл):__ Напишите функцию, которая принимает на вход строку и символ и возвращает:\n",
    "\n",
    "- если символ встретился в строке один раз - кортеж (индекс вхождения, None);\n",
    "- если два и более раз - кортеж (индекс первого вхождения, индекс последнего вхождения);\n",
    "- если ни разу - кортеж (None, None).\n",
    "\n",
    "Запрещается делать более одного прохода по каждому элементу строки."
   ]
  },
  {
   "cell_type": "code",
   "execution_count": 16,
   "metadata": {},
   "outputs": [],
   "source": [
    "def task_06_func(input_str, input_char):\n",
    "    if not isinstance(input_str, str):\n",
    "        raise TypeError(\"`input_str` is expected to be str,\"\n",
    "                        f\"got {type(input_str)}\")\n",
    "    \n",
    "    if not isinstance(input_char, str):\n",
    "        raise TypeError(\"`input_char` is expected to be str,\"\n",
    "                        f\"got {type(input_char)}\")\n",
    "        \n",
    "    if len(input_char) != 1:\n",
    "        raise ValueError(\"`input_char` length is not equal one\")\n",
    "        \n",
    "    first_ind, last_ind = None, None\n",
    "    \n",
    "    for i, sign in enumerate(input_str):\n",
    "        if sign == input_char:\n",
    "            if first_ind is None:\n",
    "                first_ind = i\n",
    "            else:\n",
    "                last_ind = i\n",
    "        \n",
    "    return first_ind, last_ind"
   ]
  },
  {
   "cell_type": "code",
   "execution_count": 17,
   "metadata": {},
   "outputs": [
    {
     "name": "stdout",
     "output_type": "stream",
     "text": [
      "True\n",
      "True\n",
      "True\n",
      "True\n",
      "True\n",
      "True\n"
     ]
    }
   ],
   "source": [
    "# Test 'task_06_func'\n",
    "print(task_06_func(\"hello, world\", '!') == (None, None))\n",
    "print(task_06_func(\"hello, world\", 'e') == (1, None))\n",
    "print(task_06_func(\"hello, world\", 'o') == (4, 8))\n",
    "print(task_06_func(\"1,1,2,3,5,8,13,21\", '4') == (None, None))\n",
    "print(task_06_func(\"1,1,2,3,5,8,13,21\", '5') == (8, None))\n",
    "print(task_06_func(\"1,1,2,3,5,8,13,21\", '1') == (0, 16))"
   ]
  },
  {
   "cell_type": "markdown",
   "metadata": {},
   "source": [
    "__Задание 7 (1 балл):__ Дан список целых чисел. Напишите функцию, которая возвращает копию этого списка, из которой удалены отрицательные числа, а все прочие числа возведены в квадрат. Также возвращаемая последовательность должна быть отсортирована по убыванию. Предложите как минимум три различных решения."
   ]
  },
  {
   "cell_type": "code",
   "execution_count": 18,
   "metadata": {},
   "outputs": [],
   "source": [
    "def task_07_func_1(lst):\n",
    "    if not isinstance(lst, list):\n",
    "        raise TypeError(f\"Expected list, got {type(lst)}\")\n",
    "        \n",
    "    modified_lst = []\n",
    "    \n",
    "    for num in lst:\n",
    "        if isinstance(num, int) and num >= 0:\n",
    "            modified_lst.append(num**2)\n",
    "            \n",
    "    return sorted(modified_lst, reverse=True)\n",
    "\n",
    "\n",
    "def task_07_func_2(lst):\n",
    "    if not isinstance(lst, list):\n",
    "        raise TypeError(f\"Expected list, got {type(lst)}\")\n",
    "        \n",
    "    filtered_list = list(filter(lambda num: num >= 0, lst))\n",
    "    sorted_list = sorted(filtered_list, reverse=True)\n",
    "    modified_list = list(map(lambda num: num**2, sorted_list))\n",
    "    \n",
    "    return modified_list\n",
    "\n",
    "\n",
    "def task_07_func_3(lst):\n",
    "    if not isinstance(lst, list):\n",
    "        raise TypeError(f\"Expected list, got {type(lst)}\")\n",
    "    \n",
    "    sorted_lst = sorted(lst, reverse=True)\n",
    "    \n",
    "    map_func = lambda num: num**2 if num >= 0 else None\n",
    "    modified_lst = list(map(map_func, sorted_lst))\n",
    "    \n",
    "    return list(filter(lambda num: num is not None, modified_lst))"
   ]
  },
  {
   "cell_type": "code",
   "execution_count": 19,
   "metadata": {},
   "outputs": [
    {
     "name": "stdout",
     "output_type": "stream",
     "text": [
      "True\n",
      "True\n",
      "True\n",
      "True\n",
      "True\n"
     ]
    }
   ],
   "source": [
    "# Test 'task_07_func_1'\n",
    "print(task_07_func_1([-1, -5, -12, -7]) == [])\n",
    "print(task_07_func_1([0]) == [0])\n",
    "print(task_07_func_1([1, 2, 3, 4]) == [16, 9, 4, 1])\n",
    "print(task_07_func_1([-3, 2, 12, -100, 4, 0, -7]) == [144, 16, 4, 0])\n",
    "print(task_07_func_1([-3, -12, -16, -21, 2, -14, 2]) == [4, 4])"
   ]
  },
  {
   "cell_type": "code",
   "execution_count": 20,
   "metadata": {},
   "outputs": [
    {
     "name": "stdout",
     "output_type": "stream",
     "text": [
      "True\n",
      "True\n",
      "True\n",
      "True\n",
      "True\n"
     ]
    }
   ],
   "source": [
    "# Test 'task_07_func_2'\n",
    "print(task_07_func_2([-1, -5, -12, -7]) == [])\n",
    "print(task_07_func_2([0]) == [0])\n",
    "print(task_07_func_2([1, 2, 3, 4]) == [16, 9, 4, 1])\n",
    "print(task_07_func_2([-3, 2, 12, -100, 4, 0, -7]) == [144, 16, 4, 0])\n",
    "print(task_07_func_2([-3, -12, -16, -21, 2, -14, 2]) == [4, 4])"
   ]
  },
  {
   "cell_type": "code",
   "execution_count": 21,
   "metadata": {},
   "outputs": [
    {
     "name": "stdout",
     "output_type": "stream",
     "text": [
      "True\n",
      "True\n",
      "True\n",
      "True\n",
      "True\n"
     ]
    }
   ],
   "source": [
    "# Test 'task_07_func_3'\n",
    "print(task_07_func_3([-1, -5, -12, -7]) == [])\n",
    "print(task_07_func_3([0]) == [0])\n",
    "print(task_07_func_3([1, 2, 3, 4]) == [16, 9, 4, 1])\n",
    "print(task_07_func_3([-3, 2, 12, -100, 4, 0, -7]) == [144, 16, 4, 0])\n",
    "print(task_07_func_3([-3, -12, -16, -21, 2, -14, 2]) == [4, 4])"
   ]
  },
  {
   "cell_type": "markdown",
   "metadata": {},
   "source": [
    "__Задание 8 (1 балл):__ Напишите функцию, которая принимает на вход список кортежей одинаковой длины и индекс `index` элемента в кортеже и возвращает генератор, итерирование по которому позволит получит все кортежи входного списка, отсортированные по убыванию элементов этих кортежей с индексом `index`."
   ]
  },
  {
   "cell_type": "code",
   "execution_count": 22,
   "metadata": {},
   "outputs": [],
   "source": [
    "# https://stackoverflow.com/questions/13243766/python-empty-generator-function\n",
    "def empty_gen():\n",
    "    return \n",
    "    yield\n",
    "\n",
    "\n",
    "def task_08_func(lst, index):\n",
    "    if not isinstance(lst, list):\n",
    "        raise TypeError(f\"Expected list, got {type(lst)}\")\n",
    "        \n",
    "    if len(lst) == 0:\n",
    "        return empty_gen()\n",
    "    \n",
    "    n_rows, n_cols = len(lst), None\n",
    "    \n",
    "    for i in range(n_rows):\n",
    "        if not isinstance(lst[i], tuple):\n",
    "            raise TypeError(f\"Expected tuple, got {type(lst)}\")\n",
    "            \n",
    "        if i == 0:\n",
    "            n_cols = len(lst[0])\n",
    "            \n",
    "        if len(lst[i]) != n_cols:\n",
    "            raise ValueError(\"The sizes of tuples are different\")\n",
    "    \n",
    "    index_slice = dict()\n",
    "    \n",
    "    for i in range(n_rows):\n",
    "        index_slice.setdefault(i, lst[i][index])\n",
    "        \n",
    "    index_slice = sorted(index_slice.items(), key=lambda pair: pair[1], \n",
    "                         reverse=True)\n",
    "    \n",
    "    return (lst[ind] for ind, _ in index_slice)"
   ]
  },
  {
   "cell_type": "code",
   "execution_count": 23,
   "metadata": {},
   "outputs": [
    {
     "name": "stdout",
     "output_type": "stream",
     "text": [
      "True\n",
      "True\n",
      "True\n",
      "True\n"
     ]
    }
   ],
   "source": [
    "# Test task_08_func\n",
    "lst = [(2, 1, 7, 4), (6, 3, 8, 2), (7, 12, -1, -5), (8, 5, 6, -3)]\n",
    "\n",
    "true_gen_0 = (lst[i] for i in [3, 2, 1, 0])\n",
    "true_gen_1 = (lst[i] for i in [2, 3, 1, 0])\n",
    "true_gen_2 = (lst[i] for i in [1, 0, 3, 2])\n",
    "true_gen_3 = (lst[i] for i in [0, 1, 3, 2])\n",
    "\n",
    "gen_0 = task_08_func(lst, 0)\n",
    "gen_1 = task_08_func(lst, 1)\n",
    "gen_2 = task_08_func(lst, 2)\n",
    "gen_3 = task_08_func(lst, 3)\n",
    "\n",
    "print(list(true_gen_0) == list(gen_0))\n",
    "print(list(true_gen_1) == list(gen_1))\n",
    "print(list(true_gen_2) == list(gen_2))\n",
    "print(list(true_gen_3) == list(gen_3))"
   ]
  },
  {
   "cell_type": "markdown",
   "metadata": {},
   "source": [
    "__Задание 9 (1 балл):__ Напишите функцию, которая получает на вход натуральное число `n` и выводит первые `n` строк треугольника Паскаля."
   ]
  },
  {
   "cell_type": "code",
   "execution_count": 24,
   "metadata": {},
   "outputs": [],
   "source": [
    "def task_09_func(n):\n",
    "    if not isinstance(n, int):\n",
    "        raise TypeError(f\"Expected int, got {type(n)}\")\n",
    "        \n",
    "    if n <= 0:\n",
    "        raise ValueError(\"'n' should be positibe\")\n",
    "        \n",
    "    pascal_triangle = list()\n",
    "    \n",
    "    for level_ind in range(n):\n",
    "        level = list()\n",
    "        level_size = level_ind + 1\n",
    "        \n",
    "        for i in range(level_size):\n",
    "            if i == 0 or i == level_size-1:\n",
    "                level.append(1)\n",
    "            else:\n",
    "                num = pascal_triangle[-1][i-1] + pascal_triangle[-1][i]\n",
    "                level.append(num)\n",
    "        \n",
    "        pascal_triangle.append(level)\n",
    "    \n",
    "    return pascal_triangle"
   ]
  },
  {
   "cell_type": "code",
   "execution_count": 25,
   "metadata": {},
   "outputs": [
    {
     "name": "stdout",
     "output_type": "stream",
     "text": [
      "True\n",
      "True\n",
      "True\n",
      "True\n"
     ]
    }
   ],
   "source": [
    "# Test 'task_09_func'\n",
    "print(task_09_func(1) == [[1]])\n",
    "print(task_09_func(4) == [[1], [1, 1], [1, 2, 1], [1, 3, 3, 1]])\n",
    "\n",
    "print(task_09_func(7) == [[1], [1, 1], [1, 2, 1], [1, 3, 3, 1],\n",
    "                          [1, 4, 6, 4, 1], [1, 5, 10, 10, 5, 1],\n",
    "                          [1, 6, 15, 20, 15, 6, 1]])\n",
    "\n",
    "print(task_09_func(10) == [[1], [1, 1], [1, 2, 1], [1, 3, 3, 1],\n",
    "                          [1, 4, 6, 4, 1], [1, 5, 10, 10, 5, 1],\n",
    "                          [1, 6, 15, 20, 15, 6, 1],  \n",
    "                          [1, 7, 21, 35, 35, 21, 7, 1],\n",
    "                          [1, 8, 28, 56, 70, 56, 28, 8, 1],\n",
    "                          [1, 9, 36, 84, 126, 126, 84, 36, 9, 1]])"
   ]
  },
  {
   "cell_type": "markdown",
   "metadata": {},
   "source": [
    "__Задание 10 (1 балл):__ Напишите функцию, которая принимает на вход абсолютный путь к директории и две строки с расширениями файлов. В результате её выполнения у всех файлов в указанной директории, имеющих первое расширение, расширение должно измениться на второе. В конце работы функция должна возвращать кортеж из двух элементов:\n",
    "\n",
    "1. сколько всего в директории файлов (именно файлов, не директорий);\n",
    "2. у скольки из них расширение было изменено.\n",
    "\n",
    "Допускается только один проход по каждому файлу из указанной директории."
   ]
  },
  {
   "cell_type": "code",
   "execution_count": 26,
   "metadata": {},
   "outputs": [],
   "source": [
    "def task_10_func(dir_path, prev_extension, next_extension):\n",
    "    file_counter = 0\n",
    "    changed_ext_counter = 0\n",
    "    \n",
    "    for filename in os.listdir(dir_path):\n",
    "        filepath = Path(dir_path + filename)\n",
    "        if filepath.is_file():\n",
    "            file_counter += 1\n",
    "            \n",
    "        if filepath.suffix == prev_extension:\n",
    "            new_filename = filepath.stem + next_extension \n",
    "            filepath.rename(Path(filepath.parent, new_filename))\n",
    "            changed_ext_counter += 1\n",
    "            \n",
    "    return file_counter, changed_ext_counter"
   ]
  },
  {
   "cell_type": "code",
   "execution_count": 27,
   "metadata": {},
   "outputs": [
    {
     "name": "stdout",
     "output_type": "stream",
     "text": [
      "True\n",
      "True\n"
     ]
    }
   ],
   "source": [
    "# Test 'task_10_func'\n",
    "os.mkdir(\"tmp_dir\")\n",
    "os.mkdir(\"tmp_dir/tmp_subdir\")\n",
    "os.mknod(\"./tmp_dir/a.txt\")\n",
    "os.mknod(\"./tmp_dir/b.txt\")\n",
    "os.mknod(\"./tmp_dir/d.txt\")\n",
    "os.mknod(\"./tmp_dir/m.txt\")\n",
    "os.mknod(\"./tmp_dir/e.word\")\n",
    "os.mknod(\"./tmp_dir/f.word\")\n",
    "os.mknod(\"./tmp_dir/c.word\")\n",
    "os.mknod(\"./tmp_dir/tmp_subdir/x.txt\")\n",
    "\n",
    "print(task_10_func(\"./tmp_dir/\", \".txt\", \".odt\") == (7, 4))\n",
    "\n",
    "os.mknod(\"./tmp_dir/tmp_filename\")\n",
    "\n",
    "print(task_10_func(\"./tmp_dir/\", \".word\", \".txt\") == (8, 3))\n",
    "\n",
    "shutil.rmtree(\"./tmp_dir/\")"
   ]
  },
  {
   "cell_type": "markdown",
   "metadata": {},
   "source": [
    "__Задание 11 (1 балл):__ Описать функцию, которая принимает на вход два списка и возвращает список уникальных элементов, которые есть в первом входном списке и отсутствуют во втором. Запрещается использовать циклы и списковые включения/генераторы списков."
   ]
  },
  {
   "cell_type": "code",
   "execution_count": 28,
   "metadata": {},
   "outputs": [],
   "source": [
    "def task_11_func(first_list, second_list):\n",
    "    if not isinstance(first_list, list):\n",
    "        raise TypeError(\"`first_list` is expected to be list,\"\n",
    "                        f\"but got {type(first_list)}\")\n",
    "    \n",
    "    if not isinstance(second_list, list):\n",
    "        raise TypeError(\"`second_list` is expected to be list,\"\n",
    "                        f\"but got {type(second_list)}\")\n",
    "        \n",
    "    first_set = set(first_list)\n",
    "    second_set = set(second_list)\n",
    "    difference = first_set - second_set\n",
    "    \n",
    "    return list(difference)"
   ]
  },
  {
   "cell_type": "code",
   "execution_count": 29,
   "metadata": {},
   "outputs": [
    {
     "name": "stdout",
     "output_type": "stream",
     "text": [
      "True\n",
      "True\n",
      "True\n",
      "True\n"
     ]
    }
   ],
   "source": [
    "# Test 'task_11_func'\n",
    "print(set(task_11_func([1, 2, 3], [2, 3, 4])) == set([1]))\n",
    "print(set(task_11_func([2, 3, 3, 2], [2, 3, 4])) == set())\n",
    "print(set(task_11_func([2, 7, 8, 1], [6, 4, 5])) == set([1, 2, 7, 8]))\n",
    "print(set(task_11_func([1, 2, 1, 1, 0], [2, 2])) == set([0, 1]))"
   ]
  },
  {
   "cell_type": "markdown",
   "metadata": {},
   "source": [
    "__Задание 12 (1 балл):__ Напишите функцию, которая получает на вход путь к файлу, в котором в каждой строке записано одно вещественное число, а также путь к выходному файлу. Функция должна прочитать содержимое файла, игнорировать строки с нечётными индексами, а строки с чётными индексами должна увеличить на минимальное из чисел, содержащихся в этом файле. Полученные числа нужно записать в выходной файл с точностью 5 знаков после запятой.\n",
    "\n",
    "Требуется сделать не более двух проходов по входному файлу, расход памяти на протяжении работы должен быть O(1) (то есть никак не зависеть от числа строк во входном файле)."
   ]
  },
  {
   "cell_type": "code",
   "execution_count": 30,
   "metadata": {},
   "outputs": [],
   "source": [
    "def task_12_func(input_path, output_path):\n",
    "    min_num = math.inf\n",
    "    \n",
    "    with open(input_path, \"r\") as input_file_obj:\n",
    "        for line in input_file_obj.readlines():\n",
    "            try:\n",
    "                num = float(line)\n",
    "            except ValueError:\n",
    "                raise ValueError(\"Wrong content of file\")\n",
    "            \n",
    "            if num < min_num:\n",
    "                min_num = num\n",
    "                \n",
    "    outp_file_obj = open(output_path, \"w\")\n",
    "    \n",
    "    with open(input_path, \"r\") as input_file_obj:\n",
    "        for i, line in enumerate(input_file_obj.readlines()):\n",
    "            num = float(line)\n",
    "            \n",
    "            if i % 2:\n",
    "                outp_file_obj.write(f\"{num:.5f}\\n\")\n",
    "            else:\n",
    "                outp_file_obj.write(f\"{num+min_num:.5f}\\n\")\n",
    "    \n",
    "    outp_file_obj.close()"
   ]
  },
  {
   "cell_type": "code",
   "execution_count": 31,
   "metadata": {},
   "outputs": [],
   "source": [
    "# Test task_12_func\n",
    "def write_to_file(filename, numbers):\n",
    "    with open(filename, \"w\") as file_obj:\n",
    "        file_obj.write(\"\\n\".join([f\"{num:.5f}\" for num in numbers]))\n",
    "\n",
    "\n",
    "def compare_files(first_file, second_file):\n",
    "    first_fd = open(first_file, \"r\")\n",
    "    second_fd = open(second_file, \"r\")\n",
    "    \n",
    "    if len(first_fd.readlines()) != len(second_fd.readlines()):\n",
    "        first_fd.close()\n",
    "        second_fd.close()\n",
    "        return False\n",
    "    \n",
    "    first_fd = open(first_file, \"r\")\n",
    "    second_fd = open(second_file, \"r\")\n",
    "    \n",
    "    for first_line, second_line in zip(first_fd.readlines(), second_fd.readlines()):\n",
    "        if first_line.strip() != second_line.strip():\n",
    "            first_fd.close()\n",
    "            second_fd.close()\n",
    "            return False\n",
    "        \n",
    "        \n",
    "    return True"
   ]
  },
  {
   "cell_type": "code",
   "execution_count": 32,
   "metadata": {},
   "outputs": [
    {
     "name": "stdout",
     "output_type": "stream",
     "text": [
      "True\n",
      "True\n",
      "True\n",
      "True\n",
      "True\n",
      "True\n",
      "True\n"
     ]
    }
   ],
   "source": [
    "nums_1 = [2.1, -7.81, 5.132, -3.1252, 7.091341, 1.65235]\n",
    "ans_1 = [-5.71, -7.81, -2.678, -3.1252, -0.71866, 1.65235]\n",
    "write_to_file(\"nums_1.txt\", nums_1)\n",
    "write_to_file(\"ans_1.txt\", ans_1)\n",
    "task_12_func(\"nums_1.txt\", \"out_1.txt\")\n",
    "print(compare_files(\"out_1.txt\", \"ans_1.txt\") == True)\n",
    "\n",
    "nums_1 = [3.14]\n",
    "ans_1 = [6.28]\n",
    "write_to_file(\"nums_1.txt\", nums_1)\n",
    "write_to_file(\"ans_1.txt\", ans_1)\n",
    "task_12_func(\"nums_1.txt\", \"out_1.txt\")\n",
    "print(compare_files(\"out_1.txt\", \"ans_1.txt\") == True)\n",
    "\n",
    "nums_1 = [3.14]\n",
    "ans_1 = [0]\n",
    "write_to_file(\"nums_1.txt\", nums_1)\n",
    "write_to_file(\"ans_1.txt\", ans_1)\n",
    "task_12_func(\"nums_1.txt\", \"out_1.txt\")\n",
    "print(compare_files(\"out_1.txt\", \"ans_1.txt\") == False)\n",
    "\n",
    "nums_1 = []\n",
    "ans_1 = []\n",
    "write_to_file(\"nums_1.txt\", nums_1)\n",
    "write_to_file(\"ans_1.txt\", ans_1)\n",
    "task_12_func(\"nums_1.txt\", \"out_1.txt\")\n",
    "print(compare_files(\"out_1.txt\", \"ans_1.txt\") == True)\n",
    "\n",
    "nums_1 = []\n",
    "ans_1 = [2, 5, 1]\n",
    "write_to_file(\"nums_1.txt\", nums_1)\n",
    "write_to_file(\"ans_1.txt\", ans_1)\n",
    "task_12_func(\"nums_1.txt\", \"out_1.txt\")\n",
    "print(compare_files(\"out_1.txt\", \"ans_1.txt\") == False)\n",
    "\n",
    "nums_1 = [2, 5, 6, -3, 4, 1, 7]\n",
    "ans_1 = [-1, 5, 3, -3, 1, 1, 4]\n",
    "write_to_file(\"nums_1.txt\", nums_1)\n",
    "write_to_file(\"ans_1.txt\", ans_1)\n",
    "task_12_func(\"nums_1.txt\", \"out_1.txt\")\n",
    "print(compare_files(\"out_1.txt\", \"ans_1.txt\") == True)\n",
    "\n",
    "nums_1 = [2, 5, 6, -3, 4, 1, 7]\n",
    "ans_1 = [-1, 4, 3, -3, 1, 1, 4]\n",
    "write_to_file(\"nums_1.txt\", nums_1)\n",
    "write_to_file(\"ans_1.txt\", ans_1)\n",
    "task_12_func(\"nums_1.txt\", \"out_1.txt\")\n",
    "print(compare_files(\"out_1.txt\", \"ans_1.txt\") == False)\n",
    "\n",
    "os.remove(\"nums_1.txt\")\n",
    "os.remove(\"ans_1.txt\")\n",
    "os.remove(\"out_1.txt\")"
   ]
  },
  {
   "cell_type": "markdown",
   "metadata": {},
   "source": [
    "__Задание 13 (1 балл):__ Написать функцию, которая принимает на вход число `n`, которое может быть либо натуральным, либо -1, и возвращает генератор чисел Фиббоначи. Если входной параметр равен натуральному числу, то генератор должен выдавать последовательно числа Фиббоначи до `n`-го. Если `n` равно -1, то генератор должен быть бесконечным."
   ]
  },
  {
   "cell_type": "code",
   "execution_count": 33,
   "metadata": {},
   "outputs": [],
   "source": [
    "def task_13_func(n):\n",
    "    if not isinstance(n, int):\n",
    "        raise TypeError(f\"Expected int, got {type(n)}\")\n",
    "        \n",
    "    if n < -1:\n",
    "        raise ValueError(\"'n' should be greater or equal than -1\")\n",
    "        \n",
    "    prev_prev_fib = 0\n",
    "    prev_fib = 1\n",
    "    \n",
    "    yield prev_prev_fib\n",
    "    \n",
    "    if n != 0:\n",
    "        yield prev_fib\n",
    "        \n",
    "    gen_step = 2\n",
    "    \n",
    "    while True:\n",
    "        if gen_step > n and n != -1:\n",
    "            break\n",
    "        \n",
    "        gen_step += 1\n",
    "        \n",
    "        curr_num = prev_fib + prev_prev_fib\n",
    "        prev_prev_fib = prev_fib\n",
    "        prev_fib = curr_num\n",
    "\n",
    "        yield curr_num"
   ]
  },
  {
   "cell_type": "code",
   "execution_count": 34,
   "metadata": {},
   "outputs": [
    {
     "name": "stdout",
     "output_type": "stream",
     "text": [
      "True\n",
      "True\n",
      "True\n",
      "True\n",
      "True\n",
      "OK\n"
     ]
    }
   ],
   "source": [
    "# Test 'task_13_func'\n",
    "gen_inf = task_13_func(-1)\n",
    "gen_0 = task_13_func(0)\n",
    "gen_1 = task_13_func(1)\n",
    "gen_3 = task_13_func(3)\n",
    "gen_5 = task_13_func(5)\n",
    "gen_10 = task_13_func(10)\n",
    "\n",
    "print(list(gen_0) == [0])\n",
    "print(list(gen_1) == [0, 1])\n",
    "print(list(gen_3) == [0, 1, 1, 2])\n",
    "print(list(gen_5) == [0, 1, 1, 2, 3, 5])\n",
    "print(list(gen_10) == [0, 1, 1, 2, 3, 5, 8, 13, 21, 34, 55])\n",
    "\n",
    "curr_time = time.time()\n",
    "timeout = 5 # in seconds\n",
    "\n",
    "for _ in gen_inf:\n",
    "    if time.time() - curr_time > timeout:\n",
    "        break\n",
    "print(\"OK\")"
   ]
  },
  {
   "cell_type": "markdown",
   "metadata": {},
   "source": [
    "__Задание 14 (1 балл):__ Написать функцию, которая принимает на вход произвольный объект, проверяет его тип, и для целого числа возвращает список всех магических методов объекта, начинающихся с `__a`, для строк - с `__s`. Для всех прочих типов должен возвращаться список немагических методов. В задании запрещается использовать циклы и списковые включения/генераторы списков."
   ]
  },
  {
   "cell_type": "code",
   "execution_count": 35,
   "metadata": {},
   "outputs": [],
   "source": [
    "def task_14_func(n):\n",
    "    if isinstance(n, int):\n",
    "        filter_func = lambda method: method.startswith(\"__a\") and \\\n",
    "                                     method.endswith(\"__\")\n",
    "    elif isinstance(n, str):\n",
    "        filter_func = lambda method: method.startswith(\"__s\") and \\\n",
    "                                     method.endswith(\"__\")\n",
    "    else:\n",
    "        filter_func = lambda method: not method.startswith(\"__\") and \\\n",
    "                        callable(getattr(n, method))\n",
    "        \n",
    "    return list(filter(filter_func, dir(n)))"
   ]
  },
  {
   "cell_type": "code",
   "execution_count": 36,
   "metadata": {},
   "outputs": [
    {
     "name": "stdout",
     "output_type": "stream",
     "text": [
      "True\n",
      "True\n",
      "True\n",
      "True\n"
     ]
    }
   ],
   "source": [
    "# Test 'task_14_func'\n",
    "class ComplexNumber(object):\n",
    "    real_part = 0\n",
    "    im_part = 0\n",
    " \n",
    "    def __init__(self, x, y):\n",
    "        self.real_part = x\n",
    "        self.im_part = y\n",
    " \n",
    "    def add(self, x, y):\n",
    "        self.real_part += x\n",
    "        self.im_part -= y\n",
    "\n",
    "        \n",
    "print(task_14_func(0) == ['__abs__', '__add__', '__and__'])\n",
    "print(task_14_func(\"\") == [ '__setattr__', '__sizeof__', '__str__', \n",
    "                           '__subclasshook__'])\n",
    "print(task_14_func(()) == [ 'count', 'index'])\n",
    "print(task_14_func(ComplexNumber(2, 3)) == ['add'])"
   ]
  },
  {
   "cell_type": "markdown",
   "metadata": {},
   "source": [
    "__Задание 15 (1.5 балла):__ Написать функцию, которая во входной строке заменяет вхождения всех английских заглавных букв на их номер в таблице ASCII, затем производит сплит по минимальной из цифр строки. Предложите как минимум два различных решения, одно из которых не должно использовать циклы. При использовании циклов допускается не более двух проходов по строке."
   ]
  },
  {
   "cell_type": "code",
   "execution_count": 37,
   "metadata": {},
   "outputs": [],
   "source": [
    "def task_15_func_1(s):\n",
    "    if not isinstance(s, str):\n",
    "        raise TypeError(f\"Expected str, got {type(s)}\")\n",
    "        \n",
    "    result = \"\"\n",
    "    min_digit = -1\n",
    "    \n",
    "    for sign in s:\n",
    "        if sign.isalpha() and sign.isupper():\n",
    "            ascii_code = ord(sign) # between 65 and 90\n",
    "            min_ascii_code_digit = min(ascii_code // 10, ascii_code % 10)\n",
    "            \n",
    "            if min_ascii_code_digit < min_digit or min_digit == -1:\n",
    "                min_digit = min_ascii_code_digit\n",
    "                \n",
    "            result += str(ascii_code)\n",
    "            \n",
    "        else:\n",
    "            if sign.isdigit():\n",
    "                if int(sign) < min_digit or min_digit == -1:\n",
    "                    min_digit = int(sign)\n",
    "                    \n",
    "            result += sign\n",
    "            \n",
    "    \n",
    "    return result.split(str(min_digit))\n",
    "\n",
    "\n",
    "def task_15_func_2(s):\n",
    "    if not isinstance(s, str):\n",
    "        raise TypeError(f\"Expected str, got {type(s)}\")\n",
    "        \n",
    "    map_func = lambda sign: str(ord(sign)) \\\n",
    "                    if sign.isalpha() and sign.isupper() else sign\n",
    "    modified_str = \"\".join(map(map_func, s))\n",
    "    s_digits = list(filter(str.isdigit, modified_str))\n",
    "    \n",
    "    if len(s_digits) == 0:\n",
    "        return [modified_str]\n",
    "    else:\n",
    "        return modified_str.split(min(s_digits))"
   ]
  },
  {
   "cell_type": "code",
   "execution_count": 38,
   "metadata": {},
   "outputs": [
    {
     "name": "stdout",
     "output_type": "stream",
     "text": [
      "True\n",
      "True\n",
      "True\n",
      "True\n",
      "True\n",
      "True\n"
     ]
    }
   ],
   "source": [
    "# Test 'task_15_func_1'\n",
    "print(task_15_func_1(\"-[];',.fan'\") == [\"-[];',.fan'\"])\n",
    "print(task_15_func_1(\"digits2514\") == ['digits25', '4'])\n",
    "print(task_15_func_1(\"cApitAl\") == ['c6', 'pit6', 'l'])\n",
    "print(task_15_func_1(\"FFmixed0550646\") == ['7', '7', 'mixed', '55', '646'])\n",
    "print(task_15_func_1(\"ABCDE4tmp5678\") == ['6566676869', 'tmp5678'])\n",
    "print(task_15_func_1(\"67Geo345\") == ['677', 'eo345'])"
   ]
  },
  {
   "cell_type": "code",
   "execution_count": 39,
   "metadata": {},
   "outputs": [
    {
     "name": "stdout",
     "output_type": "stream",
     "text": [
      "True\n",
      "True\n",
      "True\n",
      "True\n",
      "True\n",
      "True\n"
     ]
    }
   ],
   "source": [
    "# Test 'task_15_func_2'\n",
    "print(task_15_func_2(\"-[];',.fan'\") == [\"-[];',.fan'\"])\n",
    "print(task_15_func_2(\"digits2514\") == ['digits25', '4'])\n",
    "print(task_15_func_2(\"cApitAl\") == ['c6', 'pit6', 'l'])\n",
    "print(task_15_func_2(\"FFmixed0550646\") == ['7', '7', 'mixed', '55', '646'])\n",
    "print(task_15_func_2(\"ABCDE4tmp5678\") == ['6566676869', 'tmp5678'])\n",
    "print(task_15_func_2(\"67Geo345\") == ['677', 'eo345'])"
   ]
  },
  {
   "cell_type": "markdown",
   "metadata": {},
   "source": [
    "__Задание 16 (1.5 балла):__ Написать функцию, которая принимает на вход строку и извлекает из неё мобильные телефонные номера с помощью регулярных выражений. Функция должна поддерживать общепринятые варианты написания номера, как со всевозможными разделителями, так и без них (обеспечьте поддержку не менее 10 различных случаев). Возвращаемым значением функции является список всех найденных в строке номеров, если их не было, нужно вернуть пустой список."
   ]
  },
  {
   "cell_type": "code",
   "execution_count": 40,
   "metadata": {},
   "outputs": [],
   "source": [
    "def task_16_func(s):\n",
    "    if not isinstance(s, str):\n",
    "        raise TypeError(f\"Expected str, got {type(s)}\")\n",
    "        \n",
    "    first_phone_re = \"\\+?([7-8][-( ]{0,2}?\\d{3}[-) ]{0,2}\" + \\\n",
    "                     \"\\d{3}[- ]?\\d{2}[- ]?\\d{2})|\"\n",
    "    second_phone_re = \"\\+?([7-8][-( ]{0,2}?\\d{4}[-) ]{0,2}\" + \\\n",
    "                      \"\\d{2}[- ]?\\d{2}[- ]?\\d{2})|\"\n",
    "    third_phone_re = \"\\+?([7-8][-( ]{0,2}?\\d{5}[-) ]{0,2}\" + \\\n",
    "                     \"(\\d)[- ]?\\d{2}[- ]?\\d{2})\"\n",
    "    \n",
    "    total_phone_re = first_phone_re + second_phone_re + third_phone_re\n",
    "    phone_pattern = re.compile(total_phone_re)\n",
    "    phones = phone_pattern.findall(s) # [('<number>', '', '', ''), ...]\n",
    "    \n",
    "    filtered_phones = list(map(lambda elem: max(elem, key=len), phones))\n",
    "    \n",
    "    return filtered_phones"
   ]
  },
  {
   "cell_type": "code",
   "execution_count": 41,
   "metadata": {},
   "outputs": [
    {
     "name": "stdout",
     "output_type": "stream",
     "text": [
      "True\n",
      "True\n",
      "True\n",
      "True\n",
      "True\n",
      "True\n",
      "True\n",
      "True\n",
      "True\n",
      "True\n",
      "True\n",
      "True\n",
      "True\n"
     ]
    }
   ],
   "source": [
    "# test 'task_16_func'\n",
    "print(task_16_func(\"Mobile phone: +7 927 132 52 16, other text\") == [\"7 927 132 52 16\"])\n",
    "print(task_16_func(\"Mobile phone: +7 (927) 132-52-16, other text\") == [\"7 (927) 132-52-16\"])\n",
    "print(task_16_func(\"Mobile phone: +7-927-132-52-16, other text\") == [\"7-927-132-52-16\"])\n",
    "print(task_16_func(\"Mobile phone: 89271325216, other text\") == [\"89271325216\"])\n",
    "print(task_16_func(\"Mobile phone: 9271325216, other text\") == [])\n",
    "print(task_16_func(\"Mobile phone: 8 3241 324543, other text\") == [\"8 3241 324543\"])\n",
    "print(task_16_func(\"Mobile phone: 8 (3241) 32-45-43, other text\") == [\"8 (3241) 32-45-43\"])\n",
    "print(task_16_func(\"Mobile phone: 8 34783 31333, other text\") == [\"8 34783 31333\"])\n",
    "print(task_16_func(\"Mobile phone: 8 (34783)3 13 33, other text\") == [\"8 (34783)3 13 33\"])\n",
    "print(task_16_func(\"Mobile phone: +7 927 1325216, other text\") == [\"7 927 1325216\"])\n",
    "print(task_16_func(\"Mobile phone: +7 927 132 52 16, other text\") == [\"7 927 132 52 16\"])\n",
    "print(task_16_func(\"AB 42 124 8 927 132 52 16 532 421 BA\") == ['8 927 132 52 16'])\n",
    "print(task_16_func(\"Phone1: 8 927 132 52 16; 8 (34783)3 13 33 - phone2\") == ['8 927 132 52 16', '8 (34783)3 13 33'])"
   ]
  },
  {
   "cell_type": "markdown",
   "metadata": {},
   "source": [
    "__Задание 17 (5 баллов):__ Опишем бинарное дерево, представленное в виде вложенных кортежей, в каждом узле дерева хранится вещественное число и ссылка на левое и правое поддерево.\n",
    "\n",
    "Пример: для сбалансированного дерева\n",
    "\n",
    "```\n",
    "        v_0\n",
    "       /   \\\n",
    "   v_11     v_12\n",
    "  /  \\       /  \\\n",
    "v_21 v_22  v_23 v_24\n",
    "```\n",
    "\n",
    "представление в виде кортежей будет выглядеть так:\n",
    "\n",
    "```\n",
    "(v_0,\n",
    "    (v_11,\n",
    "        (v_21, None, None),\n",
    "        (v_22, None, None)\n",
    "    ),\n",
    "    (v_12,\n",
    "        (v_23, None, None),\n",
    "        (v_24, None, None)\n",
    "    )\n",
    ")\n",
    "```\n",
    "\n",
    "Необходимо написать функцию, которая принимает на вход бинарное дерево (не обязательно сбалансированное), закодированное описанным способом в виде кортежа, производит его обход в глубину и для каждой листовой вершины вычисляет сумму всех значений от корня до неё включительно. Функция ничего не возвращает, вместо этого она выводит получаемые суммы в порядке следования листовых вершин (слева направо).\n",
    "\n",
    "Реализуйте два решения: на основе рекурсии и на основе циклов."
   ]
  },
  {
   "cell_type": "code",
   "execution_count": 42,
   "metadata": {},
   "outputs": [],
   "source": [
    "def task_17_func_2(tree, curr_sum=0):\n",
    "    if tree is None:\n",
    "        return\n",
    "    \n",
    "    if not isinstance(tree, tuple):\n",
    "        raise TypeError(f\"Expected tuple, got {type(tree)}\")\n",
    "                \n",
    "    val, left_tree, right_tree = tree\n",
    "    curr_sum += val\n",
    "    print(curr_sum, end=' ')\n",
    "    \n",
    "    task_17_func_2(left_tree, curr_sum)\n",
    "    task_17_func_2(right_tree, curr_sum)"
   ]
  },
  {
   "cell_type": "code",
   "execution_count": 43,
   "metadata": {},
   "outputs": [
    {
     "name": "stdout",
     "output_type": "stream",
     "text": [
      "Expected: 0 11 32 33 12 35 36\n",
      "Got: 0 11 32 33 12 35 36 \n",
      "Expected: 10\n",
      "Got: 10 \n",
      "Expected: 0 11 33 12 35\n",
      "Got: 0 11 33 12 35 \n"
     ]
    }
   ],
   "source": [
    "# Test 'task_17_func_2'\n",
    "tree_1 = (0,\n",
    "    (11,\n",
    "        (21, None, None),\n",
    "        (22, None, None)\n",
    "    ),\n",
    "    (12,\n",
    "        (23, None, None),\n",
    "        (24, None, None)\n",
    "    )\n",
    ")\n",
    "\n",
    "print(\"Expected: 0 11 32 33 12 35 36\")\n",
    "print(\"Got:\", end=\" \")\n",
    "task_17_func_2(tree_1)\n",
    "print(\"\")\n",
    "\n",
    "tree_2 = (10,\n",
    "    None, \n",
    "    None\n",
    ")\n",
    "\n",
    "print(\"Expected: 10\")\n",
    "print(\"Got:\", end=\" \")\n",
    "task_17_func_2(tree_2)\n",
    "print(\"\")\n",
    "\n",
    "tree_3 = (0,\n",
    "    (11,\n",
    "        None,\n",
    "        (22, None, None)\n",
    "    ),\n",
    "    (12,\n",
    "        (23, None, None),\n",
    "        None,\n",
    "    )\n",
    ")\n",
    "\n",
    "print(\"Expected: 0 11 33 12 35\")\n",
    "print(\"Got:\", end=\" \")\n",
    "task_17_func_2(tree_3)\n",
    "print(\"\")"
   ]
  }
 ],
 "metadata": {
  "kernelspec": {
   "display_name": "Python 3",
   "language": "python",
   "name": "python3"
  },
  "language_info": {
   "codemirror_mode": {
    "name": "ipython",
    "version": 3
   },
   "file_extension": ".py",
   "mimetype": "text/x-python",
   "name": "python",
   "nbconvert_exporter": "python",
   "pygments_lexer": "ipython3",
   "version": "3.8.10"
  }
 },
 "nbformat": 4,
 "nbformat_minor": 2
}
